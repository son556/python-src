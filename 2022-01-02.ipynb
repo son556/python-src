{
 "cells": [
  {
   "cell_type": "code",
   "execution_count": 5,
   "metadata": {},
   "outputs": [
    {
     "name": "stdout",
     "output_type": "stream",
     "text": [
      "<class 'pandas.core.series.Series'>\n",
      "\n",
      "\n",
      "a    1\n",
      "b    2\n",
      "c    3\n",
      "dtype: int64\n",
      "1\n",
      "Index(['a', 'b', 'c'], dtype='object') [1 2 3]\n"
     ]
    }
   ],
   "source": [
    "import pandas as pd\n",
    "\n",
    "dict_data = {'a':1, 'b':2, 'c':3}\n",
    "sr = pd.Series(dict_data)\n",
    "\n",
    "print(type(sr))\n",
    "print('\\n')\n",
    "print(sr)\n",
    "print(sr[0])\n",
    "print(sr.index, sr.values)"
   ]
  },
  {
   "cell_type": "code",
   "execution_count": 14,
   "metadata": {},
   "outputs": [
    {
     "name": "stdout",
     "output_type": "stream",
     "text": [
      "name                 a\n",
      "date        2022-01-01\n",
      "sex                  여\n",
      "student?          True\n",
      "dtype: object\n",
      "\n",
      "name    a\n",
      "sex     여\n",
      "dtype: object\n",
      "\n",
      "name           a\n",
      "student?    True\n",
      "dtype: object\n",
      "-------------------\n",
      "a\n",
      "\n",
      "2022-01-01\n",
      "\n",
      "여\n",
      "\n",
      "True\n",
      "\n"
     ]
    }
   ],
   "source": [
    "tup_data = ('a','2022-01-01','여',True)\n",
    "sr = pd.Series(tup_data,index = ['name','date','sex','student?'])\n",
    "print(sr)\n",
    "print()\n",
    "print(sr[[0,2]])\n",
    "print()\n",
    "print(sr[['name','student?']])\n",
    "print('-------------------')\n",
    "for idx in sr:\n",
    "    print(idx)"
   ]
  },
  {
   "cell_type": "code",
   "execution_count": 23,
   "metadata": {},
   "outputs": [
    {
     "name": "stdout",
     "output_type": "stream",
     "text": [
      "name             a\n",
      "date    2022-01-01\n",
      "dtype: object\n",
      "------------\n",
      "name             a\n",
      "date    2022-01-01\n",
      "sex              여\n",
      "dtype: object\n"
     ]
    }
   ],
   "source": [
    "print(sr[0:2])\n",
    "print('------------')\n",
    "print(sr['name':'sex'])"
   ]
  },
  {
   "cell_type": "code",
   "execution_count": 25,
   "metadata": {},
   "outputs": [
    {
     "name": "stdout",
     "output_type": "stream",
     "text": [
      "<class 'pandas.core.frame.DataFrame'>\n",
      "\n",
      "\n"
     ]
    },
    {
     "data": {
      "text/html": [
       "<div>\n",
       "<style scoped>\n",
       "    .dataframe tbody tr th:only-of-type {\n",
       "        vertical-align: middle;\n",
       "    }\n",
       "\n",
       "    .dataframe tbody tr th {\n",
       "        vertical-align: top;\n",
       "    }\n",
       "\n",
       "    .dataframe thead th {\n",
       "        text-align: right;\n",
       "    }\n",
       "</style>\n",
       "<table border=\"1\" class=\"dataframe\">\n",
       "  <thead>\n",
       "    <tr style=\"text-align: right;\">\n",
       "      <th></th>\n",
       "      <th>c0</th>\n",
       "      <th>c1</th>\n",
       "      <th>c2</th>\n",
       "      <th>c3</th>\n",
       "    </tr>\n",
       "  </thead>\n",
       "  <tbody>\n",
       "    <tr>\n",
       "      <th>0</th>\n",
       "      <td>1</td>\n",
       "      <td>4</td>\n",
       "      <td>7</td>\n",
       "      <td>10</td>\n",
       "    </tr>\n",
       "    <tr>\n",
       "      <th>1</th>\n",
       "      <td>2</td>\n",
       "      <td>5</td>\n",
       "      <td>8</td>\n",
       "      <td>11</td>\n",
       "    </tr>\n",
       "    <tr>\n",
       "      <th>2</th>\n",
       "      <td>3</td>\n",
       "      <td>6</td>\n",
       "      <td>9</td>\n",
       "      <td>12</td>\n",
       "    </tr>\n",
       "  </tbody>\n",
       "</table>\n",
       "</div>"
      ],
      "text/plain": [
       "   c0  c1  c2  c3\n",
       "0   1   4   7  10\n",
       "1   2   5   8  11\n",
       "2   3   6   9  12"
      ]
     },
     "execution_count": 25,
     "metadata": {},
     "output_type": "execute_result"
    }
   ],
   "source": [
    "dict_data = {'c0':[1,2,3], 'c1':[4,5,6], 'c2':[7,8,9], 'c3':[10,11,12]}\n",
    "df = pd.DataFrame(dict_data)\n",
    "print(type(df))\n",
    "print('\\n')\n",
    "df"
   ]
  },
  {
   "cell_type": "code",
   "execution_count": 26,
   "metadata": {},
   "outputs": [
    {
     "name": "stdout",
     "output_type": "stream",
     "text": [
      "    나이 성별   학교\n",
      "준서  15  남  덕영중\n",
      "예은  17  여  수리중\n",
      "\n",
      "\n",
      "Index(['준서', '예은'], dtype='object')\n",
      "Index(['나이', '성별', '학교'], dtype='object')\n"
     ]
    }
   ],
   "source": [
    "df = pd.DataFrame([[15,'남', '덕영중'],[17,'여','수리중']],\n",
    "                 index = ['준서','예은'], \n",
    "                  columns = ['나이','성별','학교'])\n",
    "print(df)\n",
    "print('\\n')\n",
    "print(df.index)\n",
    "print(df.columns)"
   ]
  },
  {
   "cell_type": "code",
   "execution_count": 27,
   "metadata": {},
   "outputs": [
    {
     "name": "stdout",
     "output_type": "stream",
     "text": [
      "     연령 남녀   소속\n",
      "학생1  15  남  덕영중\n",
      "학생2  17  여  수리중\n"
     ]
    }
   ],
   "source": [
    "df.rename(columns={'나이':'연령','성별':'남녀','학교':'소속'}, inplace= True)\n",
    "df.rename(index={'준서':'학생1', '예은':'학생2'}, inplace= True)\n",
    "print(df)"
   ]
  },
  {
   "cell_type": "code",
   "execution_count": 34,
   "metadata": {},
   "outputs": [
    {
     "name": "stdout",
     "output_type": "stream",
     "text": [
      "    수학  영어   음악   체육\n",
      "서준  90  98   85  100\n",
      "우현  80  89   95   90\n",
      "인아  70  95  100   90\n",
      "\n",
      "\n",
      "    수학  영어   음악   체육\n",
      "서준  90  98   85  100\n",
      "인아  70  95  100   90\n",
      "\n",
      "\n",
      "    수학  영어  음악   체육\n",
      "서준  90  98  85  100\n"
     ]
    }
   ],
   "source": [
    "exam_data = {'수학':[90,80,70], '영어':[98,89,95],'음악':[85,95,100],\n",
    "            '체육':[100,90,90]}\n",
    "df = pd.DataFrame(exam_data, index=['서준','우현','인아'])\n",
    "print(df)\n",
    "print('\\n')\n",
    "df2 = df.copy()\n",
    "df2.drop('우현', inplace = True)\n",
    "print(df2)\n",
    "print('\\n')\n",
    "df3 = df.copy()\n",
    "df3.drop(['우현','인아'], axis = 0 ,inplace = True)\n",
    "print(df3)"
   ]
  },
  {
   "cell_type": "code",
   "execution_count": 35,
   "metadata": {},
   "outputs": [
    {
     "name": "stdout",
     "output_type": "stream",
     "text": [
      "    영어   음악   체육\n",
      "서준  98   85  100\n",
      "우현  89   95   90\n",
      "인아  95  100   90\n",
      "\n",
      "\n",
      "    수학   체육\n",
      "서준  90  100\n",
      "우현  80   90\n",
      "인아  70   90\n"
     ]
    }
   ],
   "source": [
    "df4 = df.copy()\n",
    "df4.drop('수학',axis = 1, inplace=True)\n",
    "print(df4)\n",
    "print('\\n')\n",
    "df5 = df.copy()\n",
    "df5.drop(['영어','음악'],axis = 1, inplace=True)\n",
    "print(df5)"
   ]
  },
  {
   "cell_type": "code",
   "execution_count": 37,
   "metadata": {},
   "outputs": [
    {
     "name": "stdout",
     "output_type": "stream",
     "text": [
      "수학     90\n",
      "영어     98\n",
      "음악     85\n",
      "체육    100\n",
      "Name: 서준, dtype: int64\n",
      "수학     90\n",
      "영어     98\n",
      "음악     85\n",
      "체육    100\n",
      "Name: 서준, dtype: int64\n"
     ]
    }
   ],
   "source": [
    "label1 = df.loc['서준']\n",
    "position1 = df.iloc[0]\n",
    "print(label1)\n",
    "print(position1)"
   ]
  },
  {
   "cell_type": "code",
   "execution_count": 41,
   "metadata": {},
   "outputs": [
    {
     "data": {
      "text/html": [
       "<div>\n",
       "<style scoped>\n",
       "    .dataframe tbody tr th:only-of-type {\n",
       "        vertical-align: middle;\n",
       "    }\n",
       "\n",
       "    .dataframe tbody tr th {\n",
       "        vertical-align: top;\n",
       "    }\n",
       "\n",
       "    .dataframe thead th {\n",
       "        text-align: right;\n",
       "    }\n",
       "</style>\n",
       "<table border=\"1\" class=\"dataframe\">\n",
       "  <thead>\n",
       "    <tr style=\"text-align: right;\">\n",
       "      <th></th>\n",
       "      <th>수학</th>\n",
       "      <th>영어</th>\n",
       "      <th>음악</th>\n",
       "      <th>체육</th>\n",
       "    </tr>\n",
       "    <tr>\n",
       "      <th>이름</th>\n",
       "      <th></th>\n",
       "      <th></th>\n",
       "      <th></th>\n",
       "      <th></th>\n",
       "    </tr>\n",
       "  </thead>\n",
       "  <tbody>\n",
       "    <tr>\n",
       "      <th>서준</th>\n",
       "      <td>90</td>\n",
       "      <td>98</td>\n",
       "      <td>85</td>\n",
       "      <td>100</td>\n",
       "    </tr>\n",
       "    <tr>\n",
       "      <th>우현</th>\n",
       "      <td>80</td>\n",
       "      <td>89</td>\n",
       "      <td>95</td>\n",
       "      <td>90</td>\n",
       "    </tr>\n",
       "    <tr>\n",
       "      <th>인아</th>\n",
       "      <td>70</td>\n",
       "      <td>95</td>\n",
       "      <td>100</td>\n",
       "      <td>90</td>\n",
       "    </tr>\n",
       "  </tbody>\n",
       "</table>\n",
       "</div>"
      ],
      "text/plain": [
       "    수학  영어   음악   체육\n",
       "이름                  \n",
       "서준  90  98   85  100\n",
       "우현  80  89   95   90\n",
       "인아  70  95  100   90"
      ]
     },
     "execution_count": 41,
     "metadata": {},
     "output_type": "execute_result"
    }
   ],
   "source": [
    "exam_data = {'수학':[90,80,70], '영어':[98,89,95],'음악':[85,95,100],\n",
    "            '체육':[100,90,90], '이름':['서준','우현','인아']}\n",
    "df = pd.DataFrame(exam_data)\n",
    "df.set_index('이름',inplace= True)\n",
    "df"
   ]
  },
  {
   "cell_type": "code",
   "execution_count": 43,
   "metadata": {},
   "outputs": [
    {
     "name": "stdout",
     "output_type": "stream",
     "text": [
      "    음악   체육\n",
      "이름         \n",
      "서준  85  100\n",
      "우현  95   90\n",
      "\n",
      "\n",
      "    수학  영어   음악\n",
      "이름             \n",
      "서준  90  98   85\n",
      "우현  80  89   95\n",
      "인아  70  95  100\n",
      "\n",
      "\n",
      "    음악   체육\n",
      "이름         \n",
      "서준  85  100\n",
      "우현  95   90\n"
     ]
    }
   ],
   "source": [
    "g = df.loc[['서준','우현'],['음악','체육']]\n",
    "print(g)\n",
    "print('\\n')\n",
    "i = df.loc['서준':'인아','수학':'음악']\n",
    "print(i)\n",
    "print('\\n')\n",
    "j = df.iloc[0:2,2:]\n",
    "print(j)"
   ]
  },
  {
   "cell_type": "code",
   "execution_count": 45,
   "metadata": {},
   "outputs": [
    {
     "data": {
      "text/html": [
       "<div>\n",
       "<style scoped>\n",
       "    .dataframe tbody tr th:only-of-type {\n",
       "        vertical-align: middle;\n",
       "    }\n",
       "\n",
       "    .dataframe tbody tr th {\n",
       "        vertical-align: top;\n",
       "    }\n",
       "\n",
       "    .dataframe thead th {\n",
       "        text-align: right;\n",
       "    }\n",
       "</style>\n",
       "<table border=\"1\" class=\"dataframe\">\n",
       "  <thead>\n",
       "    <tr style=\"text-align: right;\">\n",
       "      <th></th>\n",
       "      <th>수학</th>\n",
       "      <th>영어</th>\n",
       "      <th>음악</th>\n",
       "      <th>체육</th>\n",
       "    </tr>\n",
       "    <tr>\n",
       "      <th>이름</th>\n",
       "      <th></th>\n",
       "      <th></th>\n",
       "      <th></th>\n",
       "      <th></th>\n",
       "    </tr>\n",
       "  </thead>\n",
       "  <tbody>\n",
       "    <tr>\n",
       "      <th>서준</th>\n",
       "      <td>90</td>\n",
       "      <td>98</td>\n",
       "      <td>85</td>\n",
       "      <td>100</td>\n",
       "    </tr>\n",
       "    <tr>\n",
       "      <th>우현</th>\n",
       "      <td>80</td>\n",
       "      <td>89</td>\n",
       "      <td>95</td>\n",
       "      <td>90</td>\n",
       "    </tr>\n",
       "    <tr>\n",
       "      <th>인아</th>\n",
       "      <td>70</td>\n",
       "      <td>95</td>\n",
       "      <td>100</td>\n",
       "      <td>90</td>\n",
       "    </tr>\n",
       "    <tr>\n",
       "      <th>수영</th>\n",
       "      <td>99</td>\n",
       "      <td>100</td>\n",
       "      <td>98</td>\n",
       "      <td>97</td>\n",
       "    </tr>\n",
       "  </tbody>\n",
       "</table>\n",
       "</div>"
      ],
      "text/plain": [
       "    수학   영어   음악   체육\n",
       "이름                   \n",
       "서준  90   98   85  100\n",
       "우현  80   89   95   90\n",
       "인아  70   95  100   90\n",
       "수영  99  100   98   97"
      ]
     },
     "execution_count": 45,
     "metadata": {},
     "output_type": "execute_result"
    }
   ],
   "source": [
    "df.loc['수영'] = ['99','100','98','97']\n",
    "df"
   ]
  },
  {
   "cell_type": "code",
   "execution_count": 64,
   "metadata": {},
   "outputs": [
    {
     "ename": "SyntaxError",
     "evalue": "can't assign to function call (<ipython-input-64-cd8d40fb34d6>, line 1)",
     "output_type": "error",
     "traceback": [
      "\u001b[1;36m  File \u001b[1;32m\"<ipython-input-64-cd8d40fb34d6>\"\u001b[1;36m, line \u001b[1;32m1\u001b[0m\n\u001b[1;33m    df.index('이름') = '수혁'\u001b[0m\n\u001b[1;37m                         ^\u001b[0m\n\u001b[1;31mSyntaxError\u001b[0m\u001b[1;31m:\u001b[0m can't assign to function call\n"
     ]
    }
   ],
   "source": [
    "df.index('이름') = '수혁'\n",
    "df"
   ]
  },
  {
   "cell_type": "code",
   "execution_count": 11,
   "metadata": {},
   "outputs": [
    {
     "data": {
      "text/plain": [
       "' <h3>서울</h3>구름많음최저/최고 기온: -7/2<h3>인천</h3>구름많음최저/최고 기온: -7/1<h3>수원</h3>구름많음최저/최고 기온: -8/2<h3>파주</h3>구름많음최저/최고 기온: -11/2<h3>이천</h3>구름많음최저/최고 기온: -9/3<h3>평택</h3>구름많음최저/최고 기온: -8/2<h3>춘천</h3>구름많음최저/최고 기온: -10/2<h3>원주</h3>구름많음최저/최고 기온: -9/3<h3>강릉</h3>구름많음최저/최고 기온: -3/6<h3>대전</h3>구름많음최저/최고 기온: -7/4<h3>세종</h3>구름많음최저/최고 기온: -9/3<h3>홍성</h3>구름많음최저/최고 기온: -8/2<h3>청주</h3>구름많음최저/최고 기온: -7/3<h3>충주</h3>구름많음최저/최고 기온: -10/3<h3>영동</h3>구름많음최저/최고 기온: -10/5<h3>광주</h3>구름많음최저/최고 기온: -4/6<h3>목포</h3>구름많음최저/최고 기온: -3/3<h3>여수</h3>구름많음최저/최고 기온: -1/6<h3>순천</h3>구름많음최저/최고 기온: -3/7<h3>광양</h3>구름많음최저/최고 기온: -2/7<h3>나주</h3>구름많음최저/최고 기온: -6/4<h3>전주</h3>구름많음최저/최고 기온: -5/4<h3>군산</h3>구름많음최저/최고 기온: -5/4<h3>정읍</h3>구름많음최저/최고 기온: -6/4<h3>남원</h3>구름많음최저/최고 기온: -6/6<h3>고창</h3>구름많음최저/최고 기온: -5/4<h3>무주</h3>구름많음최저/최고 기온: -9/5<h3>부산</h3>구름많음최저/최고 기온: 0/9<h3>울산</h3>구름많음최저/최고 기온: -3/7<h3>창원</h3>구름많음최저/최고 기온: -4/6<h3>진주</h3>구름많음최저/최고 기온: -7/6<h3>거창</h3>구름많음최저/최고 기온: -8/6<h3>통영</h3>구름많음최저/최고 기온: -2/8<h3>대구</h3>구름많음최저/최고 기온: -6/5<h3>안동</h3>구름많음최저/최고 기온: -9/5<h3>포항</h3>구름많음최저/최고 기온: -3/7<h3>경주</h3>구름많음최저/최고 기온: -5/8<h3>울진</h3>구름많음최저/최고 기온: -3/6<h3>울릉도</h3>구름많음최저/최고 기온: -1/4<h3>제주</h3>구름많음최저/최고 기온: 3/9<h3>서귀포</h3>구름많음최저/최고 기온: 5/10'"
      ]
     },
     "execution_count": 11,
     "metadata": {},
     "output_type": "execute_result"
    }
   ],
   "source": [
    "import pandas as pd\n",
    "import numpy as np\n",
    "from flask import Flask\n",
    "from urllib import request #1\n",
    "from bs4 import BeautifulSoup\n",
    "city_list = []\n",
    "output_1 = []\n",
    "output_2 = []\n",
    "output_3 = []\n",
    "temp_list = []\n",
    "w_dict = {}\n",
    "app = Flask(__name__)\n",
    "@app.route('/')\n",
    "def hello():\n",
    "    url = 'https://www.weather.go.kr/w/weather/forecast/mid-term.do?stnId=108'\n",
    "    target = request.urlopen(url)\n",
    "    soup = BeautifulSoup(target)\n",
    "    \n",
    "    output = \" \"\n",
    "    for location in soup.find_all('tr'):\n",
    "#         output = \" \"\n",
    "        if location.find('td',class_='midterm-city'):\n",
    "            output_1_1 = \"<h3>{}</h3>\".format(\\\n",
    "                                           location.find('td',class_='midterm-city').text)\n",
    "            city_list.append(location.find('td',class_='midterm-city').text)\n",
    "            output_1.append(output_1_1)\n",
    "            \n",
    "            output_3_3 = \"최저/최고 기온: {}/{}\".format(\\\n",
    "                                            location.find('span',class_='tmn').text,\\\n",
    "                                            location.find('span',class_='tmx').text)\n",
    "            output_3.append(output_3_3)\n",
    "            \n",
    "        if location.find('td') and location.select_one('img'):\n",
    "#             print(location)\n",
    "            data = location.select_one('img').attrs['title']\n",
    "            temp_list.append(data)\n",
    "            \n",
    "#   도시와 날씨의 짝을 맞춰주는 부분. // 실시간 데이터 받기   \n",
    "    for i in range(0,6): \n",
    "        w_dict[city_list[i]]=temp_list[0]\n",
    "    for i in range(6,8):\n",
    "        w_dict[city_list[i]]=temp_list[1]\n",
    "    for i in range(8,9):\n",
    "        w_dict[city_list[i]]= temp_list[2]\n",
    "    for i in range(9,12):\n",
    "        w_dict[city_list[i]]= temp_list[3]\n",
    "    for i in range(12,15):\n",
    "        w_dict[city_list[i]]= temp_list[4]\n",
    "    for i in range(15,21):\n",
    "        w_dict[city_list[i]]= temp_list[5]\n",
    "    for i in range(21,27):\n",
    "        w_dict[city_list[i]]= temp_list[6]\n",
    "    for i in range(27,33,1):\n",
    "        w_dict[city_list[i]]= temp_list[7]\n",
    "    for i in range(33,39,1):\n",
    "        w_dict[city_list[i]]= temp_list[8]\n",
    "    for i in range(39,41,1):\n",
    "        w_dict[city_list[i]]= temp_list[9]\n",
    "    for key, value in w_dict.items():\n",
    "        output_2_2 = \"{}\".format(value)\n",
    "        output_2.append(output_2_2)\n",
    "    for idx, value in enumerate(output_1):\n",
    "        output += output_1[idx]\n",
    "        output += output_2[idx]\n",
    "        output += output_3[idx]\n",
    "    return output\n",
    "hello()"
   ]
  },
  {
   "cell_type": "code",
   "execution_count": 26,
   "metadata": {},
   "outputs": [
    {
     "data": {
      "text/html": [
       "<div>\n",
       "<style scoped>\n",
       "    .dataframe tbody tr th:only-of-type {\n",
       "        vertical-align: middle;\n",
       "    }\n",
       "\n",
       "    .dataframe tbody tr th {\n",
       "        vertical-align: top;\n",
       "    }\n",
       "\n",
       "    .dataframe thead th {\n",
       "        text-align: right;\n",
       "    }\n",
       "</style>\n",
       "<table border=\"1\" class=\"dataframe\">\n",
       "  <thead>\n",
       "    <tr style=\"text-align: right;\">\n",
       "      <th></th>\n",
       "      <th>서울</th>\n",
       "      <th>인천</th>\n",
       "      <th>수원</th>\n",
       "      <th>파주</th>\n",
       "      <th>이천</th>\n",
       "      <th>평택</th>\n",
       "      <th>춘천</th>\n",
       "      <th>원주</th>\n",
       "      <th>강릉</th>\n",
       "      <th>대전</th>\n",
       "      <th>...</th>\n",
       "      <th>거창</th>\n",
       "      <th>통영</th>\n",
       "      <th>대구</th>\n",
       "      <th>안동</th>\n",
       "      <th>포항</th>\n",
       "      <th>경주</th>\n",
       "      <th>울진</th>\n",
       "      <th>울릉도</th>\n",
       "      <th>제주</th>\n",
       "      <th>서귀포</th>\n",
       "    </tr>\n",
       "  </thead>\n",
       "  <tbody>\n",
       "    <tr>\n",
       "      <th>날씨</th>\n",
       "      <td>구름많음</td>\n",
       "      <td>구름많음</td>\n",
       "      <td>구름많음</td>\n",
       "      <td>구름많음</td>\n",
       "      <td>구름많음</td>\n",
       "      <td>구름많음</td>\n",
       "      <td>구름많음</td>\n",
       "      <td>구름많음</td>\n",
       "      <td>구름많음</td>\n",
       "      <td>구름많음</td>\n",
       "      <td>...</td>\n",
       "      <td>구름많음</td>\n",
       "      <td>구름많음</td>\n",
       "      <td>구름많음</td>\n",
       "      <td>구름많음</td>\n",
       "      <td>구름많음</td>\n",
       "      <td>구름많음</td>\n",
       "      <td>구름많음</td>\n",
       "      <td>구름많음</td>\n",
       "      <td>구름많음</td>\n",
       "      <td>구름많음</td>\n",
       "    </tr>\n",
       "    <tr>\n",
       "      <th>기온</th>\n",
       "      <td>최저/최고 기온: -7/2</td>\n",
       "      <td>최저/최고 기온: -7/1</td>\n",
       "      <td>최저/최고 기온: -8/2</td>\n",
       "      <td>최저/최고 기온: -11/2</td>\n",
       "      <td>최저/최고 기온: -9/3</td>\n",
       "      <td>최저/최고 기온: -8/2</td>\n",
       "      <td>최저/최고 기온: -10/2</td>\n",
       "      <td>최저/최고 기온: -9/3</td>\n",
       "      <td>최저/최고 기온: -3/6</td>\n",
       "      <td>최저/최고 기온: -7/4</td>\n",
       "      <td>...</td>\n",
       "      <td>최저/최고 기온: -8/6</td>\n",
       "      <td>최저/최고 기온: -2/8</td>\n",
       "      <td>최저/최고 기온: -6/5</td>\n",
       "      <td>최저/최고 기온: -9/5</td>\n",
       "      <td>최저/최고 기온: -3/7</td>\n",
       "      <td>최저/최고 기온: -5/8</td>\n",
       "      <td>최저/최고 기온: -3/6</td>\n",
       "      <td>최저/최고 기온: -1/4</td>\n",
       "      <td>최저/최고 기온: 3/9</td>\n",
       "      <td>최저/최고 기온: 5/10</td>\n",
       "    </tr>\n",
       "  </tbody>\n",
       "</table>\n",
       "<p>2 rows × 41 columns</p>\n",
       "</div>"
      ],
      "text/plain": [
       "                서울              인천              수원               파주  \\\n",
       "날씨            구름많음            구름많음            구름많음             구름많음   \n",
       "기온  최저/최고 기온: -7/2  최저/최고 기온: -7/1  최저/최고 기온: -8/2  최저/최고 기온: -11/2   \n",
       "\n",
       "                이천              평택               춘천              원주  \\\n",
       "날씨            구름많음            구름많음             구름많음            구름많음   \n",
       "기온  최저/최고 기온: -9/3  최저/최고 기온: -8/2  최저/최고 기온: -10/2  최저/최고 기온: -9/3   \n",
       "\n",
       "                강릉              대전  ...              거창              통영  \\\n",
       "날씨            구름많음            구름많음  ...            구름많음            구름많음   \n",
       "기온  최저/최고 기온: -3/6  최저/최고 기온: -7/4  ...  최저/최고 기온: -8/6  최저/최고 기온: -2/8   \n",
       "\n",
       "                대구              안동              포항              경주  \\\n",
       "날씨            구름많음            구름많음            구름많음            구름많음   \n",
       "기온  최저/최고 기온: -6/5  최저/최고 기온: -9/5  최저/최고 기온: -3/7  최저/최고 기온: -5/8   \n",
       "\n",
       "                울진             울릉도             제주             서귀포  \n",
       "날씨            구름많음            구름많음           구름많음            구름많음  \n",
       "기온  최저/최고 기온: -3/6  최저/최고 기온: -1/4  최저/최고 기온: 3/9  최저/최고 기온: 5/10  \n",
       "\n",
       "[2 rows x 41 columns]"
      ]
     },
     "execution_count": 26,
     "metadata": {},
     "output_type": "execute_result"
    }
   ],
   "source": [
    "import pandas as pd\n",
    "df3 = pd.DataFrame([output_2],columns = city_list, index = ['날씨'])\n",
    "df3.loc['기온'] = output_3\n",
    "df3"
   ]
  },
  {
   "cell_type": "code",
   "execution_count": 24,
   "metadata": {},
   "outputs": [
    {
     "name": "stdout",
     "output_type": "stream",
     "text": [
      "   0  1  2  3  4\n",
      "0  1  2  3  4  5\n",
      "\n",
      "\n",
      "   0\n",
      "0  1\n",
      "1  2\n",
      "2  3\n",
      "3  4\n",
      "4  5\n"
     ]
    }
   ],
   "source": [
    "a_list = [1,2,3,4,5]\n",
    "df_a = pd.DataFrame([a_list], columns = [0,1,2,3,4])\n",
    "print(df_a)\n",
    "print('\\n')\n",
    "df_a_1 = pd.DataFrame(a_list)\n",
    "print(df_a_1)"
   ]
  },
  {
   "cell_type": "code",
   "execution_count": 37,
   "metadata": {},
   "outputs": [
    {
     "name": "stdout",
     "output_type": "stream",
     "text": [
      "이름\t총점\t평균\n",
      "윤인성\t368\t92.0\n",
      "윤인성\t371\t92.75\n",
      "윤인성\t363\t90.75\n",
      "윤인성\t365\t91.25\n",
      "윤인성\t371\t92.75\n",
      "윤인성\t365\t91.25\n"
     ]
    }
   ],
   "source": [
    "students = [{'name':'윤인성','국어':87,'수학':98,'영어':88,'과학':95},\n",
    "           {'name':'연하진','국어':92,'수학':98,'영어':96,'과학':98},\n",
    "           {'name':'구지연','국어':76,'수학':96,'영어':94,'과학':90},\n",
    "           {'name':'나선주','국어':98,'수학':92,'영어':96,'과학':92},\n",
    "           {'name':'윤아린','국어':95,'수학':98,'영어':98,'과학':98},\n",
    "           {'name':'윤인성','국어':64,'수학':88,'영어':92,'과학':92}]\n",
    "print('이름','총점','평균',sep = '\\t')\n",
    "for student in students:\n",
    "    score_sum = studnet['국어'] + studnet['수학'] + studnet['영어'] + student['과학']\n",
    "    score_average = score_sum / 4\n",
    "    print(studnet['name'],score_sum,score_average, sep = '\\t')"
   ]
  },
  {
   "cell_type": "code",
   "execution_count": null,
   "metadata": {},
   "outputs": [],
   "source": [
    "def create_studnet(name, kor, mat, eng, sci):\n",
    "    return {'name' : name,\n",
    "           'kor' : kor,\n",
    "           'mat' : mat,\n",
    "           'eng' : eng,\n",
    "           'sci' : sci}"
   ]
  },
  {
   "cell_type": "code",
   "execution_count": null,
   "metadata": {},
   "outputs": [],
   "source": [
    "students = [create_student('윤인성', 87, 98, 88, 95),\n",
    "            create_student('연하진', 87, 98, 88, 95),\n",
    "           create_student('구지연', 87, 98, 88, 95),\n",
    "           create_student('나선주', 87, 98, 88, 95),\n",
    "           create_student('윤아린', 87, 98, 88, 95),\n",
    "           create_student('윤명월', 87, 98, 88, 95)]"
   ]
  },
  {
   "cell_type": "code",
   "execution_count": 43,
   "metadata": {},
   "outputs": [
    {
     "name": "stdout",
     "output_type": "stream",
     "text": [
      "hello world\n",
      "Mary's cosmetics\n",
      "신씨가 소리질렀다. \"도둑이야\".\n"
     ]
    }
   ],
   "source": [
    "#1.\n",
    "print('hello world')\n",
    "#2\n",
    "print(\"Mary's cosmetics\")\n",
    "#3\n",
    "print('신씨가 소리질렀다. \"도둑이야\".')"
   ]
  },
  {
   "cell_type": "code",
   "execution_count": 45,
   "metadata": {},
   "outputs": [
    {
     "name": "stdout",
     "output_type": "stream",
     "text": [
      "naver;kakao;sk;samsung\n"
     ]
    }
   ],
   "source": [
    "print('naver','kakao','sk;samsung', sep = ';')"
   ]
  },
  {
   "cell_type": "code",
   "execution_count": 65,
   "metadata": {},
   "outputs": [],
   "source": [
    "# 민우는 자신이 구매했던 로또로 당첨이 가능했던 최고 순위와\n",
    "# 최저 순위를 알아보고 싶어 졌습니다.\n",
    "# 민우가 구매한 로또 번호를 담은 배열 lottos, 당첨 번호를 담은 배열 \n",
    "# win_nums가 매개변수로 주어집니다. 이때, 당첨 가능한 최고 순위와 \n",
    "# 최저 순위를 차례대로 배열에 담아서 return 하도록 solution 함수를 완성해주세요\n",
    "def solution(lottos, win_nums):\n",
    "    answer = [0,0]\n",
    "    count = 0\n",
    "    count1 = 0\n",
    "    for i in range(6):\n",
    "        if win_nums[i] in lottos:\n",
    "            count+=1\n",
    "        if lottos[i] == 0:\n",
    "            count1+=1\n",
    "    if count >= 2:\n",
    "        answer[1] = 6 - (count-1)\n",
    "    else:\n",
    "        answer[1] = 6\n",
    "    if count1 == 0:\n",
    "        if count > 1:\n",
    "            answer[0] = 6 - (count-1)\n",
    "        else:\n",
    "            answer[0] = 6\n",
    "    if count1 == 1:\n",
    "        if 1<= count <= 5:\n",
    "            answer[0] = answer[1] -1\n",
    "        elif count==0:\n",
    "            answer[0] = 6\n",
    "        else:\n",
    "            answer[0] = 1\n",
    "    if count1 == 2:\n",
    "        if 1 <= count <= 4:\n",
    "            answer[0] = answer[1]-2\n",
    "        elif count == 0:\n",
    "            answer[0] = 5\n",
    "        else:\n",
    "            answer[0] = 1\n",
    "    if count1 == 3:\n",
    "        if 1<= count <= 3:\n",
    "            answer[0] = answer[1]-3\n",
    "        elif count == 0:\n",
    "            answer[0] = 4\n",
    "        else:\n",
    "            answer[0] = 1\n",
    "    if count1 == 4:\n",
    "        if 1<= count <=2:\n",
    "            answer[0] = answer[1] - 4\n",
    "        elif count == 0:\n",
    "            answer[0] = 3\n",
    "        else:\n",
    "            answer[0] = 1\n",
    "    if count1 == 5:\n",
    "        if count == 0:\n",
    "            answer[0] = 2\n",
    "        else:\n",
    "            answer[0] = 1\n",
    "    if count1 == 6:\n",
    "        answer[0] = 1\n",
    "    return answer, count, count1"
   ]
  },
  {
   "cell_type": "code",
   "execution_count": 66,
   "metadata": {},
   "outputs": [
    {
     "name": "stdout",
     "output_type": "stream",
     "text": [
      "([2, 4], 3, 2)\n"
     ]
    }
   ],
   "source": [
    "win_nums = [31,10,45,1,6,19]\n",
    "lottos = [21,10,0,0,1,6]\n",
    "print(solution(lottos, win_nums))"
   ]
  },
  {
   "cell_type": "markdown",
   "metadata": {},
   "source": [
    "# 아이디의 길이는 3자 이상 15자 이하여야 합니다.\n",
    "# 아이디는 알파벳 소문자, 숫자, 빼기(-), 밑줄(_),\n",
    "# 마침표(.) 문자만 사용할 수 있습니다.\n",
    "# 단, 마침표(.)는 처음과 끝에 사용할 수 없으며\n",
    "# 또한 연속으로 사용할 수 없습니다.\n",
    "- 1단계 new_id의 모든 대문자를 대응되는 소문자로 치환합니다.\n",
    "- 2단계 new_id에서 알파벳 소문자, 숫자, 빼기(-), 밑줄(_), 마침표(.)를 제외한 모든 문자를 제거합니다.\n",
    "- 3단계 new_id에서 마침표(.)가 2번 이상 연속된 부분을 하나의 마침표(.)로 치환합니다.\n",
    "- 4단계 new_id에서 마침표(.)가 처음이나 끝에 위치한다면 제거합니다.\n",
    "- 5단계 new_id가 빈 문자열이라면, new_id에 \"a\"를 대입합니다.\n",
    "- 6단계 new_id의 길이가 16자 이상이면, new_id의 첫 15개의 문자를 제외한 나머지 문자들을 모두 제거합니다.\n",
    "- 만약 제거 후 마침표(.)가 new_id의 끝에 위치한다면 끝에 위치한 마침표(.) 문자를 제거합니다.\n",
    "- 7단계 new_id의 길이가 2자 이하라면, new_id의 마지막 문자를 new_id의 길이가 3이 될 때까지 반복해서 끝에 붙입니다."
   ]
  },
  {
   "cell_type": "code",
   "execution_count": null,
   "metadata": {},
   "outputs": [],
   "source": [
    "def solution(new_id):\n",
    "    answer = ''\n",
    "    if len(new_id)<3 or len(new_id)>15:\n",
    "        answer = '아이디는 3자 이상 15자 이하여야 합니다.'\n",
    "    new = new_id.lower()\n",
    "    \n",
    "    return answer"
   ]
  },
  {
   "cell_type": "code",
   "execution_count": 2,
   "metadata": {},
   "outputs": [
    {
     "name": "stdout",
     "output_type": "stream",
     "text": [
      "a1@,3\n"
     ]
    }
   ],
   "source": [
    "a = 'A1@,3'\n",
    "print(a.lower())"
   ]
  }
 ],
 "metadata": {
  "kernelspec": {
   "display_name": "Python 3",
   "language": "python",
   "name": "python3"
  },
  "language_info": {
   "codemirror_mode": {
    "name": "ipython",
    "version": 3
   },
   "file_extension": ".py",
   "mimetype": "text/x-python",
   "name": "python",
   "nbconvert_exporter": "python",
   "pygments_lexer": "ipython3",
   "version": "3.7.6"
  }
 },
 "nbformat": 4,
 "nbformat_minor": 4
}
