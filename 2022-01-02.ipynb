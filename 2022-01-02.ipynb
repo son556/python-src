{
 "cells": [
  {
   "cell_type": "code",
   "execution_count": null,
   "metadata": {},
   "outputs": [],
   "source": [
    "import pandas as pd\n",
    "\n",
    "dict_data = {'a':1, 'b':2, 'c':3}\n",
    "sr = pd.Series(dict_data)\n",
    "\n",
    "print(type(sr))\n",
    "print('\\n')\n",
    "print(sr)\n",
    "print(sr[0])\n",
    "print(sr.index, sr.values)"
   ]
  },
  {
   "cell_type": "code",
   "execution_count": null,
   "metadata": {},
   "outputs": [],
   "source": [
    "tup_data = ('a','2022-01-01','여',True)\n",
    "sr = pd.Series(tup_data,index = ['name','date','sex','student?'])\n",
    "print(sr)\n",
    "print()\n",
    "print(sr[[0,2]])\n",
    "print()\n",
    "print(sr[['name','student?']])\n",
    "print('-------------------')\n",
    "for idx in sr:\n",
    "    print(idx)"
   ]
  },
  {
   "cell_type": "code",
   "execution_count": null,
   "metadata": {},
   "outputs": [],
   "source": [
    "print(sr[0:2])\n",
    "print('------------')\n",
    "print(sr['name':'sex'])"
   ]
  },
  {
   "cell_type": "code",
   "execution_count": null,
   "metadata": {},
   "outputs": [],
   "source": [
    "dict_data = {'c0':[1,2,3], 'c1':[4,5,6], 'c2':[7,8,9], 'c3':[10,11,12]}\n",
    "df = pd.DataFrame(dict_data)\n",
    "print(type(df))\n",
    "print('\\n')\n",
    "df"
   ]
  },
  {
   "cell_type": "code",
   "execution_count": null,
   "metadata": {},
   "outputs": [],
   "source": [
    "df = pd.DataFrame([[15,'남', '덕영중'],[17,'여','수리중']],\n",
    "                 index = ['준서','예은'], \n",
    "                  columns = ['나이','성별','학교'])\n",
    "print(df)\n",
    "print('\\n')\n",
    "print(df.index)\n",
    "print(df.columns)"
   ]
  },
  {
   "cell_type": "code",
   "execution_count": null,
   "metadata": {},
   "outputs": [],
   "source": [
    "df.rename(columns={'나이':'연령','성별':'남녀','학교':'소속'}, inplace= True)\n",
    "df.rename(index={'준서':'학생1', '예은':'학생2'}, inplace= True)\n",
    "print(df)"
   ]
  },
  {
   "cell_type": "code",
   "execution_count": null,
   "metadata": {},
   "outputs": [],
   "source": [
    "exam_data = {'수학':[90,80,70], '영어':[98,89,95],'음악':[85,95,100],\n",
    "            '체육':[100,90,90]}\n",
    "df = pd.DataFrame(exam_data, index=['서준','우현','인아'])\n",
    "print(df)\n",
    "print('\\n')\n",
    "df2 = df.copy()\n",
    "df2.drop('우현', inplace = True)\n",
    "print(df2)\n",
    "print('\\n')\n",
    "df3 = df.copy()\n",
    "df3.drop(['우현','인아'], axis = 0 ,inplace = True)\n",
    "print(df3)"
   ]
  },
  {
   "cell_type": "code",
   "execution_count": null,
   "metadata": {},
   "outputs": [],
   "source": [
    "df4 = df.copy()\n",
    "df4.drop('수학',axis = 1, inplace=True)\n",
    "print(df4)\n",
    "print('\\n')\n",
    "df5 = df.copy()\n",
    "df5.drop(['영어','음악'],axis = 1, inplace=True)\n",
    "print(df5)"
   ]
  },
  {
   "cell_type": "code",
   "execution_count": null,
   "metadata": {},
   "outputs": [],
   "source": [
    "label1 = df.loc['서준']\n",
    "position1 = df.iloc[0]\n",
    "print(label1)\n",
    "print(position1)"
   ]
  },
  {
   "cell_type": "code",
   "execution_count": null,
   "metadata": {},
   "outputs": [],
   "source": [
    "exam_data = {'수학':[90,80,70], '영어':[98,89,95],'음악':[85,95,100],\n",
    "            '체육':[100,90,90], '이름':['서준','우현','인아']}\n",
    "df = pd.DataFrame(exam_data)\n",
    "df.set_index('이름',inplace= True)\n",
    "df"
   ]
  },
  {
   "cell_type": "code",
   "execution_count": null,
   "metadata": {},
   "outputs": [],
   "source": [
    "g = df.loc[['서준','우현'],['음악','체육']]\n",
    "print(g)\n",
    "print('\\n')\n",
    "i = df.loc['서준':'인아','수학':'음악']\n",
    "print(i)\n",
    "print('\\n')\n",
    "j = df.iloc[0:2,2:]\n",
    "print(j)"
   ]
  },
  {
   "cell_type": "code",
   "execution_count": null,
   "metadata": {},
   "outputs": [],
   "source": [
    "df.loc['수영'] = ['99','100','98','97']\n",
    "df"
   ]
  },
  {
   "cell_type": "code",
   "execution_count": null,
   "metadata": {},
   "outputs": [],
   "source": [
    "df.index('이름') = '수혁'\n",
    "df"
   ]
  },
  {
   "cell_type": "code",
   "execution_count": null,
   "metadata": {},
   "outputs": [],
   "source": [
    "import pandas as pd\n",
    "import numpy as np\n",
    "from flask import Flask\n",
    "from urllib import request #1\n",
    "from bs4 import BeautifulSoup\n",
    "city_list = []\n",
    "output_1 = []\n",
    "output_2 = []\n",
    "output_3 = []\n",
    "temp_list = []\n",
    "w_dict = {}\n",
    "app = Flask(__name__)\n",
    "@app.route('/')\n",
    "def hello():\n",
    "    url = 'https://www.weather.go.kr/w/weather/forecast/mid-term.do?stnId=108'\n",
    "    target = request.urlopen(url)\n",
    "    soup = BeautifulSoup(target)\n",
    "    \n",
    "    output = \" \"\n",
    "    for location in soup.find_all('tr'):\n",
    "#         output = \" \"\n",
    "        if location.find('td',class_='midterm-city'):\n",
    "            output_1_1 = \"<h3>{}</h3>\".format(\\\n",
    "                                           location.find('td',class_='midterm-city').text)\n",
    "            city_list.append(location.find('td',class_='midterm-city').text)\n",
    "            output_1.append(output_1_1)\n",
    "            \n",
    "            output_3_3 = \"최저/최고 기온: {}/{}\".format(\\\n",
    "                                            location.find('span',class_='tmn').text,\\\n",
    "                                            location.find('span',class_='tmx').text)\n",
    "            output_3.append(output_3_3)\n",
    "            \n",
    "        if location.find('td') and location.select_one('img'):\n",
    "#             print(location)\n",
    "            data = location.select_one('img').attrs['title']\n",
    "            temp_list.append(data)\n",
    "            \n",
    "#   도시와 날씨의 짝을 맞춰주는 부분. // 실시간 데이터 받기   \n",
    "    for i in range(0,6): \n",
    "        w_dict[city_list[i]]=temp_list[0]\n",
    "    for i in range(6,8):\n",
    "        w_dict[city_list[i]]=temp_list[1]\n",
    "    for i in range(8,9):\n",
    "        w_dict[city_list[i]]= temp_list[2]\n",
    "    for i in range(9,12):\n",
    "        w_dict[city_list[i]]= temp_list[3]\n",
    "    for i in range(12,15):\n",
    "        w_dict[city_list[i]]= temp_list[4]\n",
    "    for i in range(15,21):\n",
    "        w_dict[city_list[i]]= temp_list[5]\n",
    "    for i in range(21,27):\n",
    "        w_dict[city_list[i]]= temp_list[6]\n",
    "    for i in range(27,33,1):\n",
    "        w_dict[city_list[i]]= temp_list[7]\n",
    "    for i in range(33,39,1):\n",
    "        w_dict[city_list[i]]= temp_list[8]\n",
    "    for i in range(39,41,1):\n",
    "        w_dict[city_list[i]]= temp_list[9]\n",
    "    for key, value in w_dict.items():\n",
    "        output_2_2 = \"{}\".format(value)\n",
    "        output_2.append(output_2_2)\n",
    "    for idx, value in enumerate(output_1):\n",
    "        output += output_1[idx]\n",
    "        output += output_2[idx]\n",
    "        output += output_3[idx]\n",
    "    return output\n",
    "hello()"
   ]
  },
  {
   "cell_type": "code",
   "execution_count": null,
   "metadata": {},
   "outputs": [],
   "source": [
    "import pandas as pd\n",
    "df3 = pd.DataFrame([output_2],columns = city_list, index = ['날씨'])\n",
    "df3.loc['기온'] = output_3\n",
    "df3"
   ]
  },
  {
   "cell_type": "code",
   "execution_count": null,
   "metadata": {},
   "outputs": [],
   "source": [
    "a_list = [1,2,3,4,5]\n",
    "df_a = pd.DataFrame([a_list], columns = [0,1,2,3,4])\n",
    "print(df_a)\n",
    "print('\\n')\n",
    "df_a_1 = pd.DataFrame(a_list)\n",
    "print(df_a_1)"
   ]
  },
  {
   "cell_type": "code",
   "execution_count": null,
   "metadata": {},
   "outputs": [],
   "source": [
    "students = [{'name':'윤인성','국어':87,'수학':98,'영어':88,'과학':95},\n",
    "           {'name':'연하진','국어':92,'수학':98,'영어':96,'과학':98},\n",
    "           {'name':'구지연','국어':76,'수학':96,'영어':94,'과학':90},\n",
    "           {'name':'나선주','국어':98,'수학':92,'영어':96,'과학':92},\n",
    "           {'name':'윤아린','국어':95,'수학':98,'영어':98,'과학':98},\n",
    "           {'name':'윤인성','국어':64,'수학':88,'영어':92,'과학':92}]\n",
    "print('이름','총점','평균',sep = '\\t')\n",
    "for student in students:\n",
    "    score_sum = studnet['국어'] + studnet['수학'] + studnet['영어'] + student['과학']\n",
    "    score_average = score_sum / 4\n",
    "    print(studnet['name'],score_sum,score_average, sep = '\\t')"
   ]
  },
  {
   "cell_type": "code",
   "execution_count": null,
   "metadata": {},
   "outputs": [],
   "source": [
    "def create_studnet(name, kor, mat, eng, sci):\n",
    "    return {'name' : name,\n",
    "           'kor' : kor,\n",
    "           'mat' : mat,\n",
    "           'eng' : eng,\n",
    "           'sci' : sci}"
   ]
  },
  {
   "cell_type": "code",
   "execution_count": null,
   "metadata": {},
   "outputs": [],
   "source": [
    "students = [create_student('윤인성', 87, 98, 88, 95),\n",
    "            create_student('연하진', 87, 98, 88, 95),\n",
    "           create_student('구지연', 87, 98, 88, 95),\n",
    "           create_student('나선주', 87, 98, 88, 95),\n",
    "           create_student('윤아린', 87, 98, 88, 95),\n",
    "           create_student('윤명월', 87, 98, 88, 95)]"
   ]
  },
  {
   "cell_type": "code",
   "execution_count": null,
   "metadata": {},
   "outputs": [],
   "source": [
    "#1.\n",
    "print('hello world')\n",
    "#2\n",
    "print(\"Mary's cosmetics\")\n",
    "#3\n",
    "print('신씨가 소리질렀다. \"도둑이야\".')"
   ]
  },
  {
   "cell_type": "code",
   "execution_count": null,
   "metadata": {},
   "outputs": [],
   "source": [
    "print('naver','kakao','sk;samsung', sep = ';')"
   ]
  },
  {
   "cell_type": "code",
   "execution_count": null,
   "metadata": {},
   "outputs": [],
   "source": [
    "# 민우는 자신이 구매했던 로또로 당첨이 가능했던 최고 순위와\n",
    "# 최저 순위를 알아보고 싶어 졌습니다.\n",
    "# 민우가 구매한 로또 번호를 담은 배열 lottos, 당첨 번호를 담은 배열 \n",
    "# win_nums가 매개변수로 주어집니다. 이때, 당첨 가능한 최고 순위와 \n",
    "# 최저 순위를 차례대로 배열에 담아서 return 하도록 solution 함수를 완성해주세요\n",
    "def solution(lottos, win_nums):\n",
    "    answer = [0,0]\n",
    "    count = 0\n",
    "    count1 = 0\n",
    "    for i in range(6):\n",
    "        if win_nums[i] in lottos:\n",
    "            count+=1\n",
    "        if lottos[i] == 0:\n",
    "            count1+=1\n",
    "    if count >= 2:\n",
    "        answer[1] = 6 - (count-1)\n",
    "    else:\n",
    "        answer[1] = 6\n",
    "    if count1 == 0:\n",
    "        if count > 1:\n",
    "            answer[0] = 6 - (count-1)\n",
    "        else:\n",
    "            answer[0] = 6\n",
    "    if count1 == 1:\n",
    "        if 1<= count <= 5:\n",
    "            answer[0] = answer[1] -1\n",
    "        elif count==0:\n",
    "            answer[0] = 6\n",
    "        else:\n",
    "            answer[0] = 1\n",
    "    if count1 == 2:\n",
    "        if 1 <= count <= 4:\n",
    "            answer[0] = answer[1]-2\n",
    "        elif count == 0:\n",
    "            answer[0] = 5\n",
    "        else:\n",
    "            answer[0] = 1\n",
    "    if count1 == 3:\n",
    "        if 1<= count <= 3:\n",
    "            answer[0] = answer[1]-3\n",
    "        elif count == 0:\n",
    "            answer[0] = 4\n",
    "        else:\n",
    "            answer[0] = 1\n",
    "    if count1 == 4:\n",
    "        if 1<= count <=2:\n",
    "            answer[0] = answer[1] - 4\n",
    "        elif count == 0:\n",
    "            answer[0] = 3\n",
    "        else:\n",
    "            answer[0] = 1\n",
    "    if count1 == 5:\n",
    "        if count == 0:\n",
    "            answer[0] = 2\n",
    "        else:\n",
    "            answer[0] = 1\n",
    "    if count1 == 6:\n",
    "        answer[0] = 1\n",
    "    return answer, count, count1"
   ]
  },
  {
   "cell_type": "code",
   "execution_count": null,
   "metadata": {},
   "outputs": [],
   "source": [
    "win_nums = [31,10,45,1,6,19]\n",
    "lottos = [21,10,0,0,1,6]\n",
    "print(solution(lottos, win_nums))"
   ]
  },
  {
   "cell_type": "code",
   "execution_count": null,
   "metadata": {},
   "outputs": [],
   "source": [
    "def solution1(lottos, win_nums):\n",
    "\n",
    "    rank=[6,6,5,4,3,2,1]\n",
    "\n",
    "    cnt_0 = lottos.count(0)\n",
    "    ans = 0\n",
    "    for x in win_nums:\n",
    "        if x in lottos:\n",
    "            ans += 1\n",
    "    a = rank[cnt_0 + ans]\n",
    "    b = rank[ans]\n",
    "    return a, b"
   ]
  },
  {
   "cell_type": "code",
   "execution_count": null,
   "metadata": {},
   "outputs": [],
   "source": [
    "win_nums = [31,10,45,1,6,19]\n",
    "lottos = [21,10,0,0,1,6]\n",
    "print(solution1(lottos, win_nums))"
   ]
  },
  {
   "cell_type": "code",
   "execution_count": null,
   "metadata": {},
   "outputs": [],
   "source": [
    "print(a)\n",
    "print(b)"
   ]
  },
  {
   "cell_type": "markdown",
   "metadata": {},
   "source": [
    "# 아이디의 길이는 3자 이상 15자 이하여야 합니다.\n",
    "# 아이디는 알파벳 소문자, 숫자, 빼기(-), 밑줄(_),\n",
    "# 마침표(.) 문자만 사용할 수 있습니다.\n",
    "# 단, 마침표(.)는 처음과 끝에 사용할 수 없으며\n",
    "# 또한 연속으로 사용할 수 없습니다.\n",
    "- 1단계 new_id의 모든 대문자를 대응되는 소문자로 치환합니다.\n",
    "- 2단계 new_id에서 알파벳 소문자, 숫자, 빼기(-), 밑줄(_), 마침표(.)를 제외한 모든 문자를 제거합니다.\n",
    "- 3단계 new_id에서 마침표(.)가 2번 이상 연속된 부분을 하나의 마침표(.)로 치환합니다.\n",
    "- 4단계 new_id에서 마침표(.)가 처음이나 끝에 위치한다면 제거합니다.\n",
    "- 5단계 new_id가 빈 문자열이라면, new_id에 \"a\"를 대입합니다.\n",
    "- 6단계 new_id의 길이가 16자 이상이면, new_id의 첫 15개의 문자를 제외한 나머지 문자들을 모두 제거합니다.\n",
    "- 만약 제거 후 마침표(.)가 new_id의 끝에 위치한다면 끝에 위치한 마침표(.) 문자를 제거합니다.\n",
    "- 7단계 new_id의 길이가 2자 이하라면, new_id의 마지막 문자를 new_id의 길이가 3이 될 때까지 반복해서 끝에 붙입니다."
   ]
  },
  {
   "cell_type": "code",
   "execution_count": 50,
   "metadata": {},
   "outputs": [],
   "source": [
    "def solution(new_id):\n",
    "    answer = []\n",
    "    alphabet = 'abcdefghijklnmopqrstuvwxyz'\n",
    "    number = '1234567890'\n",
    "    char = '-_.'\n",
    "    ideal = []\n",
    "    name_list = []\n",
    "    new = new_id.lower() \n",
    "    for x in new: #2new_id에서 알파벳 소문자, 숫자,'-', '_','.'를 제외한 \n",
    "        ideal.append(x)#                         모든 문자를 제거합니다.\n",
    "    for i in ideal:\n",
    "        if not (i in alphabet or i in number or i in char):\n",
    "            ideal.remove(i)\n",
    "  \n",
    "    sw = 0\n",
    "    if len(ideal) > 1:\n",
    "        for idx, value in enumerate(ideal): #3\n",
    "            if value != '.':\n",
    "                name_list.append(value)\n",
    "                sw = 0\n",
    "            elif idx < len(ideal) - 1:\n",
    "                if ideal[idx] == '.' and ideal[idx + 1] == '.':\n",
    "                    if sw:\n",
    "                        continue\n",
    "                    else:\n",
    "                        name_list.append(value)\n",
    "                        sw = 1\n",
    "    return str(name_list)\n",
    "\n",
    "#         if ideal[-1] == '.':#4\n",
    "#             del ideal[-1]\n",
    "    \n",
    "#     if ideal[0] == '.':  #4\n",
    "#         del ideal[0]\n",
    "        \n",
    "    \n",
    "#     if ideal == []: #5\n",
    "#         ideal.append('a')\n",
    "    \n",
    "#     if len(ideal) >= 16: #6\n",
    "#         del ideal[15:]\n",
    "    \n",
    "#     if len(ideal) < 3: #7\n",
    "#         while len(ideal) < 3:\n",
    "#             k = ideal[-1]\n",
    "#             ideal.append(k)\n",
    "#     for i in ideal:\n",
    "#         answer += i\n"
   ]
  },
  {
   "cell_type": "code",
   "execution_count": 54,
   "metadata": {},
   "outputs": [
    {
     "name": "stdout",
     "output_type": "stream",
     "text": [
      "아이디를 입력하시오>.anfbf\n",
      "<class 'str'>\n"
     ]
    }
   ],
   "source": [
    "new_id = input('아이디를 입력하시오>')\n",
    "print(type(solution(new_id)))\n",
    "# print(len(new_id))"
   ]
  },
  {
   "cell_type": "code",
   "execution_count": null,
   "metadata": {},
   "outputs": [],
   "source": [
    "# 질문 -> @와*이 안 걸러지는 이유??\n",
    "new_id = '@*'\n",
    "# new_id = '=.='\n",
    "alphabet = 'abcdefghijklnmopqrstuvwxyz'\n",
    "number = '1234567890'\n",
    "char = '-_.'\n",
    "ideal2 = []\n",
    "new = new_id.lower() \n",
    "for x in new: #2\n",
    "    ideal2.append(x)\n",
    "    print('x:',x)\n",
    "print(ideal2)\n",
    "for i in ideal2:\n",
    "    print('i0:',i)\n",
    "    if not i in alphabet:\n",
    "        print('i1:',i)\n",
    "        if not i in number:\n",
    "            print('i2',i)\n",
    "            if not i in char:\n",
    "                print('i3',i)\n",
    "                ideal2.remove(i)\n",
    "    else:\n",
    "        pass\n",
    "print(new_id)\n",
    "print(ideal2)"
   ]
  },
  {
   "cell_type": "code",
   "execution_count": null,
   "metadata": {},
   "outputs": [],
   "source": [
    "for i in ideal:\n",
    "    if not i in char:"
   ]
  },
  {
   "cell_type": "code",
   "execution_count": null,
   "metadata": {},
   "outputs": [],
   "source": [
    "ideal_1 = ['.','.','a','.']\n",
    "del ideal_1[1:2]\n",
    "print(ideal_1)"
   ]
  },
  {
   "cell_type": "code",
   "execution_count": null,
   "metadata": {},
   "outputs": [],
   "source": [
    "ideal2 = []\n",
    "if ideal2 == []:\n",
    "    ideal2.append('a')\n",
    "ideal2"
   ]
  },
  {
   "cell_type": "code",
   "execution_count": 49,
   "metadata": {},
   "outputs": [
    {
     "name": "stdout",
     "output_type": "stream",
     "text": [
      "0\n",
      "idx.. 0 ['.', '.', '.', '.', 'a', '.', '.', '.', '.', '.', '.', '.', 'b', '.', '.', '.', 'c', '.', '.', '.']\n",
      "answer: ['.', '.', '.', 'a', '.', '.', '.', '.', '.', '.', '.', 'b', '.', '.', '.', 'c', '.', '.', '.']\n",
      "if idx: 0\n",
      "----------------\n",
      "idx.. 1 ['.', '.', '.', 'a', '.', '.', '.', '.', '.', '.', '.', 'b', '.', '.', '.', 'c', '.', '.', '.']\n",
      "answer: ['.', '.', 'a', '.', '.', '.', '.', '.', '.', '.', 'b', '.', '.', '.', 'c', '.', '.', '.']\n",
      "if idx: 1\n",
      "----------------\n",
      "idx.. 2 ['.', '.', 'a', '.', '.', '.', '.', '.', '.', '.', 'b', '.', '.', '.', 'c', '.', '.', '.']\n",
      "idx.. 3 ['.', '.', 'a', '.', '.', '.', '.', '.', '.', '.', 'b', '.', '.', '.', 'c', '.', '.', '.']\n",
      "answer: ['.', '.', 'a', '.', '.', '.', '.', '.', '.', 'b', '.', '.', '.', 'c', '.', '.', '.']\n",
      "if idx: 3\n",
      "----------------\n",
      "idx.. 4 ['.', '.', 'a', '.', '.', '.', '.', '.', '.', 'b', '.', '.', '.', 'c', '.', '.', '.']\n",
      "answer: ['.', '.', 'a', '.', '.', '.', '.', '.', 'b', '.', '.', '.', 'c', '.', '.', '.']\n",
      "if idx: 4\n",
      "----------------\n",
      "idx.. 5 ['.', '.', 'a', '.', '.', '.', '.', '.', 'b', '.', '.', '.', 'c', '.', '.', '.']\n",
      "answer: ['.', '.', 'a', '.', '.', '.', '.', 'b', '.', '.', '.', 'c', '.', '.', '.']\n",
      "if idx: 5\n",
      "----------------\n",
      "idx.. 6 ['.', '.', 'a', '.', '.', '.', '.', 'b', '.', '.', '.', 'c', '.', '.', '.']\n",
      "idx.. 7 ['.', '.', 'a', '.', '.', '.', '.', 'b', '.', '.', '.', 'c', '.', '.', '.']\n",
      "idx.. 8 ['.', '.', 'a', '.', '.', '.', '.', 'b', '.', '.', '.', 'c', '.', '.', '.']\n",
      "answer: ['.', '.', 'a', '.', '.', '.', '.', 'b', '.', '.', 'c', '.', '.', '.']\n",
      "if idx: 8\n",
      "----------------\n",
      "idx.. 9 ['.', '.', 'a', '.', '.', '.', '.', 'b', '.', '.', 'c', '.', '.', '.']\n",
      "idx.. 10 ['.', '.', 'a', '.', '.', '.', '.', 'b', '.', '.', 'c', '.', '.', '.']\n",
      "idx.. 11 ['.', '.', 'a', '.', '.', '.', '.', 'b', '.', '.', 'c', '.', '.', '.']\n",
      "answer: ['.', '.', 'a', '.', '.', '.', '.', 'b', '.', '.', 'c', '.', '.']\n",
      "if idx: 11\n",
      "----------------\n",
      "idx.. 12 ['.', '.', 'a', '.', '.', '.', '.', 'b', '.', '.', 'c', '.', '.']\n"
     ]
    },
    {
     "ename": "IndexError",
     "evalue": "list index out of range",
     "output_type": "error",
     "traceback": [
      "\u001b[1;31m---------------------------------------------------------------------------\u001b[0m",
      "\u001b[1;31mIndexError\u001b[0m                                Traceback (most recent call last)",
      "\u001b[1;32m<ipython-input-49-b314c082e99a>\u001b[0m in \u001b[0;36m<module>\u001b[1;34m\u001b[0m\n\u001b[0;32m     11\u001b[0m             \u001b[0mprint\u001b[0m\u001b[1;33m(\u001b[0m\u001b[1;34m\"idx..\"\u001b[0m\u001b[1;33m,\u001b[0m\u001b[0midx\u001b[0m\u001b[1;33m,\u001b[0m \u001b[0mai\u001b[0m\u001b[1;33m)\u001b[0m\u001b[1;33m\u001b[0m\u001b[1;33m\u001b[0m\u001b[0m\n\u001b[0;32m     12\u001b[0m             \u001b[1;32mif\u001b[0m \u001b[0midx\u001b[0m \u001b[1;33m<=\u001b[0m \u001b[0mlen\u001b[0m\u001b[1;33m(\u001b[0m\u001b[0mai\u001b[0m\u001b[1;33m)\u001b[0m \u001b[1;33m-\u001b[0m \u001b[1;36m1\u001b[0m\u001b[1;33m:\u001b[0m\u001b[1;33m\u001b[0m\u001b[1;33m\u001b[0m\u001b[0m\n\u001b[1;32m---> 13\u001b[1;33m                 \u001b[1;32mif\u001b[0m \u001b[0mai\u001b[0m\u001b[1;33m[\u001b[0m\u001b[0midx\u001b[0m\u001b[1;33m]\u001b[0m \u001b[1;33m==\u001b[0m \u001b[1;34m'.'\u001b[0m \u001b[1;32mand\u001b[0m \u001b[0mai\u001b[0m\u001b[1;33m[\u001b[0m\u001b[0midx\u001b[0m \u001b[1;33m+\u001b[0m \u001b[1;36m1\u001b[0m\u001b[1;33m]\u001b[0m \u001b[1;33m==\u001b[0m \u001b[1;34m'.'\u001b[0m\u001b[1;33m:\u001b[0m\u001b[1;33m\u001b[0m\u001b[1;33m\u001b[0m\u001b[0m\n\u001b[0m\u001b[0;32m     14\u001b[0m                     \u001b[1;32mdel\u001b[0m \u001b[0mai\u001b[0m\u001b[1;33m[\u001b[0m\u001b[0midx\u001b[0m\u001b[1;33m]\u001b[0m\u001b[1;33m\u001b[0m\u001b[1;33m\u001b[0m\u001b[0m\n\u001b[0;32m     15\u001b[0m                     \u001b[0manswer\u001b[0m \u001b[1;33m=\u001b[0m \u001b[0mai\u001b[0m\u001b[1;33m\u001b[0m\u001b[1;33m\u001b[0m\u001b[0m\n",
      "\u001b[1;31mIndexError\u001b[0m: list index out of range"
     ]
    }
   ],
   "source": [
    "z ='....a.......b...c...'\n",
    "ai = []\n",
    "answer1 = ''\n",
    "for i in z:\n",
    "    ai.append(i)\n",
    "    \n",
    "for i, v in enumerate(ai):\n",
    "    print(i)\n",
    "    if len(ai) > 1:\n",
    "        for idx, value in enumerate(ai): #3\n",
    "            print(\"idx..\",idx, ai)\n",
    "            if idx <= len(ai) - 1:\n",
    "                if ai[idx] == '.' and ai[idx + 1] == '.':\n",
    "                    del ai[idx]\n",
    "                    answer = ai\n",
    "                    print('answer:',ai)\n",
    "                    print('if idx:',idx)\n",
    "                    print('----------------')"
   ]
  },
  {
   "cell_type": "code",
   "execution_count": null,
   "metadata": {},
   "outputs": [],
   "source": []
  },
  {
   "cell_type": "code",
   "execution_count": null,
   "metadata": {},
   "outputs": [],
   "source": []
  }
 ],
 "metadata": {
  "kernelspec": {
   "display_name": "Python 3",
   "language": "python",
   "name": "python3"
  },
  "language_info": {
   "codemirror_mode": {
    "name": "ipython",
    "version": 3
   },
   "file_extension": ".py",
   "mimetype": "text/x-python",
   "name": "python",
   "nbconvert_exporter": "python",
   "pygments_lexer": "ipython3",
   "version": "3.7.6"
  }
 },
 "nbformat": 4,
 "nbformat_minor": 4
}
