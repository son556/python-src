{
 "cells": [
  {
   "cell_type": "code",
   "execution_count": 1,
   "metadata": {},
   "outputs": [
    {
     "name": "stdout",
     "output_type": "stream",
     "text": [
      "<class 'str'>\n",
      "<class 'int'>\n"
     ]
    }
   ],
   "source": [
    "print(type('hello'))\n",
    "print(type(24))"
   ]
  },
  {
   "cell_type": "code",
   "execution_count": 7,
   "metadata": {},
   "outputs": [
    {
     "name": "stdout",
     "output_type": "stream",
     "text": [
      "\"안녕하세요\"라고 말했습니다\n",
      "'안녕하세요'라고 말했습니다\n",
      "안녕하세요\n",
      "안녕하세요\n",
      "안녕하세요\t안녕하세요\n"
     ]
    }
   ],
   "source": [
    "print('\"안녕하세요\"라고 말했습니다')\n",
    "print('\\'안녕하세요\\'라고 말했습니다')\n",
    "print('안녕하세요\\n안녕하세요')\n",
    "print(\"안녕하세요\\t안녕하세요\")"
   ]
  },
  {
   "cell_type": "code",
   "execution_count": 8,
   "metadata": {},
   "outputs": [
    {
     "name": "stdout",
     "output_type": "stream",
     "text": [
      "\n",
      "동해물과 백두산이 마르고 닳도록\n",
      "대한으로 길이 보전하세\n",
      "\n"
     ]
    }
   ],
   "source": [
    "print(\"\"\"\n",
    "동해물과 백두산이 마르고 닳도록\n",
    "대한으로 길이 보전하세\n",
    "\"\"\")"
   ]
  },
  {
   "cell_type": "code",
   "execution_count": 9,
   "metadata": {},
   "outputs": [
    {
     "name": "stdout",
     "output_type": "stream",
     "text": [
      "동해물과 백두산이 마르고 닳도록\n",
      "대한으로 길이 보전하세\n"
     ]
    }
   ],
   "source": [
    "print(\"\"\"\\\n",
    "동해물과 백두산이 마르고 닳도록\n",
    "대한으로 길이 보전하세\\\n",
    "\"\"\")"
   ]
  },
  {
   "cell_type": "code",
   "execution_count": 22,
   "metadata": {},
   "outputs": [
    {
     "name": "stdout",
     "output_type": "stream",
     "text": [
      "hellohi\n",
      "hello!\n",
      "hellohellohello\n",
      "hello\thello\thello\t\n",
      "h e l l o\n",
      "o l l e h\n",
      "hell\n",
      "hello\n",
      "5\n"
     ]
    }
   ],
   "source": [
    "print('hello'+'hi')\n",
    "print('hello'+'!')\n",
    "print('hello'*3)\n",
    "print('hello\\t'*3)\n",
    "print('hello'[0],'hello'[1],'hello'[2],'hello'[3],'hello'[4])\n",
    "print('hello'[-1],'hello'[-2],'hello'[-3],'hello'[-4],'hello'[-5])\n",
    "print('hello'[0:4]);print('hello'[0:])\n",
    "print(len('hello'))"
   ]
  },
  {
   "cell_type": "code",
   "execution_count": 26,
   "metadata": {},
   "outputs": [
    {
     "name": "stdout",
     "output_type": "stream",
     "text": [
      "0.5582\n",
      "<class 'float'>\n"
     ]
    },
    {
     "data": {
      "text/plain": [
       "0.0052273"
      ]
     },
     "execution_count": 26,
     "metadata": {},
     "output_type": "execute_result"
    }
   ],
   "source": [
    "print(0.5582)\n",
    "print(type(0.5882))\n",
    "0.52273e2; 0.52273e-2"
   ]
  },
  {
   "cell_type": "code",
   "execution_count": 28,
   "metadata": {},
   "outputs": [
    {
     "data": {
      "text/plain": [
       "5"
      ]
     },
     "execution_count": 28,
     "metadata": {},
     "output_type": "execute_result"
    }
   ],
   "source": [
    "string = 3\n",
    "number = 2\n",
    "string + number"
   ]
  },
  {
   "cell_type": "code",
   "execution_count": 33,
   "metadata": {},
   "outputs": [
    {
     "name": "stdout",
     "output_type": "stream",
     "text": [
      "insert key>True\n",
      "<class 'str'>\n"
     ]
    }
   ],
   "source": [
    "input_data = input('insert key>')\n",
    "print(type(input_data))"
   ]
  },
  {
   "cell_type": "code",
   "execution_count": 3,
   "metadata": {},
   "outputs": [
    {
     "name": "stdout",
     "output_type": "stream",
     "text": [
      "숫자를 입력하시오>3.4\n",
      "5.4\n",
      "yes\n"
     ]
    }
   ],
   "source": [
    "# 글자를 입력받아 숫자와 문자를 구별 후  문자인 경우 그냥 출력, 숫자인 경우 실수와 정수를 구분 그리고 2를 더하기\n",
    "\n",
    "data_1 = input('숫자를 입력하시오>')\n",
    "\n",
    "if data_1.isnumeric():\n",
    "    num1 = float(data_1)\n",
    "    if num1 >= 0 :\n",
    "        if num1 % 1 == 0:\n",
    "            num = int(data_1)\n",
    "        else:\n",
    "            num = float(data_1)\n",
    "    else:\n",
    "        if (-1*num1) % 1 == 0:\n",
    "            num = int(data_1)\n",
    "        else:\n",
    "            num = float(data_1)\n",
    "    print(num + 2)\n",
    "if not data_1.isnumeric():\n",
    "    num = float(data_1)\n",
    "    print(num+2)\n",
    "    print('yes')"
   ]
  },
  {
   "cell_type": "code",
   "execution_count": 14,
   "metadata": {},
   "outputs": [
    {
     "name": "stdout",
     "output_type": "stream",
     "text": [
      "> 1번째 숫자: 100\n",
      "> 2번째 숫자: 200\n",
      "\n",
      "100 + 200 = 300\n",
      "A :  hello\n",
      "B :  HELLO\n"
     ]
    }
   ],
   "source": [
    "# 연습문제3 p105\n",
    "\n",
    "a = input(\"> 1번째 숫자: \")\n",
    "b = input(\"> 2번째 숫자: \")\n",
    "print()\n",
    "print(\"{} + {} = {}\".format(int(a),int(b),int(a)+int(b)))\n",
    "\n",
    "#연습문제4 p105\n",
    "\n",
    "string = 'hello'\n",
    "string.upper()\n",
    "print(\"A : \",string)\n",
    "print(\"B : \",string.upper())"
   ]
  },
  {
   "cell_type": "code",
   "execution_count": 22,
   "metadata": {},
   "outputs": [
    {
     "name": "stdout",
     "output_type": "stream",
     "text": [
      "True\n",
      "1\n",
      "2\n"
     ]
    }
   ],
   "source": [
    "print(\"각\" < \"갓\")\n",
    "if True :\n",
    "    print(1)\n",
    "    print(2)\n",
    "if False :\n",
    "    print(3)"
   ]
  },
  {
   "cell_type": "code",
   "execution_count": 24,
   "metadata": {},
   "outputs": [
    {
     "name": "stdout",
     "output_type": "stream",
     "text": [
      "정수입력 >2\n",
      "양수입니다.\n"
     ]
    }
   ],
   "source": [
    "input_num = input('정수입력 >')\n",
    "num = int(input_num)\n",
    "if num > 0 :\n",
    "    print('양수입니다.')\n",
    "if num < 0 :\n",
    "    print('음수입니다.')\n",
    "if num == 0:\n",
    "    print('0입니다.')"
   ]
  },
  {
   "cell_type": "code",
   "execution_count": 26,
   "metadata": {},
   "outputs": [
    {
     "name": "stdout",
     "output_type": "stream",
     "text": [
      "2021년 12월 25일 18시 24분 49초\n"
     ]
    }
   ],
   "source": [
    "import datetime\n",
    "\n",
    "now = datetime.datetime.now()\n",
    "print('{}년 {}월 {}일 {}시 {}분 {}초'.format(now.year,now.month,now.day,now.hour,now.minute,now.second))"
   ]
  },
  {
   "cell_type": "code",
   "execution_count": 27,
   "metadata": {},
   "outputs": [
    {
     "name": "stdout",
     "output_type": "stream",
     "text": [
      "정수입력1\n",
      "odd\n"
     ]
    }
   ],
   "source": [
    "number = input(\"정수입력\")\n",
    "last_character = number[-1]\n",
    "\n",
    "if last_character in '02468':\n",
    "    print('even')\n",
    "\n",
    "if last_character in '13579':\n",
    "    print('odd')"
   ]
  },
  {
   "cell_type": "code",
   "execution_count": 30,
   "metadata": {},
   "outputs": [
    {
     "name": "stdout",
     "output_type": "stream",
     "text": [
      "정수입력한글\n",
      "글\n"
     ]
    }
   ],
   "source": [
    "number = input(\"정수입력\")\n",
    "last_character = number[-1]\n",
    "print(last_character)"
   ]
  },
  {
   "cell_type": "code",
   "execution_count": 32,
   "metadata": {},
   "outputs": [
    {
     "name": "stdout",
     "output_type": "stream",
     "text": [
      "> 1번째 숫자: 100\n",
      "> 2번째 숫자: 10\n",
      "\n",
      "처음 입력했던 100.0가 10.0보다 더 큽니다\n"
     ]
    }
   ],
   "source": [
    "# p125 연습문제4\n",
    "a = float(input(\"> 1번째 숫자: \"))\n",
    "b = float(input(\"> 2번째 숫자: \"))\n",
    "print()\n",
    "\n",
    "if a > b:\n",
    "    print(\"처음 입력했던 {}가 {}보다 더 큽니다\".format(a,b))\n",
    "if a < b:\n",
    "    print(\"두 번째로 입력했던 {}가 {}보다 더 큽니다\".format(b,a))"
   ]
  },
  {
   "cell_type": "code",
   "execution_count": 35,
   "metadata": {},
   "outputs": [
    {
     "name": "stdout",
     "output_type": "stream",
     "text": [
      "정수입력> 1\n"
     ]
    },
    {
     "ename": "NotImplementedError",
     "evalue": "",
     "output_type": "error",
     "traceback": [
      "\u001b[1;31m---------------------------------------------------------------------------\u001b[0m",
      "\u001b[1;31mNotImplementedError\u001b[0m                       Traceback (most recent call last)",
      "\u001b[1;32m<ipython-input-35-19ad475e5a54>\u001b[0m in \u001b[0;36m<module>\u001b[1;34m\u001b[0m\n\u001b[0;32m      3\u001b[0m \u001b[1;33m\u001b[0m\u001b[0m\n\u001b[0;32m      4\u001b[0m \u001b[1;32mif\u001b[0m \u001b[0mnumber\u001b[0m \u001b[1;33m>\u001b[0m \u001b[1;36m0\u001b[0m\u001b[1;33m:\u001b[0m\u001b[1;33m\u001b[0m\u001b[1;33m\u001b[0m\u001b[0m\n\u001b[1;32m----> 5\u001b[1;33m     \u001b[1;32mraise\u001b[0m \u001b[0mNotImplementedError\u001b[0m\u001b[1;33m\u001b[0m\u001b[1;33m\u001b[0m\u001b[0m\n\u001b[0m\u001b[0;32m      6\u001b[0m \u001b[1;32melse\u001b[0m \u001b[1;33m:\u001b[0m\u001b[1;33m\u001b[0m\u001b[1;33m\u001b[0m\u001b[0m\n\u001b[0;32m      7\u001b[0m     \u001b[1;32mraise\u001b[0m \u001b[0mNotIplementedError\u001b[0m\u001b[1;33m\u001b[0m\u001b[1;33m\u001b[0m\u001b[0m\n",
      "\u001b[1;31mNotImplementedError\u001b[0m: "
     ]
    }
   ],
   "source": [
    "number = input(\"정수입력> \")\n",
    "number = int(number)\n",
    "\n",
    "if number > 0:\n",
    "    raise NotImplementedError\n",
    "else :\n",
    "    raise NotIplementedError"
   ]
  },
  {
   "cell_type": "code",
   "execution_count": 38,
   "metadata": {},
   "outputs": [
    {
     "name": "stdout",
     "output_type": "stream",
     "text": [
      "['False', 'None', 'True', 'and', 'as', 'assert', 'async', 'await', 'break', 'class', 'continue', 'def', 'del', 'elif', 'else', 'except', 'finally', 'for', 'from', 'global', 'if', 'import', 'in', 'is', 'lambda', 'nonlocal', 'not', 'or', 'pass', 'raise', 'return', 'try', 'while', 'with', 'yield']\n"
     ]
    }
   ],
   "source": [
    "import keyword\n",
    "print(keyword.kwlist)\n"
   ]
  },
  {
   "cell_type": "code",
   "execution_count": 37,
   "metadata": {},
   "outputs": [
    {
     "name": "stdout",
     "output_type": "stream",
     "text": [
      "태어난 해를 입력해 주세요> 1994\n",
      "개 띠입니다.\n"
     ]
    }
   ],
   "source": [
    "#p137 연습문제 4\n",
    "str_input = input(\"태어난 해를 입력해 주세요> \")\n",
    "birth_year = int(str_input)\n",
    "if birth_year%12 == 0:\n",
    "    print('원숭이 띠입니다.')\n",
    "elif birth_year%12 ==1:\n",
    "    print('닭 띠입니다.')\n",
    "elif birth_year%12 ==2:\n",
    "    print('개 띠입니다.')\n",
    "elif birth_year%12 ==3:\n",
    "    print('돼지 띠입니다.')\n",
    "elif birth_year%12 ==4:\n",
    "    print('쥐 띠입니다.')\n",
    "elif birth_year%12 ==5:\n",
    "    print('소 띠입니다.')\n",
    "elif birth_year%12 == 6:\n",
    "    print('범 띠입니다.')\n",
    "elif birth_year%12 == 7:\n",
    "    print('토끼 띠입니다.')\n",
    "elif birth_year%12 == 8:\n",
    "    print('용 띠입니다.')\n",
    "elif birth_year%12 == 9:\n",
    "    print('뱀 띠입니다.')\n",
    "elif birth_year%12 ==10:\n",
    "    print('말 띠입니다.')\n",
    "elif birth_year%12 == 11:\n",
    "    print('양 띠입니다.')\n"
   ]
  },
  {
   "cell_type": "code",
   "execution_count": null,
   "metadata": {},
   "outputs": [],
   "source": []
  }
 ],
 "metadata": {
  "kernelspec": {
   "display_name": "Python 3",
   "language": "python",
   "name": "python3"
  },
  "language_info": {
   "codemirror_mode": {
    "name": "ipython",
    "version": 3
   },
   "file_extension": ".py",
   "mimetype": "text/x-python",
   "name": "python",
   "nbconvert_exporter": "python",
   "pygments_lexer": "ipython3",
   "version": "3.7.6"
  }
 },
 "nbformat": 4,
 "nbformat_minor": 4
}
