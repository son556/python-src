{
 "cells": [
  {
   "cell_type": "markdown",
   "metadata": {},
   "source": [
    "# python\n",
    "## 기본문법 1일차"
   ]
  },
  {
   "cell_type": "code",
   "execution_count": null,
   "metadata": {
    "scrolled": false
   },
   "outputs": [],
   "source": [
    "print('hello')\n",
    "print(10*20)\n",
    "10+20"
   ]
  },
  {
   "cell_type": "code",
   "execution_count": null,
   "metadata": {},
   "outputs": [],
   "source": [
    "import keyword\n",
    "#print(keyword.kwlist)"
   ]
  },
  {
   "cell_type": "code",
   "execution_count": null,
   "metadata": {},
   "outputs": [],
   "source": [
    "1 + 1"
   ]
  },
  {
   "cell_type": "code",
   "execution_count": null,
   "metadata": {},
   "outputs": [],
   "source": [
    "'hello'+' test'"
   ]
  },
  {
   "cell_type": "code",
   "execution_count": null,
   "metadata": {},
   "outputs": [],
   "source": [
    "print('test print')\n",
    "print(10+20)"
   ]
  },
  {
   "cell_type": "code",
   "execution_count": null,
   "metadata": {},
   "outputs": [],
   "source": [
    "# print() 함수 사용해 보기\n",
    "print(\"hello python\")\n",
    "print(\"연산식 :\", 10+20)\n",
    "print(\"여러자료 출력 : \", 10, 20, ' end')\n",
    "print()\n",
    "print(10+20)\n",
    "print(\"test\",\"123\",sep='#')"
   ]
  },
  {
   "cell_type": "code",
   "execution_count": null,
   "metadata": {},
   "outputs": [],
   "source": [
    "# 자료형 확인\n",
    "type('문자열')\n",
    "print(type('abvd'))\n",
    "print(type(12))\n",
    "print(type(True))\n",
    "print(type('10'))"
   ]
  },
  {
   "cell_type": "code",
   "execution_count": null,
   "metadata": {},
   "outputs": [],
   "source": [
    "abc = 10\n",
    "abc"
   ]
  },
  {
   "cell_type": "code",
   "execution_count": null,
   "metadata": {},
   "outputs": [],
   "source": [
    "print(\"\"\"안녕\"\"\")\n",
    "# \"을 출력하고자 할 때 \"을 약속된 문자가 아닌 일반 문자로 인식을하고자 함\n",
    "#  역 슬러시\n"
   ]
  },
  {
   "cell_type": "code",
   "execution_count": null,
   "metadata": {},
   "outputs": [],
   "source": [
    "# escape 를 활용한 탭 사용\n",
    "print(\"이름\\t나이\\t지역\")\n",
    "print(\"윤인성\\t25\\t강서구\")\n",
    "print(\"\"\"동해물과 백두산이 마르고 닳도록\n",
    "하느님이 보우하사\"\"\")\n",
    "print(\"\"\"\\\n",
    "동해물과 백두산이 마르고 닳도록\\\n",
    "하느님이 보우하사\"\"\")\n",
    "10 +\\\n",
    "20"
   ]
  },
  {
   "cell_type": "code",
   "execution_count": null,
   "metadata": {},
   "outputs": [],
   "source": [
    "#  문자열 연산자 : +,*\n",
    "print(\"test\"+\" string\")# test string\n",
    "print(\"test \"*3)# test test test"
   ]
  },
  {
   "cell_type": "code",
   "execution_count": null,
   "metadata": {},
   "outputs": [],
   "source": [
    "# 문자열 슬라이싱\n",
    "print(\"hello test string\"[0]) # h\n",
    "print(\"hello test string\"[-1])# g\n",
    "print(\"hello test string\"[:-3])# hello test str\n",
    "print(\"hello test string\"[6:])# test string\n",
    "# print(\"hello str string\"[20]) #error\n",
    "\n",
    "print(len(\"hello str string\"))\n",
    "print(\"hello str string\"[-3 : -1])\n",
    "print(\"hello str string\"[0:16])\n",
    "print(\"hello str string\"[1:15]) # 15 -> g // 출력 x"
   ]
  },
  {
   "cell_type": "code",
   "execution_count": null,
   "metadata": {},
   "outputs": [],
   "source": [
    "#  숫자 연산\n",
    "print(10+20) # 30\n",
    "print(10/3) #3.3..\n",
    "print(10//3) # 몫의 정수만3\n",
    "print(10%3) # 나머지 1\n",
    "# print(\"test\" + 3) #error\n",
    "print(10**3) # 1000"
   ]
  },
  {
   "cell_type": "code",
   "execution_count": null,
   "metadata": {},
   "outputs": [],
   "source": [
    "# 변수 활용 변수명 = 값,, 변수는 방( 또는 박스)을 의미\n",
    "pi = 3.14 # pi 라는 방을 만들고 방의 값은 3.14이다\n",
    "print(pi) # 3.14\n",
    "print(pi + 4) # 7.14\n",
    "print(type(pi)) #float\n",
    "pi = 'string test' # pi의 값은 'string test'로 변경됨\n",
    "print(pi) # string test\n",
    "print(type(pi)) # str\n",
    "\n",
    "a = 'str'\n",
    "a = 10\n",
    "a = True\n",
    "print(\"a : \", a, \"type : \", type(a)) # True, boolean"
   ]
  },
  {
   "cell_type": "code",
   "execution_count": null,
   "metadata": {},
   "outputs": [],
   "source": [
    "number = 100\n",
    "number += 10\n",
    "number +=20\n",
    "number +=30\n",
    "print(\"number:\",number)\n",
    "string = \"hello\"\n",
    "string += \"!\"\n",
    "print(\"string : \",string)"
   ]
  },
  {
   "cell_type": "code",
   "execution_count": null,
   "metadata": {},
   "outputs": [],
   "source": [
    "# input 함수\n",
    "string = input(\" input data > \") # 들어온 데이터를 다 문자로 인식"
   ]
  },
  {
   "cell_type": "code",
   "execution_count": null,
   "metadata": {},
   "outputs": [],
   "source": [
    "# string = int(string) + 10\n",
    "string += '10'\n",
    "string # 문자를 숫자로 변경 int(변수명 또는 문자), float(문자)\n",
    "#숫자를 문자로 변경 str(숫자)\n",
    "str(string) + 'test'"
   ]
  },
  {
   "cell_type": "code",
   "execution_count": null,
   "metadata": {},
   "outputs": [],
   "source": [
    "# 문자열 관련 함수 : format\n",
    "a_str = \"{} test {}\".format(10, 'add')\n",
    "print(a_str)\n",
    "print(\"{:d} {:f} {:.3f}\".format(10,10.0,10.0))"
   ]
  },
  {
   "cell_type": "code",
   "execution_count": null,
   "metadata": {},
   "outputs": [],
   "source": [
    "format_a = \"{}만원\".format(5000)\n",
    "format_b = \"파이썬 열공하여 첫 연봉 {}만 원 만들기\".format(5000)\n",
    "format_c = \"{} {} {}\".format(3000, 4000, 5000)\n",
    "format_d = \"{} {} {}\".format(1, \"문자열\", True)\n",
    "\n",
    "print(format_a, format_b, format_c, format_d)"
   ]
  },
  {
   "cell_type": "code",
   "execution_count": null,
   "metadata": {},
   "outputs": [],
   "source": [
    "output_a = \"{:d}\".format(52)\n",
    "b = \"{:05d}\".format(52)\n",
    "c = float(\"{:5d}\".format(-24))\n",
    "print(output_a, b, c)\n",
    "type(c)\n",
    "str(b)\n",
    "print(type(b))"
   ]
  },
  {
   "cell_type": "code",
   "execution_count": null,
   "metadata": {},
   "outputs": [],
   "source": [
    "# 문자열 관련함수 : upper(), lower(), strip(), lstrip(), rstrip()\n",
    "a_str = \"   test str 10 num ABc test DEf   \"\n",
    "print(a_str.upper())# 모두 대문자로\n",
    "print(a_str.lower())# 모두 소문자로\n",
    "print(a_str.strip())# 양쪽 공백제거\n",
    "print(a_str.lstrip())#왼쪽 공백제거\n",
    "print(\"/\",a_str.rstrip(),\"/\")#오른쪽 공백 제거\n",
    "print(\"/{}/\".format(a_str.strip()))\n",
    "\n",
    "print(a_str.strip()[:4].isalnum()) #True //isalnum() : 알파벳과 숫자만 있는가? / [:4]-> (0,1,2,3)\n",
    "print(a_str.strip().isalnum()) #False"
   ]
  },
  {
   "cell_type": "code",
   "execution_count": null,
   "metadata": {},
   "outputs": [],
   "source": [
    "print(a_str.find('test')) # 인덱스(주소) 반환\n",
    "print(a_str.rfind('test')) # 인덱스(주소) 반환 (뒤 부터 찾음)\n",
    "print('test' in a_str) #True '문자' in \"문자열\" -> 문자가 문자열에 존재시 True"
   ]
  },
  {
   "cell_type": "code",
   "execution_count": null,
   "metadata": {},
   "outputs": [],
   "source": [
    "# 문자열 관련함수\n",
    "# format ,lower, upper ,strip, is00,in, find, rfind\n",
    "#string.함수명()\n",
    "# split() : 문자열 자르기 -> 리스트로 반환\n",
    "print(a_str.split())\n",
    "a_str.split(sep = ' ')\n",
    "a_list = a_str.split()\n",
    "print(type(a_list),type(a_list[0]))\n",
    "# a_str = \"   test str 10 num ABc DEf   \"\n",
    "a_list[0][0]# a_list 의 처음 자료를 검색후 처음 자료의 첫글자 출력\n",
    "a_list[3][1:-1] # [3]-> num [1:-1] -> 1:u , -1:m"
   ]
  },
  {
   "cell_type": "code",
   "execution_count": null,
   "metadata": {},
   "outputs": [],
   "source": [
    "# 두 수를 입력받아 두 수의 합과 차를 구하세요\n",
    "a_str= input(\"두 수 입력 >\")\n",
    "a_list = a_str.split()\n",
    "a_1 = int(a_list[0])\n",
    "a_2 = int(a_list[1])\n",
    "print(a_1 + a_2, a_1 - a_2)"
   ]
  },
  {
   "cell_type": "code",
   "execution_count": null,
   "metadata": {},
   "outputs": [],
   "source": [
    "# teacher\n",
    "input_data = input(\"두 수 입력> \").split()\n",
    "input_num1 = int(input_data[0])\n",
    "input_num2 = int(input_data[1])\n",
    "print(\"{}+{}={}\".format(input_num1, input_num2,input_num1 + input_num2))\n",
    "print(\"{}-{}={}\".format(input_num1, input_num2,input_num1 - input_num2))"
   ]
  },
  {
   "cell_type": "code",
   "execution_count": null,
   "metadata": {},
   "outputs": [],
   "source": [
    "# 영문자를 입력받아 변수에 저장한 후 대문자, 소문자로 출력하세요\n",
    "#isalpha 가 true인지 확인하세요\n",
    "#숫자를 입력받아 변수에 저장한 후 isdigit를 확인하세요\n",
    "#문자를 10개 입력받아 변수에 저장한 후 5번째 문자열의 처음 문자만 출력\n",
    "#문자열의 길이를 출력하세요\n",
    "#문자에 'test'가 입력 되었는지 확인하세요\n",
    "#숫자 세개를 입력 받아 처음 숫자와 마지막 숫자의 합구하시오\n",
    "# 두번째 숫자와 마지막 숫자의 곱을 구하시오"
   ]
  },
  {
   "cell_type": "code",
   "execution_count": null,
   "metadata": {},
   "outputs": [],
   "source": [
    "# 영문자를 입력받아 대문자 소문자 출력, isalpha 가 true 인지 확인\n",
    "input_data = input(\"문자 입력>\")#split을 사용하면 안됨\n",
    "a = input_data.upper()\n",
    "b = input_data.lower()\n",
    "print(a)\n",
    "print(b)\n",
    "print(\"isalpha : {}\".format(input_data.isalpha()))"
   ]
  },
  {
   "cell_type": "code",
   "execution_count": null,
   "metadata": {},
   "outputs": [],
   "source": [
    "#숫자를 입력받아 isdigit확인, 숫자 세개 입력 받아 처음 숫자와 마지막 숫자 합, 두번째 숫자와 마지막 숫자 곱\n",
    "input_data2 = input(\"숫자 입력>\").split()\n",
    "print(\"numper ? {}\".format(input_data2[0].isdigit())) # isdigit은 문자열에만 사용\n",
    "data1 = int(input_data2[0])\n",
    "data2 = int(input_data2[1])\n",
    "data3 = int(input_data2[2])\n",
    "print(\"{}+{}={}\".format(data1, data3, data1+data3))\n",
    "print(\"{}*{}={}\".format(data2,data3,data2*data3))"
   ]
  },
  {
   "cell_type": "code",
   "execution_count": null,
   "metadata": {},
   "outputs": [],
   "source": [
    "# 문자를 5개 입력받아 변수에 저장한 후 3번째 문자열의 처음 문자만 출력\n",
    "input_str = input(\"input string > \").split()\n",
    "print(\"3번째 문자열의 처음 문자 : {}\".format(input_str[2][0]))\n",
    "#5번째 문자의 마지막 문자만 출력\n",
    "print(\"5번째 문자열의 처음 문자 : {}\".format(input_str[-1][-1]))"
   ]
  },
  {
   "cell_type": "code",
   "execution_count": null,
   "metadata": {},
   "outputs": [],
   "source": [
    "# 문자열의 길이를 출력하세요\n",
    "print(len(input_str))\n",
    "#문자에 'test'가 입력되었는지 확인하기\n",
    "print('test' in input_str)"
   ]
  },
  {
   "cell_type": "code",
   "execution_count": null,
   "metadata": {},
   "outputs": [],
   "source": [
    "# 영문자를 입력받아 변수에 저장한 후 대문자, 소문자로 출력하세요\n",
    "#isalpha 가 true인지 확인하세요\n",
    "#숫자를 입력받아 변수에 저장한 후 isdigit를 확인하세요\n",
    "#문자를 10개 입력받아 변수에 저장한 후 5번째 문자열의 처음 문자만 출력\n",
    "#문자열의 길이를 출력하세요\n",
    "#문자에 'test'가 입력 되었는지 확인하세요\n",
    "#숫자 세개를 입력 받아 처음 숫자와 마지막 숫자의 합구하시오\n",
    "# 두번째 숫자와 마지막 숫자의 곱을 구하시오\n",
    "alpha = input(\"영문자를 입력하시오>\")\n",
    "print(alpha.upper())\n",
    "print(alpha.lower())\n",
    "beta = input(\"영문자를 입력하시오2>\").split()\n",
    "print(len(beta))\n",
    "print(\"마지막 문자열의 처음 문자 : {}\".format(beta[-1][0]))\n",
    "print(\"3번째 문자열의 처음 문자 : {}\".format(beta[2][0]))\n",
    "print('test'in beta)\n",
    "c = input(\"숫자를 입력하시오\").split()\n",
    "num1 = int(c[0])\n",
    "num2 = int(c[1])\n",
    "num3 = int(c[2])\n",
    "print(\"숫자 ? : {}\".format(c[0].isdigit()))\n",
    "print(\"{}+{}={}\".format(num1,num3,num1+num3))\n",
    "print(\"{}*{}={}\".format(num2,num3,num2*num3))\n"
   ]
  },
  {
   "cell_type": "code",
   "execution_count": null,
   "metadata": {},
   "outputs": [],
   "source": []
  }
 ],
 "metadata": {
  "kernelspec": {
   "display_name": "Python 3",
   "language": "python",
   "name": "python3"
  },
  "language_info": {
   "codemirror_mode": {
    "name": "ipython",
    "version": 3
   },
   "file_extension": ".py",
   "mimetype": "text/x-python",
   "name": "python",
   "nbconvert_exporter": "python",
   "pygments_lexer": "ipython3",
   "version": "3.7.6"
  }
 },
 "nbformat": 4,
 "nbformat_minor": 4
}
