{
 "cells": [
  {
   "cell_type": "code",
   "execution_count": null,
   "metadata": {},
   "outputs": [],
   "source": [
    "## bollean 연습 : ==, !=,<,>,<=,>=\n",
    "print(10==100) #False\n",
    "print(10<100) # True\n",
    "print(10 != 100) #True\n",
    "print(10>100) #False\n",
    "print(10>=100) #False\n",
    "print(10 <= 100) # True\n",
    "print(not 10 <= 100) #not 은 print(10 <= 100) 의 반대-> False"
   ]
  },
  {
   "cell_type": "code",
   "execution_count": null,
   "metadata": {},
   "outputs": [],
   "source": [
    "print(\"가방\"==\"하마\") # False\n",
    "print(\"가방\"!=\"하마\") # True\n",
    "print(\"가방\"<\"하마\") # True\n",
    "print(\"가방\">\"하마\") # False\n"
   ]
  },
  {
   "cell_type": "code",
   "execution_count": null,
   "metadata": {},
   "outputs": [],
   "source": [
    "x = 20\n",
    "print(10 < x <25) #True\n",
    "print(10<x and x<25) # 다른 언어에서는 이렇게 사용// 조건1 and 조건 2 -> 둘 다 True 일 때 True , 나머지 False\n",
    "# 조건1 or 조건 2 -> 둘 다 False 일 때 False , 나머지 True"
   ]
  },
  {
   "cell_type": "code",
   "execution_count": null,
   "metadata": {},
   "outputs": [],
   "source": [
    "# 조건식 : if 표현식 :\n",
    "#              처리문장\n",
    "if True :\n",
    "    print('True !!')\n",
    "print(\"-------\")\n",
    "if False:\n",
    "    print('False!!')"
   ]
  },
  {
   "cell_type": "code",
   "execution_count": null,
   "metadata": {},
   "outputs": [],
   "source": [
    "# 정수를 입력받아 양수이면 '양수입니다. ' 음수이면 '음수입니다' 0 이면 '0입니다'\n",
    "a = int(input('정수를 입력하시오 >')) #input 으로 받은 값은 전부 문자처리\n",
    "if a>0:\n",
    "    print('양수입니다')\n",
    "if a < 0:\n",
    "    print('음수입니다')\n",
    "if a==0:\n",
    "    print('0입니다')\n"
   ]
  },
  {
   "cell_type": "code",
   "execution_count": null,
   "metadata": {},
   "outputs": [],
   "source": [
    "# 정수를 입력받아 짝수인지 홀수인지 출력\n",
    "b = int(input('정수를 입력하시오>'))\n",
    "if b%2 == 0 :\n",
    "    print('짝수입니다')\n",
    "if b%2 != 0:\n",
    "    print('홀수입니다')"
   ]
  },
  {
   "cell_type": "code",
   "execution_count": null,
   "metadata": {},
   "outputs": [],
   "source": [
    "c = input('정수를 입력하시오>')\n",
    "last_char  = c[-1] # 문자로 받아야 인덱스 번호에 맞는 값을 가져옴\n",
    "if last_char in '13579' :\n",
    "    print('홀수')\n",
    "if last_char in '02468':\n",
    "    print('짝수')"
   ]
  },
  {
   "cell_type": "code",
   "execution_count": null,
   "metadata": {},
   "outputs": [],
   "source": [
    "#시간을 다루는 모듈 datetime\n",
    "import datetime\n",
    "\n",
    "now = datetime.datetime.now()\n",
    "print(\"{}년 {}월 {}일 {}시 {}분 {}초 \"\\\n",
    "      .format(now.year, now.month, now.day, now.hour , now.minute, now.second))"
   ]
  },
  {
   "cell_type": "code",
   "execution_count": null,
   "metadata": {},
   "outputs": [],
   "source": [
    "#지금 시간 오전인지 오후인지 출력\n",
    "#지금 겨울 봄? 봄 (3~ 5) 겨울 (1,2,12) 여름 (6~8), 가을(9~11) 계절출력\n",
    "# my\n",
    "import datetime\n",
    "\n",
    "now = datetime.datetime.now()\n",
    "\n",
    "date = \"{} 년 {} 월 {} 일 {} 시 {} 분 {} 초 \"\\\n",
    "      .format(now.year, now.month, now.day, now.hour , now.minute, now.second)\n",
    "data = date.split()\n",
    "hour = int(data[6])\n",
    "if hour>=12:\n",
    "    print('오후')\n",
    "else:\n",
    "    print('오전')\n",
    "    \n",
    "    \n",
    "if data[2] in '345':\n",
    "    print('봄')\n",
    "if data[2] in '678':\n",
    "    print('여름')\n",
    "if data[2] == '9' or data[2] == '10' or data[2] == '11' :\n",
    "    print('가을')\n",
    "if data[2] == '12' or data[2]=='1' or data[2] == '2':\n",
    "    print('겨울')"
   ]
  },
  {
   "cell_type": "code",
   "execution_count": null,
   "metadata": {},
   "outputs": [],
   "source": [
    "# teacher\n",
    "now = datetime.datetime.now()\n",
    "\n",
    "date = \"{}년 {}월 {}일 {}시 {}분 {}초 \"\\\n",
    "      .format(now.year, now.month, now.day, now.hour , now.minute, now.second) # 숫자로 인식\n",
    "\n",
    "\n",
    "if now.hour > 12 :\n",
    "    print(\"오후\")\n",
    "if now.hour < 12 :\n",
    "    print(\"오전\")\n",
    "    \n",
    "if 3<= now.month <=5:\n",
    "    print('봄')\n",
    "if 6<= now.month <=8:\n",
    "    print(\"여름\")\n",
    "if 9<= now.month <= 11:\n",
    "    print(\"가을\")\n",
    "if 1<=now.month <=2 or now.month==12 :\n",
    "    print(\"겨울\")\n",
    "print(date[3])"
   ]
  },
  {
   "cell_type": "code",
   "execution_count": null,
   "metadata": {},
   "outputs": [],
   "source": [
    "if now.hour > 12:\n",
    "    print(\"오후\")\n",
    "else :\n",
    "    print(\"오전\")"
   ]
  },
  {
   "cell_type": "code",
   "execution_count": null,
   "metadata": {},
   "outputs": [],
   "source": [
    "# 정수를 입력받아 짝수 홀수 출력\n",
    "# my\n",
    "num = int(input('정수를 입력하시오>'))\n",
    "if num%2==0:\n",
    "    print('짝수')\n",
    "else:\n",
    "    print('홀수')\n",
    "    \n",
    "if num%2:  # 숫자인 경우 0이 아니면 True\n",
    "    print('홀수1')\n",
    "else:\n",
    "    print('짝수1')\n",
    "    \n",
    "if \"\":  #문자인 경우 그값이 없으면 False 있으면 True\n",
    "    print(\"True\")\n",
    "else:\n",
    "    print(\"False\")"
   ]
  },
  {
   "cell_type": "code",
   "execution_count": null,
   "metadata": {},
   "outputs": [],
   "source": [
    "# 계산식을 입력받아 처음 문자와 마지막 문자가 입력되지 않으면 '계산불가'\n",
    "# 아니면 계산 결과를 출력 1.계산식을 입력 받는다 2.입력 받은 문자열 분리 3.처음 문자와 마지막 문자가 숫자인지 확인\n",
    "# 4. 3의 결과가 True이면 계산식 처리 4.1 두번째 문자가 '+'면 +를, '*'면 *을 '-','/'\n",
    "# 5. 3의 결과가 False 이면 계산불가 출력\n",
    "# my\n",
    "function = input('계산식 입력 (10 + 20)>')\n",
    "a = function.split()# 공백은 인덱스 안들어감\n",
    "print(a)\n",
    "\n",
    "if a[0].isdigit() and a[-1].isdigit():\n",
    "    num1 = int(a[0])\n",
    "    num2 = int(a[-1])\n",
    "    if a[1] == '+':\n",
    "        print(\"{}+{}={}\".format(num1,num2,num1+num2))\n",
    "    elif a[1]== '-':\n",
    "         print(\"{}-{}={}\".format(num1,num2,num1-num2))\n",
    "    elif a[1] == '*':\n",
    "         print(\"{} * {}={}\".format(num1,num2,num1*num2))\n",
    "    elif a[1] == '/':\n",
    "         print(\"{}/{}={}\".format(num1,num2,num1/num2))\n",
    "    else :\n",
    "        print(\"계산불가1111\")\n",
    "\n",
    "if not a[0].isdigit() or not a[-1].isdigit() : \n",
    "    print(\"계산불가\")"
   ]
  },
  {
   "cell_type": "code",
   "execution_count": null,
   "metadata": {},
   "outputs": [],
   "source": [
    "# teacher\n",
    "input_data = input(\"계산식 입력 (10 + 20)>\")\n",
    "input_data = input_data.split()\n",
    "num1 = input_data[0]\n",
    "num2 = input_data[2]\n",
    "buho = input_data[1]\n",
    "\n",
    "if len(input_data) !=3: #split 을 한 경우 스필릿으로 나뉜 문자 갯수 나옴\n",
    "    print('입력 갯수 error')\n",
    "else:\n",
    "    if num1.isdigit() and num2.isdigit() :\n",
    "        if buho in '+-*/':\n",
    "            num1 = int(num1)\n",
    "            num2 = int(num2)\n",
    "            if buho == '+':\n",
    "                result = num1 + num2\n",
    "            elif buho == '-':\n",
    "                result = num1 - num2\n",
    "            elif buho == '*':\n",
    "                result = num1 * num2\n",
    "            else:\n",
    "                result = num1 / num2\n",
    "\n",
    "            print(\"{} {} {}={}\".format(num1, buho, num2, result))\n",
    "\n",
    "\n",
    "        else:\n",
    "            print(\"계산 불가\")\n",
    "\n",
    "    else:\n",
    "        print(\"계산불가\")"
   ]
  },
  {
   "cell_type": "code",
   "execution_count": null,
   "metadata": {},
   "outputs": [],
   "source": [
    "if True:\n",
    "    pass # 처리할게 없을 경우 사용 if,else 다음 반드시 무언가 넣어야하는데 미구현인경우 pass 사용\n",
    "else:\n",
    "    raise NotImplimentedError ## 에러가 났느데 해당 문장에 에러가 없다면 앞의 문장도 확인!!"
   ]
  },
  {
   "cell_type": "code",
   "execution_count": null,
   "metadata": {},
   "outputs": [],
   "source": [
    "# list ; + , * , list.append(요소), list.insert(위치,요소)\n",
    "#리스트에 리스트의 각 요소 추가 : list.extend(리스트)\n",
    "# list -> [,,,]요소를 나열\n",
    "list_a = [1,2,3]\n",
    "list_b = [4,5,6]\n",
    "print('list_a+list_b : ',list_a + list_b) # 비파괴적(원본데이터 영향x)\n",
    "print(\"list_a*3 : \",list_a*3) \n",
    "list_a.append('학생')\n",
    "print(\"list_a : \", list_a)\n",
    "list_a.append(list_b)\n",
    "print(\"list_a : \",list_a)\n",
    "\n",
    "print(\"list_a.append : \", list_a.append('add'))#추가만 수행학고 리턴 값을 안받음 ->none\n",
    "print(list_a)\n",
    "\n",
    "list_a.insert(1,'add')# index [1]의 자리에 add 추가하고 원래 있던 요소는 뒤로 밀림\n",
    "print(list_a)\n",
    "print(list_a[1:-1]) # [0],[-1] 제외하고 출력"
   ]
  },
  {
   "cell_type": "code",
   "execution_count": null,
   "metadata": {},
   "outputs": [],
   "source": [
    "a = '1'\n",
    "int(a)\n",
    "type(a) #str //비파괴\n",
    "a = int(a)\n",
    "type(a) #int// 파괴\n",
    "list_a = [1,2,3]\n",
    "list_b = [4,5,6]\n",
    "list_a + list_b\n",
    "print(list_a)\n",
    "list_a.append(list_b)#파괴적(원본데이터 영향o)\n",
    "print(list_a)\n",
    "list_a.extend(list_b) #list_b의 각 요소가 list_a의 각각의 요소로 삽입\n",
    "print(list_a + list_b)\n",
    "list_a*3\n",
    "print(list_a)"
   ]
  },
  {
   "cell_type": "code",
   "execution_count": null,
   "metadata": {},
   "outputs": [],
   "source": [
    "#리스트 요소 제거 : del 리스트[인덱스], list.pop(index), list.remove(값)\n",
    "# 모두 지우기 : list.clear()\n",
    "print(list_b)\n",
    "#처음 위치의 요소 제거\n",
    "del list_b[0]\n",
    "print(list_b)\n",
    "\n",
    "list_b = [4,5,6]\n",
    "list_a = [1,2,3]\n",
    "list_a.extend(list_b)\n",
    "print(\"first list_a : \", list_a)\n",
    "# 두 번째 위치의 요소 제거 : list_a.pop(1)을 이용\n",
    "list_a.pop(1)\n",
    "list_a\n",
    "print(\"second list_a : \", list_a)\n",
    "\n",
    "list_a.remove(5)\n",
    "print(\"third list_a : \",list_a)\n",
    "\n",
    "\n",
    "list_a.clear()\n",
    "print(\"end list_a : \",list_a)"
   ]
  },
  {
   "cell_type": "markdown",
   "metadata": {},
   "source": [
    "## list의 요소 추가 : 리스트.append(요소), 리스트.insert(위치,요소)\n",
    "## list의 요소 제거 : del 리스트 [인덱스], 리스트.remove(값)\n",
    "## list의 전체 데이터 제거 : 리스트.clear()"
   ]
  },
  {
   "cell_type": "code",
   "execution_count": null,
   "metadata": {},
   "outputs": [],
   "source": [
    "list_c = list_b.copy() # 내용 복사\n",
    "list_d = list_b # 주소 복사// list_d를 고치면 list_b도 고쳐짐\n",
    "print(list_c, list_d)"
   ]
  },
  {
   "cell_type": "code",
   "execution_count": null,
   "metadata": {},
   "outputs": [],
   "source": [
    "list_d[0] = 10\n",
    "print(list_b) # [10, 5, 6] 중요!! 데이터 복제할때는 .copy()를 사용!!\n",
    "\n",
    "list_c"
   ]
  },
  {
   "cell_type": "code",
   "execution_count": null,
   "metadata": {},
   "outputs": [],
   "source": [
    "# 반복문 : for\n",
    "# for 변수 in 반복 :        //반복할 수 있으면 무엇이든 반복 부분에 들어올 수 있다\n",
    "#    처리문\n",
    "for i in range(5):   #range(1,100,5) //1부터 100까지 5씩 증가\n",
    "    print(\" i의 값 : {}\".format(i))\n",
    "    \n",
    "for value in list_b:\n",
    "    print(value)\n",
    "    \n",
    "for char in \"Hello\":\n",
    "    print('',char)"
   ]
  },
  {
   "cell_type": "code",
   "execution_count": null,
   "metadata": {},
   "outputs": [],
   "source": [
    "# 두 숫자를 입력받아 두 수 사이의 합을 구하세요 ex) 20 10 -> 10 + ...+20 # for 앞에서 값 초기화, 순서대로 더하기\n",
    "# for i in range(1,10) : 으로 하면 i 값에 1 부터 10까지 1씩 증가하면서 값이 저장됨\n",
    "input_num = input('두 수를 입력하시오(10 20)>')\n",
    "num = input_num.split()\n",
    "num1 = int(num[0])\n",
    "num2 = int(num[1])\n",
    "\n",
    "if num1>num2 :\n",
    "    total1 = 0\n",
    "    for i in range(num2,num1+1):\n",
    "        total1+= i\n",
    "    print(total1)\n",
    "        \n",
    "else:\n",
    "    total2 = 0\n",
    "    for i in range(num1,num2+1):\n",
    "        total2+= i\n",
    "    print(total2)\n",
    "    \n"
   ]
  },
  {
   "cell_type": "code",
   "execution_count": null,
   "metadata": {},
   "outputs": [],
   "source": [
    "#teacher\n",
    "input_data = input(\"두 수 입력: \").split()\n",
    "start_num = input_data[0]\n",
    "end_num = input_data[1]\n",
    "\n",
    "if start_num.isdigit() and end_num.isdigit():\n",
    "    start_num = int(input_data[0])\n",
    "    end_num = int(input_data[1])\n",
    "    if start_num > end_num :\n",
    "        start_num = int(input_dta[1])\n",
    "        end_num = int(input_data[0])\n",
    "    total = 0\n",
    "    for value in range(start_num,end_num+1):\n",
    "        total += value\n",
    "    print(\"{}에서 {}의 합은: {}\".format(start_num,end_num,total))\n",
    "else:\n",
    "    print(\"입력된 자료가 숫자가 아님~\")"
   ]
  },
  {
   "cell_type": "code",
   "execution_count": null,
   "metadata": {},
   "outputs": [],
   "source": [
    "#연습문제 4\n",
    "list_a = [\n",
    "    [1,2,3],\n",
    "    [4,5,6,7],\n",
    "    [8,9]\n",
    "]\n",
    "for i in range(3):\n",
    "    b = len(list_a[i])\n",
    "    for v in range(b):\n",
    "        print(list_a[i][v])\n",
    "# 연습문제 5        \n",
    "numbers = [1,2,3,4,5,6,7,8,9]\n",
    "output = [[],[],[]]\n",
    "\n",
    "for number in numbers:\n",
    "    output[number%3 - 1].append(number)\n",
    "print(output)"
   ]
  },
  {
   "cell_type": "code",
   "execution_count": null,
   "metadata": {},
   "outputs": [],
   "source": [
    "numbers = [1,2,3,4,5,6,7,8,9]# del numbers[1] <-제거\n",
    "output = [[],[],[]]\n",
    "\n",
    "for n in numbers:\n",
    "    if n < 4:\n",
    "        output[0].append(n)\n",
    "    elif 3<n<7:\n",
    "        output[1].append(n)\n",
    "    else:\n",
    "        output[2].append(n)\n",
    "print(output)"
   ]
  },
  {
   "cell_type": "code",
   "execution_count": null,
   "metadata": {},
   "outputs": [],
   "source": [
    "# 딕셔너리, 키 ,값 {키 : 값, 키 : 값,} // 키로 값을 찾아옴, 선언은 {}로\n",
    "# dictionary : {키 : 값, ...} 요소 접근은 딕셔너리[키]\n",
    "dict_a = {\n",
    "    \"name\" : \"7D 건조 망고\",\n",
    "    \"type\" : \"당절임\"\n",
    "}\n",
    "print(dict_a)\n",
    "print(dict_a['name'])\n",
    "\n",
    "dict_a[\"ingredient\"] = [\"망고\",\"설탕\",\"나트륨\"]\n",
    "print(dict_a)\n",
    "\n",
    "del dict_a['type']\n",
    "print(dict_a)\n",
    "\n",
    "dict_a['type'] = '당절임'\n",
    "dict_a\n",
    "\n",
    "if 'type' in dict_a:\n",
    "    print(\"type key 존재\")\n",
    "else:\n",
    "    print(\"존재하지 않는 키\")\n",
    "    \n",
    "    \n",
    "# for 반복문으로 각 요소의 값 출력\n",
    "\n",
    "for key in dict_a:\n",
    "    print(\"{} : {}\".format(key, dict_a[key]))\n",
    "\n",
    "print(type(list_a), type(dict_a), type(dict_a['name']))"
   ]
  },
  {
   "cell_type": "code",
   "execution_count": null,
   "metadata": {},
   "outputs": [],
   "source": [
    "for key,value in dict_a.items(): # .items()는 key,value 값을 동시에 가져온다 (for 문 사용시 두 개의 변수 필요!!)\n",
    "    print(\"{} : {}\".format(key, value))"
   ]
  },
  {
   "cell_type": "code",
   "execution_count": null,
   "metadata": {},
   "outputs": [],
   "source": [
    "list_a = []\n",
    "dict_a = {}\n",
    "\n",
    "list_a.append(10)\n",
    "dict_a['name'] = '홍길동'\n",
    "\n",
    "list_a\n",
    "#1. 키보드에서 숫자를 입력받아 리스트에 저장한 후 입력한 전체 데이터의 합을 출력(5회)\n",
    "#2. 키보드에서 이름 국어 영어 수학 점수를 입력받아 딕셔너리에 저장한 후 합계를 딕셔너리에 추가하고 결과 출력\n",
    "#   이름에 'quit'이 입력되면 입력 종료\n",
    "#3. 키보드에서 이름을 입력받아 저장된 딕셔너리의 이름이 있는지 확인하고 있으면 점수를 출력, 없으면 자료 없음 으로 출력"
   ]
  },
  {
   "cell_type": "code",
   "execution_count": null,
   "metadata": {},
   "outputs": [],
   "source": [
    "#1. 키보드에서 숫자를 입력받아 리스트에 저장한 후 입력한 전체 데이터의 합을 출력(5회)\n",
    "list_a = []\n",
    "total = 0\n",
    "for i in range(5):\n",
    "    num = int(input('숫자를 입력하시오>'))\n",
    "    list_a.append(num)\n",
    "    total+= num\n",
    "print(total)\n",
    "print(list_a)"
   ]
  },
  {
   "cell_type": "code",
   "execution_count": null,
   "metadata": {},
   "outputs": [],
   "source": [
    "#2. 키보드에서 이름 국어 영어 수학 점수를 입력받아 딕셔너리에 저장한 후 합계를 딕셔너리에 추가하고 결과 출력\n",
    "#   이름에 'quit'이 입력되면 입력 종료\n",
    "#3. 키보드에서 이름을 입력받아 저장된 딕셔너리의 이름이 있는지 확인하고 있으면 점수를 출력, 없으면 자료 없음 으로 출력\n",
    "dict_a={}\n",
    "\n",
    "for i in range(100000):\n",
    "    name = input(\"이름을 입력하시오> \")\n",
    "    if name == 'quit' :\n",
    "        break\n",
    "    list_data = []\n",
    "    list_data.append(int(input(\"국어 점수> \")))\n",
    "    list_data.append(int(input(\"수학점수 > \")))\n",
    "    list_data.append(int(input(\"영어점수 > \")))\n",
    "    \n",
    "    tottal = 0\n",
    "    for i in range(3): # 총합구하기\n",
    "        total += list_data[i] \n",
    "#     total = list_data[0] + list_data[1] + list_data[2]\n",
    "    dict_a[name] = list_data\n",
    "#     dict_a['total'] = {total}    \n",
    "print(dict_a)\n",
    "\n",
    "\n",
    "# b = dict_a[name]\n",
    "# n = input('이름입력')\n",
    "# if b == n:\n",
    "#     print(dict_a[name])\n",
    "#     print(dict_a[total])\n",
    "# else:\n",
    "#     print('자료없음')"
   ]
  },
  {
   "cell_type": "code",
   "execution_count": null,
   "metadata": {},
   "outputs": [],
   "source": [
    "#teacher\n",
    "dict_score = {'name':[], 'kor':[], 'eng':[], 'tot':[]}\n",
    "for i in range(100):\n",
    "    input_str = input(\"이름 국어 영어 수학 점수 입력 >\").split()\n",
    "    name = input_str[0]\n",
    "    if name == \"quit\":\n",
    "        break\n",
    "    kor = int(input_str[1])\n",
    "    eng = int(input_str[2])\n",
    "    math = int(input_str[3])\n",
    "    tot = kor + eng + math\n",
    "    dict_score['name'].append(name)\n",
    "    dict_score['kor'].append(kor)\n",
    "    dict_score['eng'].append(eng)\n",
    "    dict_score['math'].append(math)\n",
    "    dict_score['tot'].append(tot)\n",
    "    \n",
    "print(dict_score)\n",
    "    "
   ]
  },
  {
   "cell_type": "code",
   "execution_count": null,
   "metadata": {},
   "outputs": [],
   "source": [
    "score_name = {}\n",
    "for i in range(100):\n",
    "    input_str = input(\"이름 국어 영어 수학 점수 입력 >\").split()\n",
    "    name = input_str[0]\n",
    "    if name == \"quit\":\n",
    "        break\n",
    "    score_list = []\n",
    "    for i in range(1,4):\n",
    "        score_list.append(int(input_str[i]))\n",
    "    tot = 0\n",
    "    for i in range(3):\n",
    "        tot += score_list[i]\n",
    "    score_list.append(tot) # 합계 추가\n",
    "    score_name[name] = score_list #이름을 key로 점수를 값으로\n",
    "    \n",
    "print(score_name)"
   ]
  },
  {
   "cell_type": "code",
   "execution_count": null,
   "metadata": {},
   "outputs": [],
   "source": [
    "search_name = input(\"검색할 이름 입력 : \")\n",
    "\n",
    "if search_name in score_name :\n",
    "    print(score_name[search_name])\n",
    "\n",
    "else : \n",
    "    print(\"자료없음\")\n",
    "    \n"
   ]
  },
  {
   "cell_type": "code",
   "execution_count": null,
   "metadata": {},
   "outputs": [],
   "source": [
    "# 172p 연습문제 3, 173p 연습문제 4\n",
    "# my\n",
    "numbers = [1,2,6,8,4,3,2,1,9,5,4,7,2,1,3,5,4,8,9,7,2,3]\n",
    "counter = {}\n",
    "\n",
    "for a in range(1,10):\n",
    "    count = 0\n",
    "    for i in range(22):\n",
    "        num = numbers[i]\n",
    "        if num == a:\n",
    "            count+=1\n",
    "    counter[a] = count\n",
    "\n",
    "print(counter)"
   ]
  },
  {
   "cell_type": "code",
   "execution_count": null,
   "metadata": {},
   "outputs": [],
   "source": [
    "#연습문제 4 ,teacher\n",
    "numbers = [1,2,6,8,4,3,2,1,9,5,4,7,2,1,3,5,4,8,9,7,2,3]\n",
    "counter = {}\n",
    "\n",
    "for number in numbers:\n",
    "    if number in counter: # key in dict\n",
    "        counter[number]+=1\n",
    "    else:\n",
    "        counter[number] = 1\n",
    "        \n",
    "print(counter)"
   ]
  },
  {
   "cell_type": "code",
   "execution_count": 1,
   "metadata": {},
   "outputs": [
    {
     "name": "stdout",
     "output_type": "stream",
     "text": [
      "name : 기사\n",
      "level : 12\n",
      "sword : 불꽃의 검\n",
      "srmor : 풀플레이트\n",
      "111skill:베기\n",
      "111skill:세게 베기\n",
      "111skill:아주 세게 베기\n"
     ]
    }
   ],
   "source": [
    "#연습문제 4\n",
    "#teacher\n",
    "character = {\n",
    "    \"name\": \"기사\",\n",
    "    \"level\" : 12,\n",
    "    \"items\":{\n",
    "        \"sword\":\"불꽃의 검\",\n",
    "        \"srmor\": \"풀플레이트\"\n",
    "    },\n",
    "    \"skill\" : [\"베기\",\"세게 베기\",\"아주 세게 베기\"]\n",
    "}\n",
    "\n",
    "for key in character: # for 변수 in 딕셔너리: // 변수에는 키값이 들어간다. print(character[key]) ->데이터 값 나옴\n",
    "#     print(\"1111 : \", key, character[key])\n",
    "    if type(character[key])==list:\n",
    "        for value in character[key]:\n",
    "            print(\"111{}:{}\".format(key,value))\n",
    "    elif type(character[key]) == dict:\n",
    "        for key1, value1 in character[key].items():\n",
    "            print(\"{} : {}\".format(key1,value1))\n",
    "    else:\n",
    "        print(\"{} : {}\".format(key, character[key]))"
   ]
  },
  {
   "cell_type": "code",
   "execution_count": null,
   "metadata": {},
   "outputs": [],
   "source": [
    "#my \n",
    "character = {\n",
    "    \"name\": \"기사\",\n",
    "    \"level\" : 12,\n",
    "    \"items\":{\n",
    "        \"sword\":\"불꽃의 검\",\n",
    "        \"srmor\": \"풀플레이트\"\n",
    "    },\n",
    "    \"skill\" : [\"베기\",\"세게 베기\",\"아주 세게 베기\"]\n",
    "}\n",
    "for key in character:\n",
    "    print(\"{} : {}\".format(key,character[key]))\n",
    "    if key == 'items' : \n",
    "        items_list = []\n",
    "        items_list.append(character['items'])\n",
    "        print(\"{} : {}\".format(items_list[1][0],items_list[1][1]))\n",
    "        break\n",
    "    "
   ]
  },
  {
   "cell_type": "code",
   "execution_count": null,
   "metadata": {},
   "outputs": [],
   "source": [
    "character = {\n",
    "    \"name\": \"기사\",\n",
    "    \"level\" : 12,\n",
    "    \"items\":{\n",
    "        \"sword\":\"불꽃의 검\",\n",
    "        \"srmor\": \"풀플레이트\"\n",
    "    },\n",
    "    \"skill\" : [\"베기\",\"세게 베기\",\"아주 세게 베기\"]\n",
    "}\n",
    "print(character['items'])\n",
    "list = []\n",
    "list.append(character['items'])\n",
    "print(list)"
   ]
  }
 ],
 "metadata": {
  "kernelspec": {
   "display_name": "Python 3",
   "language": "python",
   "name": "python3"
  },
  "language_info": {
   "codemirror_mode": {
    "name": "ipython",
    "version": 3
   },
   "file_extension": ".py",
   "mimetype": "text/x-python",
   "name": "python",
   "nbconvert_exporter": "python",
   "pygments_lexer": "ipython3",
   "version": "3.7.6"
  }
 },
 "nbformat": 4,
 "nbformat_minor": 4
}
