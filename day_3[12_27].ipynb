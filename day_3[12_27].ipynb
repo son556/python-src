{
 "cells": [
  {
   "cell_type": "code",
   "execution_count": null,
   "metadata": {},
   "outputs": [],
   "source": [
    "# range([start_num],end_num,[step]) 함수를 사용한 for 반복문 실행 \n",
    "print(\"range(5)\")\n",
    "for i in range(5):\n",
    "    print(str(i) + '=반복횟수')\n",
    "print('range(1,5)')\n",
    "for i in range(1,5):\n",
    "    print(str(i) + '=반복횟수')\n",
    "print('range(1,10,2)')\n",
    "for i in range(1,10,2):\n",
    "    print(str(i) + '=반복횟수')"
   ]
  },
  {
   "cell_type": "code",
   "execution_count": null,
   "metadata": {},
   "outputs": [],
   "source": [
    "#  list 와 for 사용하기\n",
    "list_a = [273,32,103,68,90]\n",
    "for element in list_a:\n",
    "    print(element)\n",
    "print()\n",
    "# list의 길이를 range함수에 적용해서\n",
    "for i in range(len(list_a)):\n",
    "    print('{}번째 반복:{}'.format(i,list_a[i]))\n",
    "print()\n",
    "# 리스트의 값을 역으로  출력\n",
    "for i in range(len(list_a)-1,-1,-1):\n",
    "    print('{}번째 반복:{}'.format(i,list_a[i]))\n",
    "    \n",
    "print()\n",
    "# 리스트의 값을 역으로 출력\n",
    "for i in reversed(range(len(list_a))):\n",
    "    print('{}번째 반복:{}'.format(i,list_a[i]))\n",
    "print()\n",
    "# list의 값을 인덱스와 같이 출력\n",
    "for idx, value in enumerate(list_a):\n",
    "    print('{}번째 반복:{}'.format(idx,value))"
   ]
  },
  {
   "cell_type": "code",
   "execution_count": null,
   "metadata": {},
   "outputs": [],
   "source": [
    "#while 표현식:\n",
    "# while True:\n",
    "#     print(\".\",end = \"\")\n",
    "\n",
    "# while 문을 for문처럼 사용하기\n",
    "i = 0\n",
    "while i < len(list_a): #반복문을 처리할 수 있는 조건이 True이면 실행\n",
    "    print(list_a[i])\n",
    "    i +=1\n",
    "print()\n",
    "#상태를 기반으로 반복문 실행\n",
    "list_b=[1,2,1,2]\n",
    "value = 2\n",
    "while value in list_b: #True or False 판단해서 True이면 실행\n",
    "    list_b.remove(value)\n",
    "print(list_b)\n"
   ]
  },
  {
   "cell_type": "code",
   "execution_count": null,
   "metadata": {},
   "outputs": [],
   "source": [
    "# 이름가 점수를 입력받아 딕셔너리에 저장\n",
    "# 이름이 'q'가 입력되면 입력 종료\n",
    "# 검색할 이름을 입력받아 해당 이름이 있으면 이름과 점수 출력\n",
    "# 검색할 이름이 없으면 '자료 없음'으로 출력\n",
    "\n",
    "dict_a = {}\n",
    "while True : #while 문 안에 dict_a를 넣으면 while 문 실행될때마다 초기화됨\n",
    "    input_data1 = input('이름을 입력하시오(\\'q\\'입력시 종료)> ')\n",
    "    if input_data1 == 'q':\n",
    "        break\n",
    "    input_data2 = input('점수를 입력하시오>')\n",
    "    name = input_data1\n",
    "    score = int(input_data2)\n",
    "    if not input_data2.isdigit():\n",
    "        continue\n",
    "    dict_a[name] = score\n",
    "    \n",
    "name1 = input('이름을 입력하시오!!>')\n",
    "if name1 in dict_a:\n",
    "    print('{}의 성적:{}'.format(name1,dict_a[name1]))\n",
    "else:\n",
    "    print('자료없음')\n",
    "    \n",
    "print(dict_a)"
   ]
  },
  {
   "cell_type": "code",
   "execution_count": null,
   "metadata": {},
   "outputs": [],
   "source": [
    "# 계산식을 입력받아 계산 결과를 출력하는 프로그램 작성\n",
    "#10 + 20 -> 10+20=30\n",
    "# +,-,*,/,% //가능\n",
    "#처음 문자에 'q'가 입력되면 프로그램 종료\n",
    "\n",
    "while True:\n",
    "    f_data = input('식을 입력하시오(3 + 3)>').split()\n",
    "    num1_1 = f_data[0]\n",
    "    if num1_1 == 'q':\n",
    "        break\n",
    "    num2 = float(f_data[2])\n",
    "    symbol = f_data[1]\n",
    "    num1 = float(f_data[0])\n",
    "    if len(f_data) != 3:\n",
    "        continue # continue 는 while 문 처음으로 돌아감\n",
    "    if not f_data[1] in  '+-*/%' : # 값 in 반복문: 값이 반복문 안에 있는지 비교\n",
    "        continue\n",
    "    if f_data[1]=='+':\n",
    "        result = num1 + num2\n",
    "    elif f_data[1] == '-':\n",
    "        result = num1 - num2\n",
    "    elif f_data[1] == '*':\n",
    "        result = num1 * num2\n",
    "    elif f_data == '/':\n",
    "        result = num1/num2\n",
    "    else:\n",
    "        result = num%num2\n",
    "    print('{} {} {} = {}'.format(num1,symbol,num2,result))"
   ]
  },
  {
   "cell_type": "code",
   "execution_count": null,
   "metadata": {},
   "outputs": [],
   "source": [
    "import time\n",
    "number = 0\n",
    "target_time = time.time() + 5 # 초를 기준\n",
    "while time.time() < target_time:\n",
    "    number +=1\n",
    "print('5초동안 {}번 반복실행'.format(number))# 컴퓨터 성능에 따라 다름"
   ]
  },
  {
   "cell_type": "code",
   "execution_count": null,
   "metadata": {},
   "outputs": [],
   "source": [
    "list_a= [4,5,6]\n",
    "list_b = list_a\n",
    "list_c = list_a.copy()\n",
    "print(list_b)\n",
    "print(list_c)"
   ]
  },
  {
   "cell_type": "code",
   "execution_count": null,
   "metadata": {},
   "outputs": [],
   "source": [
    "#reversed() 함수\n",
    "list_a = [10,20,30,40,50]\n",
    "reverse_a = reversed(list_a) #주소를 복사\n",
    "\n",
    "print(reverse_a)\n",
    "for i in reverse_a:\n",
    "    print('{}'.format(i))\n",
    "print('0-----------')\n",
    "for i in reverse_a:\n",
    "    print(\"{}\".format(i))\n",
    "print('1----------')    \n",
    "for i in reversed(list_a):\n",
    "    print(\"{}\".format(i))\n",
    "print('2-----------')    \n",
    "for i in reversed(list_a):\n",
    "    print(\"{}\".format(i))"
   ]
  },
  {
   "cell_type": "code",
   "execution_count": null,
   "metadata": {},
   "outputs": [],
   "source": [
    "print(list_a)\n",
    "print(list_a[::-1])#[시작:끝:-1], 비파괴적 // 뒤에서 부터 자료 가져옴\n",
    "list_a"
   ]
  },
  {
   "cell_type": "markdown",
   "metadata": {},
   "source": [
    "# list의 idx와 value를 동시에 반환: enumenrate()\n",
    "# dict의 key와 value를 동시에 반환:dit.items()"
   ]
  },
  {
   "cell_type": "code",
   "execution_count": null,
   "metadata": {},
   "outputs": [],
   "source": [
    "# 리스트 내포 : [i for i in 반복 조건식]\n",
    "array = [i for i in range(10) if i % 2 ==0]# 짝수만\n",
    "print(array)\n",
    "array = [i for i in range(10) if i % 2 ] # 홀수만\n",
    "print(array)"
   ]
  },
  {
   "cell_type": "code",
   "execution_count": null,
   "metadata": {},
   "outputs": [],
   "source": [
    "#1에서 100까지의 홀수의 합과 짝수의 합을 구하세요\n",
    "\n",
    "odd_sum = sum([i for i in range(100+1) if i%2])\n",
    "even_sum = sum([i for i in range(100+1) if i%2==0])\n",
    "print(odd_sum,even_sum)\n",
    "\n",
    "m_m = min(i for i in range(101))\n",
    "print(m_m)"
   ]
  },
  {
   "cell_type": "code",
   "execution_count": null,
   "metadata": {},
   "outputs": [],
   "source": [
    "number = int(input())\n",
    "test = (\n",
    "\"이렇게 입력해도\"\n",
    "\" 하나의 문자열\")\n",
    "print(test)\n",
    "#[] 리스트,{} 딕셔너리, ()튜플 : 데이터 변경 불가능\n"
   ]
  },
  {
   "cell_type": "code",
   "execution_count": null,
   "metadata": {},
   "outputs": [],
   "source": [
    "# 문자열 연결 함수 : 문자열.join(리스트)\n",
    "list_a = ['1','2','3','4','5'] # 1-2-3-4-5\n",
    "print(\"-\".join(list_a))\n",
    "join_list = \"::\".join(list_a)\n",
    "print(list_a)\n",
    "print(join_list)\n",
    "join_list.split(sep = \"::\")\n"
   ]
  },
  {
   "cell_type": "code",
   "execution_count": null,
   "metadata": {},
   "outputs": [],
   "source": [
    "#이터레이터 함수\n",
    "numbers = [1,2,3,4,5]\n",
    "r_num = reversed(numbers)# 주소만 갖고있음\n",
    "\n",
    "print('reversed_numbers :',r_num)\n",
    "print(next(r_num))\n",
    "print(next(r_num))\n",
    "print(next(r_num))\n",
    "print(next(r_num))\n",
    "print(next(r_num))"
   ]
  },
  {
   "cell_type": "code",
   "execution_count": null,
   "metadata": {},
   "outputs": [],
   "source": [
    "#전화번호부를 작성\n",
    "#이름 , 전화번호 입력 : 홍길동 123 345 7896\n",
    "#저장은 딕셔너리 이름, 전화번호로 저장-> 전화번호는 123-345-7896\n",
    "#이름에 'q'가 입력되면 입력 종료\n",
    "#검색할 이름 입력하면 -> 전화번호를 검색해서 출력, 자료 없음\n",
    "num_dic = {}\n",
    "while True:\n",
    "    input_name = input(\"이름 , 전화번호 입력(홍길동 123 345 7896)>\").split()\n",
    "    if input_name[0] == 'q': # input_name[1] = 123\n",
    "        break\n",
    "    name = input_name[0]\n",
    "    number = []\n",
    "    if len(input_num) != 4:\n",
    "        continue\n",
    "    for value in input_name[1:]:\n",
    "        number.append(value)\n",
    "    num_dic[name] = '-'.join(number)\n",
    "\n",
    "nn = input(\"이름을 입력하시오>\")\n",
    "if nn == name:\n",
    "    print('{} : {}'.format(name,num_dic[name]))\n",
    "    "
   ]
  },
  {
   "cell_type": "code",
   "execution_count": null,
   "metadata": {},
   "outputs": [],
   "source": [
    "# 함수의 정의 => def 함수명 ():\n",
    "# 함수의 사용 -> 함수명()\n",
    "def print_3_times():# def 는 실행하지 않고 이런 함수를 쓴다고 선언!\n",
    "    print('hello')\n",
    "    print('hello')\n",
    "    print('hello')\n",
    "print_3_times()\n",
    "# 일반 매개변수\n",
    "def print_n_times(value,n):\n",
    "    for i in range(n):\n",
    "        for value in vlaues:\n",
    "            print(value)\n",
    "# 가변 매개변수 , 일반 매개변수는 가변뒤에 올 수 없음\n",
    "def print_v_times(n,*values):#매개변수는 일반 가변 기본\n",
    "    for i in range(n):\n",
    "        for value in values:\n",
    "            print(value)\n",
    "        print()\n",
    "# 기본 매개변수\n",
    "def print_d_times(value,n=2):\n",
    "    for i in range(2):\n",
    "        print(value)\n",
    "        print('a:{},b:{},n:{}'.format(a,b,n))\n",
    "#  일반 매개변수, 가변 매개변수(오직 하나), 기본 매개변수 순으로 나열\n",
    "print_n_times(1,2)\n",
    "print_v_times(3,'test','hello','python')\n",
    "print_d_times('hello')\n",
    "print('a:{},b:{}, n:{}'.format(a,b,n))"
   ]
  },
  {
   "cell_type": "code",
   "execution_count": null,
   "metadata": {},
   "outputs": [],
   "source": [
    "# 계산 프로그램 작성\n",
    "# + - * / 입력되면 작성, 함수로\n",
    "def plus(value1,value2):\n",
    "    return value1 + value2\n",
    "def minus(value1,value2):\n",
    "    return value1 - value2\n",
    "def times(value1,value2):\n",
    "    return value1*value2\n",
    "def division(value1,value2):\n",
    "    return value1/value2\n",
    "    "
   ]
  },
  {
   "cell_type": "code",
   "execution_count": null,
   "metadata": {},
   "outputs": [],
   "source": [
    "numb = input('식을 입력하시오(1 + 1)>').split()\n",
    "num1 = float(numb[0])\n",
    "num2 = float(numb[2])\n",
    "symb = numb[1]\n",
    "if numb[1] in '+-*/':\n",
    "    if numb[1]== '+':\n",
    "        result = plus(num1,num2)\n",
    "    elif numb[1] == '-':\n",
    "        result = minus(num1,num2)\n",
    "    elif numb[1] == '*':\n",
    "        result = times(num1,num2)\n",
    "    else:\n",
    "        result = division(num1,num2)\n",
    "    print(\"{} + {} = {}\".format(num1,num2,result))\n",
    "else:\n",
    "    print('계산불가')\n",
    "    "
   ]
  },
  {
   "cell_type": "code",
   "execution_count": null,
   "metadata": {},
   "outputs": [],
   "source": [
    "call_dict = {\n",
    "    '+' : plus,\n",
    "    '-' : minus,\n",
    "    '*' : times,\n",
    "    '/' : division\n",
    "}\n",
    "while True:\n",
    "    cal_list = input('계산식 입력 ex : 10 + 20, q입력시 종료').split()\n",
    "    if cal_list[0]=='q':\n",
    "        break\n",
    "    if len(cal_list) != 3 or not cal_list[1] in call_dict:\n",
    "        continue\n",
    "    result = call_dict[cal_list[1]](int(cal_list[0]),int(cal_list[2]))\n",
    "    if result == 'ERR':\n",
    "        print('처리 불능')\n",
    "    else:\n",
    "        print(\"{} {} {} = {}\".format(cal_list[0],cal_list[1],cal_list[2],\n",
    "                                     result))"
   ]
  },
  {
   "cell_type": "code",
   "execution_count": 16,
   "metadata": {},
   "outputs": [],
   "source": [
    "# 1.이름 국어 영어 수학 점수를 입력받아 dict 에 저장하는 함수\n",
    "# 이름에 'q'가 입력되면 종료\n",
    "# 2.각 사람의 합계와 평균을 구해서 dict에 추가//\n",
    "# 3.전체 학생의 최고&최저 점수를 가진 학생의 이름과 점수\n",
    "# 4.전체 학생의 평균, 인원수를 출력\n",
    "# tip 함수사용시 1개 1개 씩 해결\n",
    "# input_data()\n",
    "# input_tot_avg()\n",
    "# max_min()\n",
    "# avg_count()\n",
    "\n",
    "def input_data():\n",
    "    stu_dict = {}\n",
    "    while True:\n",
    "        input_data = input('이름 국어성적 영어성적 수학성적>').split()\n",
    "        if input_data[0] == 'q':\n",
    "            break\n",
    "        name = input_data[0]\n",
    "        kor = int(input_data[1])\n",
    "        eng = int(input_data[2])\n",
    "        math = int(input_data[3])\n",
    "        stu_dict[name] = [kor, eng, math]\n",
    "    return stu_dict\n",
    "\n",
    "def input_tot_avg(stu_dict):\n",
    "    for score in stu_dict.values(): # scor 리스트 생성\n",
    "        sc = sum(score)\n",
    "        score.append(sc)\n",
    "        score.append(sc/3)\n",
    "    return stu_dict\n",
    "\n",
    "def max_min(stu_dict):\n",
    "    avg_list = []\n",
    "    for i in stu_dict:\n",
    "        avg_list.append(stu_dict[i][-1])\n",
    "    Max = max(avg_list)\n",
    "    Min = min(avg_list)\n",
    "    \n",
    "    for k in stu_dict:\n",
    "        ak = stu_dict[k][-1]\n",
    "        if ak == Max:\n",
    "            Max_idx = k\n",
    "            break\n",
    "    \n",
    "    for i in stu_dict:\n",
    "        ai = stu_dict[i][-1]\n",
    "        if ai == Min:\n",
    "            Min_idx = i\n",
    "            break\n",
    "    return Max_idx , Min_idx\n",
    "\n",
    "def avg_count(stu_dict):\n",
    "    student_t = len(stu_dict)\n",
    "    total = 0;\n",
    "    for i in stu_dict:\n",
    "        total+= stu_dict[i][-1]\n",
    "    avg_v = total/ (len(stu_dict))\n",
    "    return student_t, avg_v\n",
    "    "
   ]
  },
  {
   "cell_type": "code",
   "execution_count": 17,
   "metadata": {},
   "outputs": [
    {
     "name": "stdout",
     "output_type": "stream",
     "text": [
      "이름 국어성적 영어성적 수학성적>a 1 1 1\n",
      "이름 국어성적 영어성적 수학성적>b 2 2 2\n",
      "이름 국어성적 영어성적 수학성적>c 3 3 3\n",
      "이름 국어성적 영어성적 수학성적>q\n",
      "{'a': [1, 1, 1], 'b': [2, 2, 2], 'c': [3, 3, 3]}\n",
      "{'a': [1, 1, 1, 3, 1.0], 'b': [2, 2, 2, 6, 2.0], 'c': [3, 3, 3, 9, 3.0]}\n",
      "최고점 학생:c 점수:[3, 3, 3, 9, 3.0] 최저점 학생:a 점수:[1, 1, 1, 3, 1.0]\n",
      "전체 학생수:3 전체평균:2.0\n"
     ]
    }
   ],
   "source": [
    "\n",
    "stu_dict = input_data()\n",
    "print(stu_dict)\n",
    "print(input_tot_avg(stu_dict))\n",
    "(Max_idx, Min_idx)=max_min(stu_dict) # 함수에서 선언한 변수는 함수에서만\n",
    "# 실행문에서 다시 사용해주기 위해 재정의 필요\n",
    "print(\"최고점 학생:{} 점수:{} 최저점 학생:{} 점수:{}\".format(Max_idx,\n",
    "                                              stu_dict[Max_idx],\n",
    "                                              Min_idx,\n",
    "                                              stu_dict[Min_idx]))\n",
    "(student_t, avg_v) = avg_count(stu_dict)\n",
    "print('전체 학생수:{} 전체평균:{}'.format(student_t,avg_v))\n",
    "# print(avg_count())\n",
    "    \n",
    "    "
   ]
  },
  {
   "cell_type": "code",
   "execution_count": 21,
   "metadata": {},
   "outputs": [
    {
     "name": "stdout",
     "output_type": "stream",
     "text": [
      "[1, 2, 3]\n",
      "[3, 4, 5]\n",
      "[6, 7, 8]\n"
     ]
    }
   ],
   "source": [
    "ace = {'a':[1,2,3],'b':[3,4,5],'c':[6,7,8]}\n",
    "for score in ace.values():\n",
    "    print(score)"
   ]
  },
  {
   "cell_type": "code",
   "execution_count": null,
   "metadata": {},
   "outputs": [],
   "source": [
    "#p 188 q2,3\n",
    "key_list = [\"name\", \"hp\", 'mp', 'level']\n",
    "value_list = ['기사', 200, 30, 5]\n",
    "character = {}\n",
    "for i in range(1,5):\n",
    "    character[key_list[i-1]]=value_list[i-1]\n",
    "print(character)"
   ]
  },
  {
   "cell_type": "code",
   "execution_count": null,
   "metadata": {},
   "outputs": [],
   "source": [
    "# q3\n",
    "limit = 10000\n",
    "i = 1\n",
    "zxc = []#list 는 추가해주려면 .append()를 이용,딕셔너리는 키값으로 추가 가능\n",
    "#while문 밖에 리스트 작성\n",
    "while True:\n",
    "    zxc.append(i)\n",
    "    i+=1\n",
    "    sum_value = sum(zxc)\n",
    "    if sum_value >= limit:\n",
    "        break\n",
    "print(\"{}를 더할 때 10000을 넘으며 그때의 값은 {}입니다.\".format(i-1,sum_value))"
   ]
  },
  {
   "cell_type": "code",
   "execution_count": null,
   "metadata": {},
   "outputs": [],
   "source": [
    "# q4\n",
    "max_value = 0\n",
    "a = 0\n",
    "b = 0\n",
    "c = {}\n",
    "d = []\n",
    "for i in range(1,100):\n",
    "    j = 100 - i\n",
    "    a = i\n",
    "    b = j\n",
    "    k = a*b\n",
    "    d.append(k)\n",
    "    c[k] = [a,b]\n",
    "max_value = max(d)\n",
    "c[max_value]\n",
    "a = c[max_value][0]\n",
    "b = c[max_value][1]\n",
    "print('최대가 되는 경우:{} * {} = {}'.format(a, b, max_value))"
   ]
  }
 ],
 "metadata": {
  "kernelspec": {
   "display_name": "Python 3",
   "language": "python",
   "name": "python3"
  },
  "language_info": {
   "codemirror_mode": {
    "name": "ipython",
    "version": 3
   },
   "file_extension": ".py",
   "mimetype": "text/x-python",
   "name": "python",
   "nbconvert_exporter": "python",
   "pygments_lexer": "ipython3",
   "version": "3.7.6"
  }
 },
 "nbformat": 4,
 "nbformat_minor": 4
}
