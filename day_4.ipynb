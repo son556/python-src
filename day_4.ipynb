{
 "cells": [
  {
   "cell_type": "code",
   "execution_count": null,
   "metadata": {},
   "outputs": [],
   "source": [
    "# 팩토리얼 함수구현\n",
    "def factorial(n):\n",
    "    output = 1\n",
    "    for i in range(1,n+1):\n",
    "        output*=i\n",
    "    return output"
   ]
  },
  {
   "cell_type": "code",
   "execution_count": null,
   "metadata": {},
   "outputs": [],
   "source": [
    "# 재귀함수\n",
    "def factorial1(n):\n",
    "    # n =0 이면 1을 리턴 아니면 n*f(n-1)\n",
    "    if n==0:\n",
    "        return 1\n",
    "    else:\n",
    "        return n*factorial1(n-1)"
   ]
  },
  {
   "cell_type": "code",
   "execution_count": null,
   "metadata": {},
   "outputs": [],
   "source": [
    "print(factorial(5)) #factorial 실행\n",
    "factorial1(5)"
   ]
  },
  {
   "cell_type": "code",
   "execution_count": null,
   "metadata": {},
   "outputs": [],
   "source": [
    "# 피보나치 수열 -> f(n) = f(n-1) + f(n-2), n==1,n==2\n",
    "def fibo(n):\n",
    "    global count #외부 변수를 가져오는 명령어 global\n",
    "    count += 1\n",
    "    if n == 1 or n == 2:\n",
    "        print('1')\n",
    "        return 1\n",
    "    else:\n",
    "        print('fibo({})+fibo({})'.format(n-1,n-2))\n",
    "        return fibo(n-1) + fibo(n-2)"
   ]
  },
  {
   "cell_type": "code",
   "execution_count": null,
   "metadata": {},
   "outputs": [],
   "source": [
    "dictionary = {1:1,2:1} #memo하고 memo한 값이 있으면 그 값을 불러옴->계산 줄음\n",
    "def fibo_m(n):\n",
    "    global count #외부 변수를 가져오는 명령어 global\n",
    "    count += 1\n",
    "    if n in dictionary:\n",
    "        return dictionary[n]\n",
    "    else:\n",
    "        output = fibo_m(n-1) + fibo_m(n-2)\n",
    "        dictionary[n] = output\n",
    "        return output    "
   ]
  },
  {
   "cell_type": "code",
   "execution_count": null,
   "metadata": {},
   "outputs": [],
   "source": [
    "count = 0\n",
    "fibo(5)\n",
    "print('count : ',count)\n",
    "count = 0\n",
    "fibo_m(20)\n",
    "print('count : ',count)\n",
    "print(dictionary)"
   ]
  },
  {
   "cell_type": "code",
   "execution_count": null,
   "metadata": {
    "scrolled": true
   },
   "outputs": [],
   "source": [
    "count = 0\n",
    "fibo(5)\n",
    "print('count : ',count)"
   ]
  },
  {
   "cell_type": "code",
   "execution_count": null,
   "metadata": {},
   "outputs": [],
   "source": [
    "# tuple : 수정할 수 없는 자료 ()기본,()없는것도 가능\n",
    "touple_test = (10,20,30,40)\n",
    "for value in touple_test:\n",
    "    print(value)\n",
    "print(touple_test[0])\n",
    "# touple_test[0] = 10 #error\n",
    "a,b,c = 10,20,30\n",
    "print('a:{}, b:{}, c:{}'.format(a,b,c))\n",
    "\n",
    "a,b = 10, 20\n",
    "print('before -> a:{}, b:{}'.format(a,b))\n",
    "a,b = b,a #a와 b의 값이 바뀜\n",
    "print('after -> a:{}, b:{}'.format(a,b))\n",
    "a,b = 15, 35\n",
    "print(a,b)"
   ]
  },
  {
   "cell_type": "code",
   "execution_count": null,
   "metadata": {},
   "outputs": [],
   "source": [
    "for idx, value in enumerate([1, 2, 3, 4, 5]): #튜플을 리턴하는 함수 enumerate\n",
    "    print('{}번째 값: {}'.format(idx, value))\n",
    "    \n",
    "a, b = divmod(88,3)\n",
    "print(\"88 / 3 = {}, {}\".format(a,b))"
   ]
  },
  {
   "cell_type": "code",
   "execution_count": 86,
   "metadata": {},
   "outputs": [
    {
     "name": "stdout",
     "output_type": "stream",
     "text": [
      "[1, 4, 9, 16, 25]\n",
      "\n",
      " [1, 2]\n"
     ]
    }
   ],
   "source": [
    "#  map과 filter 함수 -> map(함수,리스트), filter(함수,리스트)\n",
    "# def power(x):\n",
    "#     return x*x\n",
    "# def under_3(x):\n",
    "#     if x < 3:\n",
    "#         return x\n",
    "#  lambda 함수로 변경 -> lambda 매개변수 : 리턴값\n",
    "power = lambda x: x*x #x 값이 들어오면 x를 x*x로 리턴함\n",
    "under_3 = lambda x: x<3\n",
    "a_list = [1,2,3,4,5]\n",
    "b_list =list(map(power, a_list))\n",
    "print(b_list)\n",
    "c_list = list(filter(under_3,a_list))\n",
    "print(\"\\n\",c_list)"
   ]
  },
  {
   "cell_type": "code",
   "execution_count": null,
   "metadata": {},
   "outputs": [],
   "source": [
    "b_list =list(map(lambda x: x*x, a_list))\n",
    "print(b_list)\n",
    "c_list = list(filter(lambda x: x<3,a_list))\n",
    "print(c_list)"
   ]
  },
  {
   "cell_type": "code",
   "execution_count": 8,
   "metadata": {},
   "outputs": [
    {
     "name": "stdout",
     "output_type": "stream",
     "text": [
      "with python file open!!\n",
      "with python file open!!\n",
      "with python file open!!\n",
      "\n"
     ]
    }
   ],
   "source": [
    "# file 처리: open, close, write, read..\n",
    "file = open(\"a.txt\",\"r\")\n",
    "file_data = file.read()\n",
    "print(file_data)\n",
    "file.close()"
   ]
  },
  {
   "cell_type": "code",
   "execution_count": null,
   "metadata": {},
   "outputs": [],
   "source": [
    "# with끝나고나면 파일을 자동으로 close() 시킴\n",
    "with open(\"a.txt\",\"w\") as file:\n",
    "    file.write(\"with python file open!!\\n\")\n",
    "    file.write(\"with python file open!!\\n\")\n",
    "    file.write(\"with python file open!!\\n\")\n",
    "    \n",
    "# file_data = file.read() # error"
   ]
  },
  {
   "cell_type": "code",
   "execution_count": null,
   "metadata": {},
   "outputs": [],
   "source": [
    "# 저장된 파일의 내용을 라인 단위로 읽어옴\n",
    "with open(\"a.txt\",\"r\")as file:\n",
    "    for line in file:\n",
    "        print(line)"
   ]
  },
  {
   "cell_type": "code",
   "execution_count": 26,
   "metadata": {},
   "outputs": [
    {
     "name": "stdout",
     "output_type": "stream",
     "text": [
      "name and score : a 10\n",
      "name and score : b 20\n",
      "name and score : c 30\n",
      "name and score : q\n",
      "{'a': '10', 'b': '20', 'c': '30'}\n"
     ]
    }
   ],
   "source": [
    "# 키보드에서 이름 성적을 입력받아 파일에 저장\n",
    "with open('sox.txt','a+')as file:\n",
    "    hi_dict = {}\n",
    "    while True:\n",
    "        data = input(\"name and score : \").split()\n",
    "        name = data[0]\n",
    "        if name == 'q':\n",
    "            break\n",
    "        score = data[1]\n",
    "        file.write(name +':'+score+'\\n')\n",
    "        hi_dict[name] = score\n",
    "    file_data = file.read()\n",
    "print(hi_dict)\n",
    "\n",
    "# with open('sox.txt','r')as file:\n",
    "#     for line in file:\n",
    "#         name, score = line.split(',')\n",
    "#         print(name, ':', score)"
   ]
  },
  {
   "cell_type": "code",
   "execution_count": 13,
   "metadata": {},
   "outputs": [
    {
     "name": "stdout",
     "output_type": "stream",
     "text": [
      "이름 성적 입력>a 100\n",
      "a : 100\n",
      "\n"
     ]
    }
   ],
   "source": [
    "file = open('score.txt','a+') # w, a, r\n",
    "name, score = input(\"이름 성적 입력>\").split()\n",
    "file.write(name+','+score+ '\\n') # 파일의 마지막 위치를 가리킴\n",
    "\n",
    "file.seek(0,0) # 파일의 처음 위치로 이동\n",
    "for line in file:\n",
    "    name, score = line.split(',')\n",
    "    print(name,':',score)\n",
    "file.close()"
   ]
  },
  {
   "cell_type": "code",
   "execution_count": 75,
   "metadata": {},
   "outputs": [],
   "source": [
    "\n",
    "def file_write(file):\n",
    "    while True:\n",
    "        input_data = input(\"이름 국어 영어 수학> \").split()\n",
    "        name = input_data[0]\n",
    "        if name == 'q':\n",
    "            break\n",
    "        kor = input_data[1]\n",
    "        eng = input_data[2]\n",
    "        math = input_data[3]\n",
    "\n",
    "        file.write(name + ','+kor+','+eng+','+math+'\\n')\n",
    "    \n",
    "def file_search(file):\n",
    "    s_name = input('이름을 입력하시오>')\n",
    "    file.seek(0,0)\n",
    "    for line in file:\n",
    "        f_data = line.split(',')\n",
    "        if f_data[0] == s_name:\n",
    "            return s_name, f_data[1:]\n",
    "    return None, None\n",
    "\n",
    "def file_total(file):\n",
    "    total = 0\n",
    "    count = 0\n",
    "    file.seek(0,0)\n",
    "    for line in file:\n",
    "        count += 1\n",
    "        f_data = line.split(',')\n",
    "        f_score = [int(x) for x in f_data[1:]]\n",
    "        total += sum(f_score)\n",
    "    return total, count\n",
    "        \n",
    "    "
   ]
  },
  {
   "cell_type": "code",
   "execution_count": 76,
   "metadata": {},
   "outputs": [
    {
     "name": "stdout",
     "output_type": "stream",
     "text": [
      "이름 국어 영어 수학> a 1 1 1\n",
      "이름 국어 영어 수학> b 2 2 2\n",
      "이름 국어 영어 수학> c 3 3 3\n",
      "이름 국어 영어 수학> q\n"
     ]
    }
   ],
   "source": [
    "# 이름, 국어, 영어, 수학 성적을 입력받아 파일에 저장한 후 file_write()\n",
    "# 이름에 q 가 입력되면 입력 종료/\n",
    "# 검색할 이름을 입력받아 파일에서 데이터 검색 file_search()\n",
    "# 검색한 이름과 성적 출력\n",
    "# 전체 학생의 인원수 총점 평균을 구함 file_total()\n",
    "file = open('file_s.txt','w+')\n",
    "stu_dict = file_write(file)"
   ]
  },
  {
   "cell_type": "code",
   "execution_count": 77,
   "metadata": {},
   "outputs": [
    {
     "name": "stdout",
     "output_type": "stream",
     "text": [
      "이름을 입력하시오>j\n"
     ]
    },
    {
     "ename": "NameError",
     "evalue": "name 's_name' is not defined",
     "output_type": "error",
     "traceback": [
      "\u001b[1;31m---------------------------------------------------------------------------\u001b[0m",
      "\u001b[1;31mNameError\u001b[0m                                 Traceback (most recent call last)",
      "\u001b[1;32m<ipython-input-77-5e5563fe1daf>\u001b[0m in \u001b[0;36m<module>\u001b[1;34m\u001b[0m\n\u001b[0;32m      1\u001b[0m \u001b[0mname\u001b[0m\u001b[1;33m,\u001b[0m \u001b[0mscore\u001b[0m \u001b[1;33m=\u001b[0m \u001b[0mfile_search\u001b[0m\u001b[1;33m(\u001b[0m\u001b[0mfile\u001b[0m\u001b[1;33m)\u001b[0m\u001b[1;33m\u001b[0m\u001b[1;33m\u001b[0m\u001b[0m\n\u001b[0;32m      2\u001b[0m \u001b[1;32mglobal\u001b[0m \u001b[0ms_name\u001b[0m\u001b[1;33m\u001b[0m\u001b[1;33m\u001b[0m\u001b[0m\n\u001b[1;32m----> 3\u001b[1;33m \u001b[1;32mif\u001b[0m \u001b[0ms_name\u001b[0m \u001b[1;33m==\u001b[0m \u001b[0mname\u001b[0m\u001b[1;33m:\u001b[0m\u001b[1;33m\u001b[0m\u001b[1;33m\u001b[0m\u001b[0m\n\u001b[0m\u001b[0;32m      4\u001b[0m     \u001b[0mprint\u001b[0m\u001b[1;33m(\u001b[0m\u001b[1;34m\"이름 :{} 국어:{} 영어:{} 수학:{}\"\u001b[0m\u001b[1;33m.\u001b[0m\u001b[0mformat\u001b[0m\u001b[1;33m(\u001b[0m\u001b[0mname\u001b[0m\u001b[1;33m,\u001b[0m\u001b[0mscore\u001b[0m\u001b[1;33m[\u001b[0m\u001b[1;36m0\u001b[0m\u001b[1;33m]\u001b[0m\u001b[1;33m,\u001b[0m\u001b[0mscore\u001b[0m\u001b[1;33m[\u001b[0m\u001b[1;36m1\u001b[0m\u001b[1;33m]\u001b[0m\u001b[1;33m,\u001b[0m\u001b[0mscore\u001b[0m\u001b[1;33m[\u001b[0m\u001b[1;36m2\u001b[0m\u001b[1;33m]\u001b[0m\u001b[1;33m)\u001b[0m\u001b[1;33m)\u001b[0m\u001b[1;33m\u001b[0m\u001b[1;33m\u001b[0m\u001b[0m\n\u001b[0;32m      5\u001b[0m \u001b[1;32melse\u001b[0m\u001b[1;33m:\u001b[0m\u001b[1;33m\u001b[0m\u001b[1;33m\u001b[0m\u001b[0m\n",
      "\u001b[1;31mNameError\u001b[0m: name 's_name' is not defined"
     ]
    }
   ],
   "source": [
    "name, score = file_search(file)\n",
    "if name:\n",
    "    print(\"이름 :{} 국어:{} 영어:{} 수학:{}\".format(name,score[0],score[1],score[2]))\n",
    "else:\n",
    "    print('None')\n",
    "total ,count = file_total(file)\n",
    "    \n",
    "print('총 학생수 : {}  총점 : {}  평균 : {}'.format(count, total, total/count))"
   ]
  },
  {
   "cell_type": "code",
   "execution_count": 73,
   "metadata": {},
   "outputs": [],
   "source": [
    "file.close()"
   ]
  },
  {
   "cell_type": "code",
   "execution_count": null,
   "metadata": {},
   "outputs": [],
   "source": [
    "# 이름, 국어, 영어, 수학 성적을 입력받아 파일에 저장한 후 file_write()\n",
    "# 이름에 q 가 입력되면 입력 종료/\n",
    "# 검색할 이름을 입력받아 파일에서 데이터 검색 file_search()\n",
    "# 검색한 이름과 성적 출력\n",
    "# 전체 학생의 인원수 총점 평균을 구함 file_total()\n",
    "file = open('scor.txt','w+')\n",
    "\n",
    "while True:\n",
    "    input_data = input('이름 국어 영어 수학>').split()\n",
    "    name = input_data[0]\n",
    "    if name == 'q':\n",
    "        break\n",
    "    kor = input_data[1]\n",
    "    eng = input_data[2]\n",
    "    math = input_data[3]\n",
    "    file.write(name +',' + kor +','+eng+','+math+'\\n')\n",
    "    \n",
    "s_name1 = input('이름을 입력하시오>')\n",
    "file.seek(0,0)\n",
    "for line in file:\n",
    "    f_data = line.split(',')\n",
    "    if f_data[0]==s_name1:\n",
    "        return s_nam1, f_data[1:]\n",
    "    else:\n",
    "        return None"
   ]
  },
  {
   "cell_type": "code",
   "execution_count": 83,
   "metadata": {},
   "outputs": [
    {
     "name": "stdout",
     "output_type": "stream",
     "text": [
      "first call function\n",
      "second call function\n",
      "함수 호출!!\n",
      "test\n",
      "---\n",
      "함수 222\n",
      "222\n"
     ]
    }
   ],
   "source": [
    "# 제너레이터 함수 실행 : next(함수명),,함수 내부에 return 대신 yield 사용\n",
    "def test():\n",
    "    print('함수 호출!!')\n",
    "    yield 'test'\n",
    "    \n",
    "    print('함수 222')\n",
    "    yield '222' #yield가 return의 역할을 함\n",
    "# 함수 호출\n",
    "print('first call function')\n",
    "test() #제너레이터 함수는 일반적인 호출로 실행 안됨\n",
    "\n",
    "print('second call function')\n",
    "test()\n",
    "\n",
    "file_name = test()\n",
    "a = next(file_name)\n",
    "print(a)\n",
    "print('---')\n",
    "b = next(file_name)\n",
    "print(b)"
   ]
  },
  {
   "cell_type": "code",
   "execution_count": 85,
   "metadata": {},
   "outputs": [
    {
     "name": "stdout",
     "output_type": "stream",
     "text": [
      "홀수만 출력\n",
      "[1, 3, 5, 7, 9]\n",
      "3이상 7미만 자료만 출력\n",
      "[3, 4, 5, 6]\n",
      "제곱해서 50미만 자료만 출력\n",
      "[1, 2, 3, 4, 5, 6, 7]\n"
     ]
    }
   ],
   "source": [
    "# 269 페이지 연습문제 2\n",
    "numbers = list(range(1,10+1))\n",
    "\n",
    "print('홀수만 출력')\n",
    "print(list(filter(  lambda x: x%2, numbers)))\n",
    "\n",
    "print('3이상 7미만 자료만 출력')\n",
    "print(list(filter( lambda x : 3<=x<7, numbers)))\n",
    "\n",
    "print('제곱해서 50미만 자료만 출력')\n",
    "print(list(filter( lambda x:x*x < 50, numbers)))"
   ]
  },
  {
   "cell_type": "code",
   "execution_count": 88,
   "metadata": {},
   "outputs": [
    {
     "name": "stdout",
     "output_type": "stream",
     "text": [
      "정수 입력>a\n"
     ]
    }
   ],
   "source": [
    "# try ~ except 예외상황 발생시 처리\n",
    "try:\n",
    "    input_number = int(input('정수 입력>'))\n",
    "    \n",
    "    print('원의 반지름 : ',input_number)\n",
    "    print('원의 둘레 : ',input_number * 3.14 * 2)\n",
    "    print('원의 넓이 : ',input_number*input_number*3.14)\n",
    "except:\n",
    "    pass\n",
    "#     print('입력 오류!!')"
   ]
  },
  {
   "cell_type": "code",
   "execution_count": 89,
   "metadata": {},
   "outputs": [
    {
     "name": "stdout",
     "output_type": "stream",
     "text": [
      "['52', '345', '123', '44']\n"
     ]
    }
   ],
   "source": [
    "# try except: pass\n",
    "list_data = ['52','345','test','123','44']\n",
    "#숫자만 리스트에 추가\n",
    "list_number = []\n",
    "for item in list_data:\n",
    "    try:\n",
    "        float(item) # 숫자는 float으로 변환\n",
    "        list_number.append(item)\n",
    "    \n",
    "    except:\n",
    "        pass\n",
    "    \n",
    "print(list_number)"
   ]
  },
  {
   "cell_type": "code",
   "execution_count": 94,
   "metadata": {},
   "outputs": [
    {
     "name": "stdout",
     "output_type": "stream",
     "text": [
      "무조건 실행!!\n",
      "무조건 실행!!\n",
      "error :  test\n",
      "무조건 실행!!\n",
      "무조건 실행!!\n",
      "무조건 실행!!\n",
      "['52', '345', '123', '44']\n"
     ]
    }
   ],
   "source": [
    "# try ~ except ~ else\n",
    "list_data = ['52','345','test','123','44']\n",
    "#숫자만 리스트에 추가\n",
    "list_number = []\n",
    "for item in list_data:\n",
    "    try: # 에러 발생 가능 코드 구현\n",
    "        float(item) # 숫자는 float으로 변환\n",
    "        \n",
    "    \n",
    "    except: # 에러 발생시 실현하고자 하는 코드 구현\n",
    "        print('error : ',item)\n",
    "    else: # 에러 발생이 없을 때 코드 구현\n",
    "        list_number.append(item)\n",
    "    finally :\n",
    "        print('무조건 실행!!')\n",
    "    \n",
    "print(list_number)"
   ]
  },
  {
   "cell_type": "code",
   "execution_count": 99,
   "metadata": {},
   "outputs": [
    {
     "name": "stdout",
     "output_type": "stream",
     "text": [
      "정수입력>a\n",
      "invalid literal for int() with base 10: 'a'\n",
      "프로그램 종료\n"
     ]
    }
   ],
   "source": [
    "# try ~ except ~ else ~ finally\n",
    "try:\n",
    "    input_number = int(input('정수입력>'))\n",
    "    print('원의 반지름 : ',input_number)\n",
    "    print('원의 둘레 : ',input_number * 3.14 * 2)\n",
    "    print('원의 넓이 : ',input_number*input_number*3.14)\n",
    "except Exception as e:\n",
    "    print(e)\n",
    "\n",
    "finally:\n",
    "    print('프로그램 종료')"
   ]
  },
  {
   "cell_type": "code",
   "execution_count": 101,
   "metadata": {},
   "outputs": [
    {
     "name": "stdout",
     "output_type": "stream",
     "text": [
      "not readable\n",
      "file.closed:  True\n"
     ]
    }
   ],
   "source": [
    "#  try ~ except ~ finally\n",
    "try:\n",
    "    file = open('info.txt','w')\n",
    "    file.read() # error 발생\n",
    "    file.close()\n",
    "except Exception as e:\n",
    "    print(e)\n",
    "finally: # 무조건 실행\n",
    "    file.close()\n",
    "    \n",
    "print('file.closed: ',file.closed)"
   ]
  },
  {
   "cell_type": "code",
   "execution_count": 103,
   "metadata": {},
   "outputs": [
    {
     "name": "stdout",
     "output_type": "stream",
     "text": [
      "test 함수 시작 !!!\n",
      "test try start\n",
      "finally 구문\n"
     ]
    }
   ],
   "source": [
    "# return 을 만나도 finally는 무조건 실행\n",
    "def test():\n",
    "    print('test 함수 시작 !!!') # o\n",
    "    try:\n",
    "        print('test try start') # o\n",
    "        return\n",
    "        print('try 구분 return 다음 문장') # x\n",
    "    except:\n",
    "        print(\"except 구문\") # x\n",
    "    finally:\n",
    "        print('finally 구문') # o\n",
    "    print('test 함수 end !!') # x\n",
    "test()"
   ]
  },
  {
   "cell_type": "code",
   "execution_count": 104,
   "metadata": {},
   "outputs": [
    {
     "name": "stdout",
     "output_type": "stream",
     "text": [
      "test 함수 시작 !!!\n",
      "test try start\n",
      "finally 구문\n",
      "while end !!\n"
     ]
    }
   ],
   "source": [
    "# break 을 만나도 finally 는 실행\n",
    "while True:\n",
    "    print('test 함수 시작 !!!') # o\n",
    "    try:\n",
    "        print('test try start') # o\n",
    "        break\n",
    "        print('try 구분 return 다음 문장') # x\n",
    "    except:\n",
    "        print(\"except 구문\") # x\n",
    "    finally:\n",
    "        print('finally 구문') # o\n",
    "    print('test 함수 end !!') # x\n",
    "\n",
    "print('while end !!')"
   ]
  },
  {
   "cell_type": "code",
   "execution_count": 107,
   "metadata": {},
   "outputs": [
    {
     "name": "stdout",
     "output_type": "stream",
     "text": [
      "정수입력>for i in name\n",
      "정수를 입력하세요 :  invalid literal for int() with base 10: 'for i in name'\n"
     ]
    }
   ],
   "source": [
    "# 여러 가지 에러 발생시 에러 종류별로 처리하는 방법\n",
    "list_number = [52,273,45,66,88]\n",
    "#숫자만 리스트에 추가\n",
    "list_number = []\n",
    "\n",
    "try: # 에러 발생 가능 코드 구현\n",
    "    input_number = int(input('정수입력>'))\n",
    "    #리스트의 요소 출력\n",
    "    print(\"{}번째 요소 : {}\".format(input_number,list_number[input_number]))\n",
    "except ValueError as ex: # 에러 발생시 실현하고자 하는 코드 구현\n",
    "    print('정수를 입력하세요 : ',ex)\n",
    "    \n",
    "except IndexError as ex:\n",
    "    print('리스트의 인덱스 범위 오류 : ',ex)\n",
    "except Exception as ex:\n",
    "    print('알 수 없는 오류: ',ex)\n",
    "\n",
    "    "
   ]
  },
  {
   "cell_type": "code",
   "execution_count": 111,
   "metadata": {},
   "outputs": [
    {
     "name": "stdout",
     "output_type": "stream",
     "text": [
      "정수입력> 3\n"
     ]
    },
    {
     "ename": "NotImplementedError",
     "evalue": "",
     "output_type": "error",
     "traceback": [
      "\u001b[1;31m---------------------------------------------------------------------------\u001b[0m",
      "\u001b[1;31mNotImplementedError\u001b[0m                       Traceback (most recent call last)",
      "\u001b[1;32m<ipython-input-111-d8e61c197126>\u001b[0m in \u001b[0;36m<module>\u001b[1;34m\u001b[0m\n\u001b[0;32m      3\u001b[0m \u001b[1;32mif\u001b[0m \u001b[0mnumber\u001b[0m \u001b[1;33m>\u001b[0m \u001b[1;36m0\u001b[0m\u001b[1;33m:\u001b[0m\u001b[1;33m\u001b[0m\u001b[1;33m\u001b[0m\u001b[0m\n\u001b[0;32m      4\u001b[0m     \u001b[1;31m#양수일 때 아직 미구현상태\u001b[0m\u001b[1;33m\u001b[0m\u001b[1;33m\u001b[0m\u001b[1;33m\u001b[0m\u001b[0m\n\u001b[1;32m----> 5\u001b[1;33m     \u001b[1;32mraise\u001b[0m \u001b[0mNotImplementedError\u001b[0m\u001b[1;33m\u001b[0m\u001b[1;33m\u001b[0m\u001b[0m\n\u001b[0m\u001b[0;32m      6\u001b[0m \u001b[1;32melse\u001b[0m\u001b[1;33m:\u001b[0m\u001b[1;33m\u001b[0m\u001b[1;33m\u001b[0m\u001b[0m\n\u001b[0;32m      7\u001b[0m     \u001b[1;31m# 미구현 상태\u001b[0m\u001b[1;33m\u001b[0m\u001b[1;33m\u001b[0m\u001b[1;33m\u001b[0m\u001b[0m\n",
      "\u001b[1;31mNotImplementedError\u001b[0m: "
     ]
    }
   ],
   "source": [
    "# raise 객체: 강제로 에러 발생 시킴\n",
    "number = int(input('정수입력> '))\n",
    "\n",
    "if number > 0:\n",
    "    #양수일 때 아직 미구현상태\n",
    "    raise NotImplementedError\n",
    "else:\n",
    "    # 미구현 상태\n",
    "    raise NotImplementedError \n",
    "    \n",
    "#   for, while , try , except ,else ,finally, if, def 함수는 리턴값이 tuple로\n",
    "#   온다."
   ]
  },
  {
   "cell_type": "code",
   "execution_count": null,
   "metadata": {},
   "outputs": [],
   "source": [
    "# 이름 전화번로를 파일에 저장하는 프로그램 작성\n",
    "# 파일 이름을 \"dataset/tellno.txt\", 기존에 파일 존재시 데이터 추가로\n",
    "# 전화번호 입력은 숫자 3개를 입력받아 123-456-789 형식으로 저장,\n",
    "# 이름과 전화번호는 ''분리해서 저장\n",
    "# 저장이 끝나면 파일을 닫고\n",
    "# 다시 파일을 open -> 'r'\n",
    "# 파일의 내용을 화면에 출력\n",
    "# --홍길동 123-456-7890\n",
    "#try except finally 사용"
   ]
  }
 ],
 "metadata": {
  "kernelspec": {
   "display_name": "Python 3",
   "language": "python",
   "name": "python3"
  },
  "language_info": {
   "codemirror_mode": {
    "name": "ipython",
    "version": 3
   },
   "file_extension": ".py",
   "mimetype": "text/x-python",
   "name": "python",
   "nbconvert_exporter": "python",
   "pygments_lexer": "ipython3",
   "version": "3.7.6"
  }
 },
 "nbformat": 4,
 "nbformat_minor": 4
}
