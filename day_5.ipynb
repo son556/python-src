{
 "cells": [
  {
   "cell_type": "code",
   "execution_count": null,
   "metadata": {},
   "outputs": [],
   "source": [
    "# 표준 모듈 삽입\n",
    "import math\n",
    "# from import ceil, floor\n",
    "# import math as m\n",
    "# from math import as ceil as c"
   ]
  },
  {
   "cell_type": "code",
   "execution_count": null,
   "metadata": {},
   "outputs": [],
   "source": [
    "print(math.cos(10))\n",
    "print(math.ceil(5.6)) # 숫자보다 큰 정수 중에 가장 작은 정수(올림)\n",
    "print(math.floor(5.6))# 숫자보다 작은 정수 중에 가장 큰 정수(버림)"
   ]
  },
  {
   "cell_type": "code",
   "execution_count": null,
   "metadata": {},
   "outputs": [],
   "source": [
    "# from 모듈명 import 필요한 변수 또는 함수\n",
    "from math import cos, ceil, floor\n",
    "# 모듈에서 일부 기능만 가져오기\n",
    "print(cos(10))\n",
    "print(ceil(5.6))\n",
    "print(floor(5.6))"
   ]
  },
  {
   "cell_type": "code",
   "execution_count": null,
   "metadata": {},
   "outputs": [],
   "source": [
    "# as 를 사용하여 별명(alias) 사용\n",
    "import math as m\n",
    "m.cos(10)"
   ]
  },
  {
   "cell_type": "code",
   "execution_count": null,
   "metadata": {},
   "outputs": [],
   "source": [
    "# random 모듈 : 임의의 수를 발생시키는 함수들을 가진 모듈\n",
    "import random as ran\n",
    "\n",
    "print(\"random 모듈 : \")\n",
    "# random() : 0.0 < x < 1.0 사이의 float 리턴\n",
    "print(\"random(): \",ran.random())\n",
    "\n",
    "# uniform(min,max) : min < x < max 사이의 float 리턴\n",
    "print(\"uniform(): \",ran.uniform(10,20))\n",
    "\n",
    "# randrange([min,]max): min < x < max 사이의 int 리턴,min 생략시 0 ~ max\n",
    "print(\"randrange(): \",ran.randrange(10,20))\n",
    "\n",
    "# choice(list) : 리스트 내부의 임의의 요소를 리턴\n",
    "print(\"choice(): \",ran.choice(list(range(10))))\n",
    "\n",
    "# shuffle(list) : 리스트 요소를 랜덤하게 섞음\n",
    "a = list(range(10))\n",
    "print(\"shuffle(): \",ran.shuffle(a),a)\n",
    "\n",
    "# sample(list, k=숫자) : 리스트에서 숫자의 갯수 요소를 랜덤하게 리턴\n",
    "print(\"sample() : \",ran.sample(a,k=3))"
   ]
  },
  {
   "cell_type": "code",
   "execution_count": null,
   "metadata": {},
   "outputs": [],
   "source": [
    "# sys 모듈 : 시스템 관련 정보를 가져옴\n",
    "import sys\n",
    "\n",
    "print(\"copyright : \",sys.copyright)\n",
    "print(\"version : \",sys.version)\n",
    "# sys.exit() : 프로그램 종료"
   ]
  },
  {
   "cell_type": "code",
   "execution_count": null,
   "metadata": {},
   "outputs": [],
   "source": [
    "# os 모듈 : 운영체제와 관련된 명령어\n",
    "import os\n",
    "\n",
    "print(\"현재 운영체제 : \",os.name)\n",
    "print(\"현재 작업 경로 : \",os.getcwd())\n",
    "print(\"현재 폴더 리스트 : \",os.listdir())"
   ]
  },
  {
   "cell_type": "code",
   "execution_count": null,
   "metadata": {},
   "outputs": [],
   "source": [
    "# 디렉토리 생성\n",
    "os.mkdir('test_dir')\n",
    "os.listdir()\n"
   ]
  },
  {
   "cell_type": "code",
   "execution_count": null,
   "metadata": {},
   "outputs": [],
   "source": [
    "# 디렉토리 삭제\n",
    "os.rmdir('test_dir')\n",
    "os.listdir()"
   ]
  },
  {
   "cell_type": "code",
   "execution_count": null,
   "metadata": {},
   "outputs": [],
   "source": [
    "# file 이름 변경 : rename(old_name, new_name)\n",
    "os.rename(\"a.txt\",\"new.py\")\n",
    "os.listdir()"
   ]
  },
  {
   "cell_type": "code",
   "execution_count": null,
   "metadata": {},
   "outputs": [],
   "source": [
    "# file 삭제 : remove(파일명)\n",
    "os.remove('new.py')\n",
    "os.listdir()"
   ]
  },
  {
   "cell_type": "code",
   "execution_count": null,
   "metadata": {},
   "outputs": [],
   "source": [
    "!dir #! 명령창에서 사용하는 명령어 사용"
   ]
  },
  {
   "cell_type": "code",
   "execution_count": null,
   "metadata": {},
   "outputs": [],
   "source": [
    "# datetime 모듈 : 날짜를 형식에 맞게 편집 가능\n",
    "import datetime as dt\n",
    "\n",
    "print(dt.datetime.now())\n",
    "print(dt.datetime.today())"
   ]
  },
  {
   "cell_type": "code",
   "execution_count": null,
   "metadata": {},
   "outputs": [],
   "source": [
    "# time 모듈 : 일정 시간 멈춤..\n",
    "import time\n",
    "print(\"time start\")\n",
    "time.sleep(3)\n",
    "print('\\ntime end')"
   ]
  },
  {
   "cell_type": "code",
   "execution_count": 2,
   "metadata": {},
   "outputs": [
    {
     "name": "stdout",
     "output_type": "stream",
     "text": [
      "b'<!doctype html><html itemscope=\"\" itemtype=\"http://schema.org/WebPage\" lang=\"ko\"><head><meta content=\"text/html; charset=UTF-8\" http-equiv=\"Content-Type\"><meta content=\"/logos/doodles/2021/seasonal-holidays-2021-6753651837109324-6752733080595605-cst.gif\" itemprop=\"image\"><meta content=\"2021 &#50672;&#47568;&#50672;&#49884;\" property=\"twitter:title\"><meta content=\"&#46384;&#46907;&#54620; &#50672;&#47568; &#48372;&#45236;&#49464;&#50836; #GoogleDoodle\" property=\"twitter:description\"><meta content=\"&#46384;&#46907;&#54620; &#50672;&#47568; &#48372;&#45236;&#49464;&#50836; #GoogleDoodle\" property=\"og:description\"><meta content=\"summary_large_image\" property=\"twitter:card\"><meta content=\"@GoogleDoodles\" property=\"twitter:site\"><meta content=\"https://www.google.com/logos/doodles/2021/seasonal-holidays-2021-6753651837109324-2xa.gif\" property=\"twitter:image\"><meta content=\"https://www.google.com/logos/doodles/2021/seasonal-holidays-2021-6753651837109324-2xa.gif\" property=\"og:image\"><meta content=\"1000\" property=\"og:image:width\"><meta content=\"400\" property=\"og:image:height\"><meta content=\"https://www.google.com/logos/doodles/2021/seasonal-holidays-2021-6753651837109324-2xa.gif\" property=\"og:url\"><meta content=\"video.other\" property=\"og:type\"><title>Google</title><script nonce=\"XRfL+CqRKsS4xNoEopilXQ==\">(function(){window.google={kEI:\\'r1fMYbSPKsvM-Qbarb34Cw\\',kEXPI:\\'0,202410,10,1100116,56873,6058,207,4804,2316,383,246,5,1354,4013,1238,1122515,1197709,692,16,380074,16114,28684,17572,4858,1362,9290,3028,4747,12834,4020,978,13228,3847,4192,6430,21822,920,2371,4303,1278,2212,530,149,1103,840,6297,109,4011,2023,1777,520,14670,3227,2845,7,12354,5096,15768,553,907,2,3555,13142,3,576,6460,148,12314,1661,4,1253,275,656,1648,7039,4683,15626,2726,2038,2658,6701,655,31,5663,7965,2305,2132,16786,5815,2542,4094,3138,7,907,3,3541,1,11943,4581,283,38,874,5992,18443,2,3035,10987,1931,3911,1678,128,615,5853,8873,532,1058,1160,5679,1020,2381,2718,18234,9,2,6,4938,2835,2123,2444,5710,549,2960,3763,3775,2,8129,4789,437,815,13669,3426,3708,1538,1311,65,958,120,340,19,2751,258,1358,495,136,405,568,99,135,1194,511,2,2,1,1509,254,1227,524,3628,6698,493,834,1152,3,213,2,106,576,3856,3,1409,882,6,2,361,2,34,51,260,51,388,33,71,594,284,888,116,1,406,35,727,2355,4404,201,148,113,457,1723,2667,2,204,5,395,71,375,192,96,281,809,453,2,1985,483,6,633,2999,5510278,446,5996348,521,258,2800438,882,444,1,2,80,1,1796,6,4,2553,1,748,141,795,563,1,4265,1,1,2,1331,4142,2609,155,17,13,72,139,4,2,20,2,169,13,19,46,5,39,96,548,29,2,2,1,2,1,2,2,7,4,1,2,2,2,2,2,2,353,513,186,1,1,158,3,2,2,2,2,2,4,2,3,3,269,1601,106,24,2,4,1,4,64,3,3,40,2,2,2,9,2,2,2,1,23952849,4041351,338,3,2414,1491,9,1435,159,1358,1129,2,3595,3,927,1536,201,1894,959\\',kBL:\\'4JUY\\'};google.sn=\\'webhp\\';google.kHL=\\'ko\\';})();(function(){\\nvar f=this||self;var h,k=[];function l(a){for(var b;a&&(!a.getAttribute||!(b=a.getAttribute(\"eid\")));)a=a.parentNode;return b||h}function m(a){for(var b=null;a&&(!a.getAttribute||!(b=a.getAttribute(\"leid\")));)a=a.parentNode;return b}\\nfunction n(a,b,c,d,g){var e=\"\";c||-1!==b.search(\"&ei=\")||(e=\"&ei=\"+l(d),-1===b.search(\"&lei=\")&&(d=m(d))&&(e+=\"&lei=\"+d));d=\"\";!c&&f._cshid&&-1===b.search(\"&cshid=\")&&\"slh\"!==a&&(d=\"&cshid=\"+f._cshid);c=c||\"/\"+(g||\"gen_204\")+\"?atyp=i&ct=\"+a+\"&cad=\"+b+e+\"&zx=\"+Date.now()+d;/^http:/i.test(c)&&\"https:\"===window.location.protocol&&(google.ml&&google.ml(Error(\"a\"),!1,{src:c,glmm:1}),c=\"\");return c};h=google.kEI;google.getEI=l;google.getLEI=m;google.ml=function(){return null};google.log=function(a,b,c,d,g){if(c=n(a,b,c,d,g)){a=new Image;var e=k.length;k[e]=a;a.onerror=a.onload=a.onabort=function(){delete k[e]};a.src=c}};google.logUrl=n;}).call(this);(function(){\\ngoogle.y={};google.sy=[];google.x=function(a,b){if(a)var c=a.id;else{do c=Math.random();while(google.y[c])}google.y[c]=[a,b];return!1};google.sx=function(a){google.sy.push(a)};google.lm=[];google.plm=function(a){google.lm.push.apply(google.lm,a)};google.lq=[];google.load=function(a,b,c){google.lq.push([[a],b,c])};google.loadAll=function(a,b){google.lq.push([a,b])};google.bx=!1;google.lx=function(){};}).call(this);google.f={};(function(){\\ndocument.documentElement.addEventListener(\"submit\",function(b){var a;if(a=b.target){var c=a.getAttribute(\"data-submitfalse\");a=\"1\"===c||\"q\"===c&&!a.elements.q.value?!0:!1}else a=!1;a&&(b.preventDefault(),b.stopPropagation())},!0);document.documentElement.addEventListener(\"click\",function(b){var a;a:{for(a=b.target;a&&a!==document.documentElement;a=a.parentElement)if(\"A\"===a.tagName){a=\"1\"===a.getAttribute(\"data-nohref\");break a}a=!1}a&&b.preventDefault()},!0);}).call(this);</script><style>#gbar,#guser{font-size:13px;padding-top:1px !important;}#gbar{height:22px}#guser{padding-bottom:7px !important;text-align:right}.gbh,.gbd{border-top:1px solid #c9d7f1;font-size:1px}.gbh{height:0;position:absolute;top:24px;width:100%}@media all{.gb1{height:22px;margin-right:.5em;vertical-align:top}#gbar{float:left}}a.gb1,a.gb4{text-decoration:underline !important}a.gb1,a.gb4{color:#00c !important}.gbi .gb4{color:#dd8e27 !important}.gbf .gb4{color:#900 !important}\\n</style><style>body,td,a,p,.h{font-family:&#44404;&#47548;,&#46027;&#50880;,arial,sans-serif}.ko{font-size:9pt}body{margin:0;overflow-y:scroll}#gog{padding:3px 8px 0}td{line-height:.8em}.gac_m td{line-height:17px}form{margin-bottom:20px}.h{color:#1558d6}em{font-weight:bold;font-style:normal}.lst{height:25px;width:496px}.gsfi,.lst{font:18px arial,sans-serif}.gsfs{font:17px arial,sans-serif}.ds{display:inline-box;display:inline-block;margin:3px 0 4px;margin-left:4px}input{font-family:inherit}body{background:#fff;color:#000}a{color:#4b11a8;text-decoration:none}a:hover,a:active{text-decoration:underline}.fl a{color:#1558d6}a:visited{color:#4b11a8}.sblc{padding-top:5px}.sblc a{display:block;margin:2px 0;margin-left:13px;font-size:11px}.lsbb{background:#f8f9fa;border:solid 1px;border-color:#dadce0 #70757a #70757a #dadce0;height:30px}.lsbb{display:block}#WqQANb a{display:inline-block;margin:0 12px}.lsb{background:url(/images/nav_logo229.png) 0 -261px repeat-x;border:none;color:#000;cursor:pointer;height:30px;margin:0;outline:0;font:15px arial,sans-serif;vertical-align:top}.lsb:active{background:#dadce0}.lst:focus{outline:none}.tiah{width:458px}</style><script nonce=\"XRfL+CqRKsS4xNoEopilXQ==\">(function(){window.google.erd={jsr:1,bv:1493,de:true};\\nvar f=this||self;var g,h,k=null!==(g=f.mei)&&void 0!==g?g:1,l=null!==(h=f.sdo)&&void 0!==h?h:!0,p=0,q,r=google.erd,u=r.jsr;google.ml=function(a,b,d,m,c){c=void 0===c?2:c;b&&(q=a&&a.message);if(google.dl)return google.dl(a,c,d),null;if(0>u){window.console&&console.error(a,d);if(-2===u)throw a;b=!1}else b=!a||!a.message||\"Error loading script\"===a.message||p>=k&&!m?!1:!0;if(!b)return null;p++;d=d||{};var e=c;c=encodeURIComponent;b=\"/gen_204?atyp=i&ei=\"+c(google.kEI);google.kEXPI&&(b+=\"&jexpid=\"+c(google.kEXPI));b+=\"&srcpg=\"+c(google.sn)+\"&jsr=\"+c(r.jsr)+\"&bver=\"+c(r.bv)+(\"&jsel=\"+e);e=a.lineNumber;void 0!==e&&(b+=\"&line=\"+\\ne);var n=a.fileName;n&&(b+=\"&script=\"+c(n),e&&n===window.location.href&&(e=document.documentElement.outerHTML.split(\"\\\\n\")[e],b+=\"&cad=\"+c(e?e.substring(0,300):\"No script found.\")));for(var t in d)b+=\"&\",b+=c(t),b+=\"=\",b+=c(d[t]);b=b+\"&emsg=\"+c(a.name+\": \"+a.message);b=b+\"&jsst=\"+c(a.stack||\"N/A\");12288<=b.length&&(b=b.substr(0,12288));a=b;m||google.log(0,\"\",a);return a};window.onerror=function(a,b,d,m,c){q!==a&&(a=c instanceof Error?c:Error(a),void 0===d||\"lineNumber\"in a||(a.lineNumber=d),void 0===b||\"fileName\"in a||(a.fileName=b),google.ml(a,!1,void 0,!1,\"SyntaxError\"===a.name||\"SyntaxError\"===a.message.substring(0,11)?2:0));q=null;l&&p>=k&&(window.onerror=null)};})();</script></head><body bgcolor=\"#fff\"><script nonce=\"XRfL+CqRKsS4xNoEopilXQ==\">(function(){var src=\\'/images/nav_logo229.png\\';var iesg=false;document.body.onload = function(){window.n && window.n();if (document.images){new Image().src=src;}\\nif (!iesg){document.f&&document.f.q.focus();document.gbqf&&document.gbqf.q.focus();}\\n}\\n})();</script><div id=\"mngb\"><div id=gbar><nobr><b class=gb1>&#44160;&#49353;</b> <a class=gb1 href=\"http://www.google.co.kr/imghp?hl=ko&tab=wi\">&#51060;&#48120;&#51648;</a> <a class=gb1 href=\"http://maps.google.co.kr/maps?hl=ko&tab=wl\">&#51648;&#46020;</a> <a class=gb1 href=\"https://play.google.com/?hl=ko&tab=w8\">Play</a> <a class=gb1 href=\"http://www.youtube.com/?gl=KR&tab=w1\">YouTube</a> <a class=gb1 href=\"https://news.google.com/?tab=wn\">&#45684;&#49828;</a> <a class=gb1 href=\"https://mail.google.com/mail/?tab=wm\">Gmail</a> <a class=gb1 href=\"https://drive.google.com/?tab=wo\">&#46300;&#46972;&#51060;&#48652;</a> <a class=gb1 style=\"text-decoration:none\" href=\"https://www.google.co.kr/intl/ko/about/products?tab=wh\"><u>&#45908;&#48372;&#44592;</u> &raquo;</a></nobr></div><div id=guser width=100%><nobr><span id=gbn class=gbi></span><span id=gbf class=gbf></span><span id=gbe></span><a href=\"http://www.google.co.kr/history/optout?hl=ko\" class=gb4>&#50937; &#44592;&#47197;</a> | <a  href=\"/preferences?hl=ko\" class=gb4>&#49444;&#51221;</a> | <a target=_top id=gb_70 href=\"https://accounts.google.com/ServiceLogin?hl=ko&passive=true&continue=http://www.google.com/&ec=GAZAAQ\" class=gb4>&#47196;&#44536;&#51064;</a></nobr></div><div class=gbh style=left:0></div><div class=gbh style=right:0></div></div><center><br clear=\"all\" id=\"lgpd\"><div id=\"lga\"><img alt=\"2021 &#50672;&#47568;&#50672;&#49884;\" border=\"0\" height=\"200\" src=\"/logos/doodles/2021/seasonal-holidays-2021-6753651837109324-6752733080595605-cst.gif\" title=\"2021 &#50672;&#47568;&#50672;&#49884;\" width=\"500\" id=\"hplogo\"><br></div><form action=\"/search\" name=\"f\"><table cellpadding=\"0\" cellspacing=\"0\"><tr valign=\"top\"><td width=\"25%\">&nbsp;</td><td align=\"center\" nowrap=\"\"><input name=\"ie\" value=\"ISO-8859-1\" type=\"hidden\"><input value=\"ko\" name=\"hl\" type=\"hidden\"><input name=\"source\" type=\"hidden\" value=\"hp\"><input name=\"biw\" type=\"hidden\"><input name=\"bih\" type=\"hidden\"><div class=\"ds\" style=\"height:32px;margin:4px 0\"><div style=\"position:relative;zoom:1\"><input class=\"lst tiah\" style=\"margin:0;padding:5px 8px 0 6px;vertical-align:top;color:#000;padding-right:38px\" autocomplete=\"off\" value=\"\" title=\"Google &#44160;&#49353;\" maxlength=\"2048\" name=\"q\" size=\"57\"><img src=\"/textinputassistant/tia.png\" style=\"position:absolute;cursor:pointer;right:5px;top:4px;z-index:300\" data-script-url=\"/textinputassistant/11/ko_tia.js\" id=\"tsuid1\" alt=\"\" height=\"23\" width=\"27\"><script nonce=\"XRfL+CqRKsS4xNoEopilXQ==\">(function(){var id=\\'tsuid1\\';document.getElementById(id).onclick = function(){var s = document.createElement(\\'script\\');s.src = this.getAttribute(\\'data-script-url\\');(document.getElementById(\\'xjsc\\')||document.body).appendChild(s);};})();</script></div></div><br style=\"line-height:0\"><span class=\"ds\"><span class=\"lsbb\"><input class=\"lsb\" value=\"Google &#44160;&#49353;\" name=\"btnG\" type=\"submit\"></span></span><span class=\"ds\"><span class=\"lsbb\"><input class=\"lsb\" id=\"tsuid2\" value=\"I&#8217;m Feeling Lucky\" name=\"btnI\" type=\"submit\"><script nonce=\"XRfL+CqRKsS4xNoEopilXQ==\">(function(){var id=\\'tsuid2\\';document.getElementById(id).onclick = function(){if (this.form.q.value){this.checked = 1;if (this.form.iflsig)this.form.iflsig.disabled = false;}\\nelse top.location=\\'/doodles/\\';};})();</script><input value=\"ALs-wAMAAAAAYcxlv3QIujiV_cbGcwCnfURMt9ehtmoh\" name=\"iflsig\" type=\"hidden\"></span></span></td><td class=\"fl sblc\" align=\"left\" nowrap=\"\" width=\"25%\"><a href=\"/advanced_search?hl=ko&amp;authuser=0\">&#44256;&#44553;&#44160;&#49353;</a></td></tr></table><input id=\"gbv\" name=\"gbv\" type=\"hidden\" value=\"1\"><script nonce=\"XRfL+CqRKsS4xNoEopilXQ==\">(function(){\\nvar a,b=\"1\";if(document&&document.getElementById)if(\"undefined\"!=typeof XMLHttpRequest)b=\"2\";else if(\"undefined\"!=typeof ActiveXObject){var c,d,e=[\"MSXML2.XMLHTTP.6.0\",\"MSXML2.XMLHTTP.3.0\",\"MSXML2.XMLHTTP\",\"Microsoft.XMLHTTP\"];for(c=0;d=e[c++];)try{new ActiveXObject(d),b=\"2\"}catch(h){}}a=b;if(\"2\"==a&&-1==location.search.indexOf(\"&gbv=2\")){var f=google.gbvu,g=document.getElementById(\"gbv\");g&&(g.value=a);f&&window.setTimeout(function(){location.href=f},0)};}).call(this);</script></form><div id=\"gac_scont\"></div><div style=\"font-size:83%;min-height:3.5em\"><br></div><span id=\"footer\"><div style=\"font-size:10pt\"><div style=\"margin:19px auto;text-align:center\" id=\"WqQANb\"><a href=\"/intl/ko/ads/\">&#44305;&#44256; &#54532;&#47196;&#44536;&#47016;</a><a href=\"http://www.google.co.kr/intl/ko/services/\">&#48708;&#51592;&#45768;&#49828; &#49556;&#47336;&#49496;</a><a href=\"/intl/ko/about.html\">Google &#51221;&#48372;</a><a href=\"http://www.google.com/setprefdomain?prefdom=KR&amp;prev=http://www.google.co.kr/&amp;sig=K_5s4RMNz255lYAgbSRFuUHve_DfI%3D\">Google.co.kr</a></div></div><p style=\"font-size:8pt;color:#70757a\">&copy; 2021 - <a href=\"/intl/ko/policies/privacy/\">&#44060;&#51064;&#51221;&#48372;&#52376;&#47532;&#48169;&#52840;</a> - <a href=\"/intl/ko/policies/terms/\">&#50557;&#44288;</a></p></span></center><script nonce=\"XRfL+CqRKsS4xNoEopilXQ==\">(function(){window.google.cdo={height:757,width:1440};(function(){\\nvar a=window.innerWidth,b=window.innerHeight;if(!a||!b){var c=window.document,d=\"CSS1Compat\"==c.compatMode?c.documentElement:c.body;a=d.clientWidth;b=d.clientHeight}a&&b&&(a!=google.cdo.width||b!=google.cdo.height)&&google.log(\"\",\"\",\"/client_204?&atyp=i&biw=\"+a+\"&bih=\"+b+\"&ei=\"+google.kEI);}).call(this);})();</script> <script nonce=\"XRfL+CqRKsS4xNoEopilXQ==\">(function(){google.xjs={ck:\\'\\',cs:\\'\\',excm:[]};})();</script>  <script nonce=\"XRfL+CqRKsS4xNoEopilXQ==\">(function(){var u=\\'/xjs/_/js/k\\\\x3dxjs.hp.en.8My0PvgdGIk.O/am\\\\x3dAPAEAEACkA/d\\\\x3d1/ed\\\\x3d1/esmo\\\\x3d1/rs\\\\x3dACT90oGepRzziWU7OPYV1h0N-nkjUkWXMg/m\\\\x3dsb_he,d\\';\\nvar e=this||self,f=function(a){return a};var g;var l=function(a,b){this.g=b===h?a:\"\"};l.prototype.toString=function(){return this.g+\"\"};var h={};\\nfunction m(){var a=u;google.lx=function(){n(a);google.lx=function(){}};google.bx||google.lx()}\\nfunction n(a){google.timers&&google.timers.load&&google.tick&&google.tick(\"load\",\"xjsls\");var b=document;var c=\"SCRIPT\";\"application/xhtml+xml\"===b.contentType&&(c=c.toLowerCase());c=b.createElement(c);if(void 0===g){b=null;var k=e.trustedTypes;if(k&&k.createPolicy){try{b=k.createPolicy(\"goog#html\",{createHTML:f,createScript:f,createScriptURL:f})}catch(p){e.console&&e.console.error(p.message)}g=b}else g=b}a=(b=g)?b.createScriptURL(a):a;a=new l(a,h);c.src=a instanceof l&&a.constructor===l?a.g:\"type_error:TrustedResourceUrl\";var d;a=(c.ownerDocument&&c.ownerDocument.defaultView||window).document;(d=(b=null===(d=a.querySelector)||void 0===d?void 0:d.call(a,\"script[nonce]\"))?b.nonce||b.getAttribute(\"nonce\")||\"\":\"\")&&c.setAttribute(\"nonce\",d);document.body.appendChild(c);google.psa=!0};google.xjsu=u;setTimeout(function(){m()},0);})();function _DumpException(e){throw e;}\\nfunction _F_installCss(c){}\\n(function(){google.jl={attn:false,blt:\\'none\\',chnk:0,dw:false,dwu:true,emtn:0,end:0,ine:false,lls:\\'default\\',pdt:0,rep:0,snet:true,strt:0,ubm:false,uwp:true};})();(function(){var pmc=\\'{\\\\x22d\\\\x22:{},\\\\x22sb_he\\\\x22:{\\\\x22agen\\\\x22:true,\\\\x22cgen\\\\x22:true,\\\\x22client\\\\x22:\\\\x22heirloom-hp\\\\x22,\\\\x22dh\\\\x22:true,\\\\x22dhqt\\\\x22:true,\\\\x22ds\\\\x22:\\\\x22\\\\x22,\\\\x22ffql\\\\x22:\\\\x22ko\\\\x22,\\\\x22fl\\\\x22:true,\\\\x22host\\\\x22:\\\\x22google.com\\\\x22,\\\\x22isbh\\\\x22:28,\\\\x22jsonp\\\\x22:true,\\\\x22msgs\\\\x22:{\\\\x22cibl\\\\x22:\\\\x22&#44160;&#49353;&#50612; &#51648;&#50864;&#44592;\\\\x22,\\\\x22dym\\\\x22:\\\\x22&#51060;&#44163;&#51012; &#52286;&#51004;&#49512;&#45208;&#50836;?\\\\x22,\\\\x22lcky\\\\x22:\\\\x22I&#8217;m Feeling Lucky\\\\x22,\\\\x22lml\\\\x22:\\\\x22&#51088;&#49464;&#55176; &#50508;&#50500;&#48372;&#44592;\\\\x22,\\\\x22oskt\\\\x22:\\\\x22&#51077;&#47141; &#46020;&#44396;\\\\x22,\\\\x22psrc\\\\x22:\\\\x22&#44160;&#49353;&#50612;&#44032; \\\\\\\\u003Ca href\\\\x3d\\\\\\\\\\\\x22/history\\\\\\\\\\\\x22\\\\\\\\u003E&#50937; &#44592;&#47197;\\\\\\\\u003C/a\\\\\\\\u003E&#50640;&#49436; &#49325;&#51228;&#46104;&#50632;&#49845;&#45768;&#45796;.\\\\x22,\\\\x22psrl\\\\x22:\\\\x22&#49325;&#51228;\\\\x22,\\\\x22sbit\\\\x22:\\\\x22&#51060;&#48120;&#51648;&#47196; &#44160;&#49353;\\\\x22,\\\\x22srch\\\\x22:\\\\x22Google &#44160;&#49353;\\\\x22},\\\\x22ovr\\\\x22:{},\\\\x22pq\\\\x22:\\\\x22\\\\x22,\\\\x22refpd\\\\x22:true,\\\\x22refspre\\\\x22:true,\\\\x22rfs\\\\x22:[],\\\\x22sbas\\\\x22:\\\\x220 3px 8px 0 rgba(0,0,0,0.2),0 0 0 1px rgba(0,0,0,0.08)\\\\x22,\\\\x22sbpl\\\\x22:16,\\\\x22sbpr\\\\x22:16,\\\\x22scd\\\\x22:10,\\\\x22stok\\\\x22:\\\\x22gylZO0v2wBpkaPYl-5mIlY6wu1I\\\\x22,\\\\x22uhde\\\\x22:false}}\\';google.pmc=JSON.parse(pmc);})();</script>        </body></html>'\n"
     ]
    }
   ],
   "source": [
    "# urllib 모듈 : url 라이브러리\n",
    "# 인터넷 검색 1.urlopen, 2.해당 데이터 읽어 옴,...\n",
    "from urllib import request\n",
    "\n",
    "# urlopen() 구글 메인 페이지 read\n",
    "target = request.urlopen('http://www.google.com')\n",
    "output = target.read()\n",
    "\n",
    "print(output)"
   ]
  },
  {
   "cell_type": "code",
   "execution_count": null,
   "metadata": {},
   "outputs": [],
   "source": [
    "# beautifulsoup4 모듈 설치하는 방법\n",
    "# pip install 모듈(패키지명)\n",
    "# !pip install beautifulsoup4"
   ]
  },
  {
   "cell_type": "code",
   "execution_count": 3,
   "metadata": {},
   "outputs": [],
   "source": [
    "# <html> ~ </html> tag 형식으로 변환해 주는 모듈: BeautifulSoup\n",
    "# <마크> ~ </끝>\n",
    "from bs4 import BeautifulSoup\n",
    "target = request.urlopen('http://www.google.com')\n",
    "soup = BeautifulSoup(target) "
   ]
  },
  {
   "cell_type": "code",
   "execution_count": null,
   "metadata": {},
   "outputs": [],
   "source": [
    "soup"
   ]
  },
  {
   "cell_type": "code",
   "execution_count": 8,
   "metadata": {},
   "outputs": [
    {
     "data": {
      "text/plain": [
       "[<tr valign=\"top\"><td width=\"25%\"> </td><td align=\"center\" nowrap=\"\"><input name=\"ie\" type=\"hidden\" value=\"ISO-8859-1\"/><input name=\"hl\" type=\"hidden\" value=\"ko\"/><input name=\"source\" type=\"hidden\" value=\"hp\"/><input name=\"biw\" type=\"hidden\"/><input name=\"bih\" type=\"hidden\"/><div class=\"ds\" style=\"height:32px;margin:4px 0\"><div style=\"position:relative;zoom:1\"><input autocomplete=\"off\" class=\"lst tiah\" maxlength=\"2048\" name=\"q\" size=\"57\" style=\"margin:0;padding:5px 8px 0 6px;vertical-align:top;color:#000;padding-right:38px\" title=\"Google 검색\" value=\"\"/><img alt=\"\" data-script-url=\"/textinputassistant/11/ko_tia.js\" height=\"23\" id=\"tsuid1\" src=\"/textinputassistant/tia.png\" style=\"position:absolute;cursor:pointer;right:5px;top:4px;z-index:300\" width=\"27\"/><script nonce=\"4VYEjt9z7apL1gAXfjjE6w==\">(function(){var id='tsuid1';document.getElementById(id).onclick = function(){var s = document.createElement('script');s.src = this.getAttribute('data-script-url');(document.getElementById('xjsc')||document.body).appendChild(s);};})();</script></div></div><br style=\"line-height:0\"/><span class=\"ds\"><span class=\"lsbb\"><input class=\"lsb\" name=\"btnG\" type=\"submit\" value=\"Google 검색\"/></span></span><span class=\"ds\"><span class=\"lsbb\"><input class=\"lsb\" id=\"tsuid2\" name=\"btnI\" type=\"submit\" value=\"I’m Feeling Lucky\"/><script nonce=\"4VYEjt9z7apL1gAXfjjE6w==\">(function(){var id='tsuid2';document.getElementById(id).onclick = function(){if (this.form.q.value){this.checked = 1;if (this.form.iflsig)this.form.iflsig.disabled = false;}\n",
       " else top.location='/doodles/';};})();</script><input name=\"iflsig\" type=\"hidden\" value=\"ALs-wAMAAAAAYcxlxPTdV6AFaj9-gDMtozq8ZQ8oMOYP\"/></span></span></td><td align=\"left\" class=\"fl sblc\" nowrap=\"\" width=\"25%\"><a href=\"/advanced_search?hl=ko&amp;authuser=0\">고급검색</a></td></tr>]"
      ]
     },
     "execution_count": 8,
     "metadata": {},
     "output_type": "execute_result"
    }
   ],
   "source": [
    "# soup.title\n",
    "# <title>The Dormouse's story</title>\n",
    "\n",
    "# soup.title.name\n",
    "# # u'title'\n",
    "\n",
    "# soup.title.string\n",
    "# # u'The Dormouse's story'\n",
    "\n",
    "# soup.title.parent.name\n",
    "# # u'head'\n",
    "\n",
    "# soup.p\n",
    "# # <p class=\"title\"><b>The Dormouse's story</b></p>\n",
    "\n",
    "# soup.p['class']\n",
    "# # u'title'\n",
    "\n",
    "# soup.a\n",
    "# # <a class=\"sister\" href=\"http://example.com/elsie\" id=\"link1\">Elsie</a>\n",
    "\n",
    "soup.find_all('tr') # tag 명 -> tag 명 들어가는거 다 찾음\n",
    "# # [<a class=\"sister\" href=\"http://example.com/elsie\" id=\"link1\">Elsie</a>,\n",
    "# #  <a class=\"sister\" href=\"http://example.com/lacie\" id=\"link2\">Lacie</a>,\n",
    "# #  <a class=\"sister\" href=\"http://example.com/tillie\" id=\"link3\">Tillie</a>]\n",
    "\n",
    "# soup.find(id=\"link3\")\n",
    "# # <a class=\"sister\" href=\"http://example.com/tillie\" id=\"link3\">Tillie</a>\n",
    "# 일반적인 과업으로 한 페이지에서 <a> 태그에 존재하는 모든 URL을 뽑아 낼 일이 많다:\n",
    "\n",
    "# for link in soup.find_all('a'):\n",
    "#     print(link.get('href'))\n",
    "# # http://example.com/elsie\n",
    "# # http://example.com/lacie\n",
    "# # http://example.com/tillie\n",
    "soup.select('tr')"
   ]
  },
  {
   "cell_type": "code",
   "execution_count": 12,
   "metadata": {},
   "outputs": [],
   "source": [
    "# 기상청 날씨 예보를 가져와서 보여 줌\n",
    "# 1. url에 연결 -> urllib.request.urlopen(url명)\n",
    "# 2. url에서 자료를 가져옴 -> <html> ~ </html> tag 형식으로 \n",
    "#  3. BeBeautifulSoup(url open 정보)\n",
    "from urllib import request #1\n",
    "from bs4 import BeautifulSoup\n",
    "url = 'https://www.weather.go.kr/w/weather/forecast/mid-term.do?stnId=108'\n",
    "target = request.urlopen(url)\n",
    "\n",
    "soup = BeautifulSoup(target)#2"
   ]
  },
  {
   "cell_type": "code",
   "execution_count": 13,
   "metadata": {},
   "outputs": [
    {
     "name": "stdout",
     "output_type": "stream",
     "text": [
      "서울인천경기도\n",
      "\n",
      "강원도영서\n",
      "\n",
      "강원도영동\n",
      "\n",
      "대전세종충청남도\n",
      "\n",
      "충청북도\n",
      "\n",
      "광주전라남도\n",
      "\n",
      "전라북도\n",
      "\n",
      "부산울산경상남도\n",
      "\n",
      "대구경상북도\n",
      "\n",
      "제주도\n",
      "\n"
     ]
    }
   ],
   "source": [
    "for location in soup.select('td.midterm-province'):\n",
    "    print(location.text)\n",
    "    print()\n",
    "#     for tr in location.select('tr'):\n",
    "#         print(tr.select_one('td'))"
   ]
  },
  {
   "cell_type": "code",
   "execution_count": 14,
   "metadata": {},
   "outputs": [
    {
     "name": "stdout",
     "output_type": "stream",
     "text": [
      "\n",
      "도시명 : 서울, 최저기온 : -9, 최대기온 : 0\n",
      "\n"
     ]
    }
   ],
   "source": [
    "# for location in soup.find_all('td',class_='midterm-city'):\n",
    "for location in soup.find_all('tbody'):\n",
    "    if location.find('td', class_='midterm-city'):\n",
    "        print('도시명 : {}, 최저기온 : {}, 최대기온 : {}'.\\\n",
    "             format(location.find('td',class_='midterm-city').text,\n",
    "                   location.find('span',class_='tmn').text,\n",
    "                   location.find('span',class_='tmx').text))\n",
    "    print()"
   ]
  },
  {
   "cell_type": "code",
   "execution_count": 15,
   "metadata": {},
   "outputs": [
    {
     "name": "stdout",
     "output_type": "stream",
     "text": [
      "도시명 : 서울, 최저기온 : -9, 최대기온 : 0\n",
      "도시명 : 인천, 최저기온 : -8, 최대기온 : 0\n",
      "도시명 : 수원, 최저기온 : -10, 최대기온 : 1\n",
      "도시명 : 파주, 최저기온 : -15, 최대기온 : 0\n",
      "도시명 : 이천, 최저기온 : -12, 최대기온 : 0\n",
      "도시명 : 평택, 최저기온 : -11, 최대기온 : 1\n",
      "도시명 : 춘천, 최저기온 : -14, 최대기온 : 0\n",
      "도시명 : 원주, 최저기온 : -12, 최대기온 : 0\n",
      "도시명 : 강릉, 최저기온 : -6, 최대기온 : 5\n",
      "도시명 : 대전, 최저기온 : -9, 최대기온 : 2\n",
      "도시명 : 세종, 최저기온 : -10, 최대기온 : 1\n",
      "도시명 : 홍성, 최저기온 : -10, 최대기온 : 2\n",
      "도시명 : 청주, 최저기온 : -9, 최대기온 : 1\n",
      "도시명 : 충주, 최저기온 : -12, 최대기온 : 0\n",
      "도시명 : 영동, 최저기온 : -12, 최대기온 : 2\n",
      "도시명 : 광주, 최저기온 : -5, 최대기온 : 5\n",
      "도시명 : 목포, 최저기온 : -3, 최대기온 : 4\n",
      "도시명 : 여수, 최저기온 : -3, 최대기온 : 5\n",
      "도시명 : 순천, 최저기온 : -4, 최대기온 : 6\n",
      "도시명 : 광양, 최저기온 : -4, 최대기온 : 6\n",
      "도시명 : 나주, 최저기온 : -7, 최대기온 : 4\n",
      "도시명 : 전주, 최저기온 : -7, 최대기온 : 3\n",
      "도시명 : 군산, 최저기온 : -7, 최대기온 : 3\n",
      "도시명 : 정읍, 최저기온 : -8, 최대기온 : 2\n",
      "도시명 : 남원, 최저기온 : -8, 최대기온 : 4\n",
      "도시명 : 고창, 최저기온 : -6, 최대기온 : 3\n",
      "도시명 : 무주, 최저기온 : -12, 최대기온 : 2\n",
      "도시명 : 부산, 최저기온 : -4, 최대기온 : 6\n",
      "도시명 : 울산, 최저기온 : -5, 최대기온 : 5\n",
      "도시명 : 창원, 최저기온 : -5, 최대기온 : 4\n",
      "도시명 : 진주, 최저기온 : -8, 최대기온 : 5\n",
      "도시명 : 거창, 최저기온 : -10, 최대기온 : 5\n",
      "도시명 : 통영, 최저기온 : -4, 최대기온 : 5\n",
      "도시명 : 대구, 최저기온 : -7, 최대기온 : 4\n",
      "도시명 : 안동, 최저기온 : -12, 최대기온 : 2\n",
      "도시명 : 포항, 최저기온 : -5, 최대기온 : 6\n",
      "도시명 : 경주, 최저기온 : -8, 최대기온 : 5\n",
      "도시명 : 울진, 최저기온 : -6, 최대기온 : 6\n",
      "도시명 : 울릉도, 최저기온 : -1, 최대기온 : 4\n",
      "도시명 : 제주, 최저기온 : 3, 최대기온 : 8\n",
      "도시명 : 서귀포, 최저기온 : 3, 최대기온 : 10\n"
     ]
    }
   ],
   "source": [
    "for location in soup.find_all('tr'):\n",
    "    if location.find('td',class_='midterm-city'):\n",
    "        print('도시명 : {}, 최저기온 : {}, 최대기온 : {}'.\\\n",
    "             format(location.find('td',class_='midterm-city').text,\n",
    "                   location.find('span',class_='tmn').text,\n",
    "                   location.find('span',class_='tmx').text))   "
   ]
  },
  {
   "cell_type": "code",
   "execution_count": null,
   "metadata": {},
   "outputs": [],
   "source": [
    "# flask 모듈"
   ]
  },
  {
   "cell_type": "code",
   "execution_count": null,
   "metadata": {},
   "outputs": [],
   "source": [
    "!pip install flask"
   ]
  },
  {
   "cell_type": "code",
   "execution_count": null,
   "metadata": {},
   "outputs": [],
   "source": [
    "# 함수 데코레이터\n",
    "def test(function):# 실행3. function자리에 hello()함수 들어옴\n",
    "    def wrapper():#실행4.\n",
    "        print('Hello start!!!')# 실행4.\n",
    "        print(function.__name__)\n",
    "        function()#<- 데코레이션에서 준비한 hello()함수가 들어옴//실행5. \n",
    "        #                                                     hello()함수 실행\n",
    "        print(function.__name__)\n",
    "        print('Hello end !!!')\n",
    "        print(\"000: \",function.__name__)\n",
    "    return wrapper#실행3.\n",
    "# 데코레이션 함수\n",
    "@test# <- 데코레이션// 실행 2.\n",
    "def hello():\n",
    "    print(\"Hello\")\n",
    "# 함수 호출\n",
    "hello() #실행 1."
   ]
  },
  {
   "cell_type": "code",
   "execution_count": null,
   "metadata": {},
   "outputs": [],
   "source": [
    "# 모듈 만들기\n",
    "os.mkdir(\"module_basic\")# 디렉토리 생성"
   ]
  },
  {
   "cell_type": "code",
   "execution_count": 2,
   "metadata": {},
   "outputs": [
    {
     "name": "stdout",
     "output_type": "stream",
     "text": [
      "module_a:  a 모듈의 변수\n",
      "module_b:  b 모듈의 변수\n"
     ]
    }
   ],
   "source": [
    "# 내가 만든 패키지 모듈 불러오기\n",
    "# import 패키지명.모듈명\n",
    "\n",
    "import test_package.module_a as a\n",
    "import test_package.module_b as b\n",
    "\n",
    "print(\"module_a: \",a.variable_a)\n",
    "print(\"module_b: \",b.variable_b)"
   ]
  },
  {
   "cell_type": "code",
   "execution_count": 1,
   "metadata": {},
   "outputs": [
    {
     "name": "stdout",
     "output_type": "stream",
     "text": [
      "__init__파일실행\n",
      "module_a:  a 모듈의 변수\n",
      "module_b:  b 모듈의 변수\n"
     ]
    }
   ],
   "source": [
    "from test_package import *\n",
    "# __init__.py 파일 필요\n",
    "print(\"module_a: \",module_a.variable_a)\n",
    "print(\"module_b: \",module_b.variable_b)"
   ]
  },
  {
   "cell_type": "code",
   "execution_count": 11,
   "metadata": {},
   "outputs": [
    {
     "name": "stdout",
     "output_type": "stream",
     "text": [
      "beautifulsoup4                     4.8.2\n"
     ]
    },
    {
     "name": "stderr",
     "output_type": "stream",
     "text": [
      "WARNING: ERROR: Please provide a package name or names.\n",
      "FINDSTR: 쓰기 오류입니다.\n"
     ]
    }
   ],
   "source": [
    "!pip list | findstr beauti*\n",
    "# pip list -> 파이프(|) -> findstr beauti*"
   ]
  },
  {
   "cell_type": "code",
   "execution_count": null,
   "metadata": {},
   "outputs": [],
   "source": []
  }
 ],
 "metadata": {
  "kernelspec": {
   "display_name": "Python 3",
   "language": "python",
   "name": "python3"
  },
  "language_info": {
   "codemirror_mode": {
    "name": "ipython",
    "version": 3
   },
   "file_extension": ".py",
   "mimetype": "text/x-python",
   "name": "python",
   "nbconvert_exporter": "python",
   "pygments_lexer": "ipython3",
   "version": "3.7.6"
  }
 },
 "nbformat": 4,
 "nbformat_minor": 4
}
