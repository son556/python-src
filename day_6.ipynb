{
 "cells": [
  {
   "cell_type": "markdown",
   "metadata": {},
   "source": [
    "# bs4 이용하여 영화 정보 가져오기."
   ]
  },
  {
   "cell_type": "code",
   "execution_count": null,
   "metadata": {},
   "outputs": [],
   "source": [
    "from urllib import request\n",
    "from bs4 import BeautifulSoup"
   ]
  },
  {
   "cell_type": "code",
   "execution_count": null,
   "metadata": {},
   "outputs": [],
   "source": [
    "url = 'https://movie.naver.com/movie/sdb/rank/rmovie.naver?sel=cur&date=20211229'\n",
    "target = request.urlopen(url)\n",
    "soup = BeautifulSoup(target)\n",
    "soup"
   ]
  },
  {
   "cell_type": "code",
   "execution_count": null,
   "metadata": {},
   "outputs": [],
   "source": [
    "movie_list = []\n",
    "point_list = []\n",
    "for tr in soup.find_all('tr'):\n",
    "    if tr.select_one('a'):\n",
    "        movie = tr.select_one('a').attrs['title']\n",
    "        movie_list.append(movie)\n",
    "    if tr.find('td',class_='point'):\n",
    "        point = tr.find('td',class_='point').string #없는게 있으면 실행X\n",
    "        point_list.append(point)\n",
    "\n",
    "for idx, (title, point) in enumerate(zip(movie_list, point_list)):\n",
    "     print(\"{}. {} : {}\".format(idx+1,title,point))"
   ]
  },
  {
   "cell_type": "markdown",
   "metadata": {},
   "source": [
    "# 파파고 번역 API 이용하기"
   ]
  },
  {
   "cell_type": "code",
   "execution_count": null,
   "metadata": {},
   "outputs": [],
   "source": [
    "text='''Yesterday\n",
    "All my troubles seemed so far away\n",
    "Now it looks as though they're here to stay\n",
    "Oh, I believe in yesterday\n",
    "Suddenly\n",
    "I'm not half the man I used to be\n",
    "There's a shadow hanging over me\n",
    "Oh, yesterday came suddenly\n",
    "Why she had to go, I don't know\n",
    "She wouldn't say\n",
    "I said something wrong\n",
    "Now I long for yesterday\n",
    "Yesterday\n",
    "Love was such an easy game to play\n",
    "Now I need a place to hide away\n",
    "Oh, I believe in yesterday\n",
    "Why she'''"
   ]
  },
  {
   "cell_type": "code",
   "execution_count": null,
   "metadata": {},
   "outputs": [],
   "source": [
    "import requests"
   ]
  },
  {
   "cell_type": "code",
   "execution_count": null,
   "metadata": {},
   "outputs": [],
   "source": [
    "requests_url = 'https://openapi.naver.com/v1/papago/n2mt'\n",
    "\n",
    "headers = {'Content-Type': 'application/x-www-form-urlencoded; charset=UTF-8',\n",
    "          'X-Naver-Client-Id': 'pxpY58sMtm8ccSAAtEtD',\n",
    "          'X-Naver-Client-Secret': 'aXqal54G1s',\n",
    "          }\n",
    "params = {'source':'en','target':'ko','text':text}"
   ]
  },
  {
   "cell_type": "code",
   "execution_count": null,
   "metadata": {
    "scrolled": true
   },
   "outputs": [],
   "source": [
    "response = requests.post(requests_url, headers=headers, data=params)\n",
    "print(type(response.text))\n",
    "print(response.text)\n",
    "\n",
    "res = response.json() #dict 타입으로 데이터 변경\n",
    "print(type(res))"
   ]
  },
  {
   "cell_type": "code",
   "execution_count": null,
   "metadata": {},
   "outputs": [],
   "source": [
    "print(res['message']['result']['translatedText'])# res에서 원하는 내용 뽑기"
   ]
  },
  {
   "cell_type": "code",
   "execution_count": null,
   "metadata": {},
   "outputs": [],
   "source": [
    "# 비로그인 웹서비스 url http://openapi.naver.com"
   ]
  },
  {
   "cell_type": "markdown",
   "metadata": {},
   "source": [
    "# 학생, 국어, 영어, 수학 점수를 입력 받아     student_dict{}에 저장한 후 출력"
   ]
  },
  {
   "cell_type": "code",
   "execution_count": null,
   "metadata": {},
   "outputs": [],
   "source": [
    "students = []\n",
    "score_name = ['kor','eng','math']\n",
    "\n",
    "def create_student():\n",
    "    student = {}\n",
    "    name = input('학생이름 입력>')\n",
    "    student['name'] = name\n",
    "    if name == 'q':\n",
    "        return student\n",
    "    score = list(map(int, input('국어, 영어, 수학 점수 입력> ').split()))\n",
    "    student['name'] = name\n",
    "    for idx, value in enumerate(score):\n",
    "        student[score_name[idx]] = score[idx]\n",
    "    return student"
   ]
  },
  {
   "cell_type": "code",
   "execution_count": null,
   "metadata": {},
   "outputs": [],
   "source": [
    "while True:\n",
    "    student = create_student() #def 함수 동작\n",
    "    if student['name'] == 'q': #def 함수안 student딕셔너리 키가 'q'->break\n",
    "        break\n",
    "    students.append(student)\n",
    " "
   ]
  },
  {
   "cell_type": "code",
   "execution_count": null,
   "metadata": {},
   "outputs": [],
   "source": [
    "print(students)"
   ]
  },
  {
   "cell_type": "code",
   "execution_count": null,
   "metadata": {},
   "outputs": [],
   "source": [
    "for item in students:\n",
    "    for key in item:\n",
    "        print('{}:{}\\t'.format(key,item[key], end = ''))\n",
    "    print('\\n')\n",
    "print(item)"
   ]
  },
  {
   "cell_type": "markdown",
   "metadata": {},
   "source": [
    "# 학생, 국어, 영어, 수학 점수를 입력 받아 student_dict{} 에 저장한 후 출력"
   ]
  },
  {
   "cell_type": "code",
   "execution_count": null,
   "metadata": {},
   "outputs": [],
   "source": [
    "def create_student():\n",
    "    student = {}\n",
    "    name = input(\"학생 이름 입력 >\")\n",
    "    student['name'] = name    \n",
    "    if name == 'q':\n",
    "        return student\n",
    "    score = list(map(int, input(\"국어 , 영어, 수학 점수 입력 > \").split()))\n",
    "\n",
    "    for idx, value in enumerate(score):\n",
    "        student[score_name[idx]] = score[idx]\n",
    "    return student"
   ]
  },
  {
   "cell_type": "code",
   "execution_count": null,
   "metadata": {},
   "outputs": [],
   "source": [
    "students = []\n",
    "score_name = ['kor','eng','math']\n",
    "while True:\n",
    "    student = create_student()\n",
    "    if  student['name'] == 'q':\n",
    "        break\n",
    "    students.append(student)"
   ]
  }
 ],
 "metadata": {
  "kernelspec": {
   "display_name": "Python 3",
   "language": "python",
   "name": "python3"
  },
  "language_info": {
   "codemirror_mode": {
    "name": "ipython",
    "version": 3
   },
   "file_extension": ".py",
   "mimetype": "text/x-python",
   "name": "python",
   "nbconvert_exporter": "python",
   "pygments_lexer": "ipython3",
   "version": "3.7.6"
  }
 },
 "nbformat": 4,
 "nbformat_minor": 4
}
