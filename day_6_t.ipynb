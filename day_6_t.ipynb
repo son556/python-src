{
 "cells": [
  {
   "cell_type": "markdown",
   "metadata": {},
   "source": [
    "# 학생, 국어, 영어, 수학 점수를 입력 받아 student_dict{} 에 저장한 후 출력"
   ]
  },
  {
   "cell_type": "code",
   "execution_count": null,
   "metadata": {},
   "outputs": [],
   "source": [
    "def create_student():\n",
    "    student = {}\n",
    "    name = input(\"학생 이름 입력 >\")\n",
    "    student['name'] = name    \n",
    "    if name == 'q':\n",
    "        return student\n",
    "    score = list(map(int, input(\"국어 , 영어, 수학 점수 입력 > \").split()))\n",
    "\n",
    "    for idx, value in enumerate(score):\n",
    "        student[score_name[idx]] = score[idx]\n",
    "    return student"
   ]
  },
  {
   "cell_type": "code",
   "execution_count": null,
   "metadata": {},
   "outputs": [],
   "source": [
    "students = []\n",
    "score_name = ['kor','eng','math']\n",
    "while True:\n",
    "    student = create_student()\n",
    "    if  student['name'] == 'q':\n",
    "        break\n",
    "    students.append(student)"
   ]
  },
  {
   "cell_type": "code",
   "execution_count": null,
   "metadata": {},
   "outputs": [],
   "source": [
    "print(students) "
   ]
  },
  {
   "cell_type": "code",
   "execution_count": null,
   "metadata": {},
   "outputs": [],
   "source": [
    "# student = {'name': ,'kor' :, 'eng' :,'math' : }\n",
    "\n",
    "def student_get_avg(student):\n",
    "    return student_get_sum(student)/3\n",
    "\n",
    "def student_get_sum(student):\n",
    "    return student['kor'] + student['eng'] + student['math']\n",
    "def student_print(students):\n",
    "    for item in students:\n",
    "        for key in item:\n",
    "            \n",
    "            print(\"{}:{}\\t\".format(key,item[key]), end='')\n",
    "        \n",
    "        print('총점:{}\\t,avg:{}'.format(student_get_sum(item),\n",
    "                              student_get_avg(item)))\n",
    "        print(\"\\n\")\n"
   ]
  },
  {
   "cell_type": "code",
   "execution_count": null,
   "metadata": {},
   "outputs": [],
   "source": [
    "\n",
    "student_print(students)"
   ]
  },
  {
   "cell_type": "markdown",
   "metadata": {},
   "source": [
    "# class 생성 하기 class 클래스명 : ~ ~ ~ ~"
   ]
  },
  {
   "cell_type": "code",
   "execution_count": null,
   "metadata": {},
   "outputs": [],
   "source": [
    "class Student:\n",
    "    students=[]\n",
    "    def __init__(self,name,kor,eng,math):\n",
    "        self.name = name\n",
    "        self.kor = kor\n",
    "        self.eng = eng\n",
    "        self.math = math\n",
    "        students.append(student)\n",
    "    def get_sum(self):\n",
    "        return self.kor + self.eng + self.math\n",
    "    def get_avg(self):\n",
    "        return self.get_sum()/ 3\n",
    "    def to_print(self):\n",
    "        return \"{}:{}\\t{}\\n\".format(self.name, self.get_sum(),self.get_avg())"
   ]
  },
  {
   "cell_type": "code",
   "execution_count": null,
   "metadata": {},
   "outputs": [],
   "source": [
    "\n",
    "while True:\n",
    "    name = input('학생 이름 입력> ')\n",
    "    if name == 'q':\n",
    "        break\n",
    "    score = list(map(int, input('국어 영어 수학 점수 입력>').split()))\n",
    "    kor = score[0]\n",
    "    eng = score[1]\n",
    "    math = score[2]\n",
    "    student = Student(name, kor, eng, math)"
   ]
  },
  {
   "cell_type": "code",
   "execution_count": null,
   "metadata": {},
   "outputs": [],
   "source": [
    "print(Student.students) # -> object의 주소가 나옴\n",
    "for idx, student in enumerate(students):\n",
    "    print(idx)\n",
    "    print(student)\n",
    "    print(students[idx].name)\n",
    "    print(student.to_print())"
   ]
  },
  {
   "cell_type": "code",
   "execution_count": null,
   "metadata": {},
   "outputs": [],
   "source": [
    "class Test:# class에는 self를 항상 넣어주어야함\n",
    "    def __init__(self, a,b,c):\n",
    "        self.a = a\n",
    "        self.b = b\n",
    "        self.c = c\n",
    "        print(\"Test class 생성자\")\n",
    "    \n",
    "    def class_print(self):\n",
    "        return self.a + self.b + self.c\n",
    "    def class_return(self, a):\n",
    "        return a\n",
    "    def __del__(self):\n",
    "        print(\"Test class 소멸자\")"
   ]
  },
  {
   "cell_type": "code",
   "execution_count": null,
   "metadata": {},
   "outputs": [],
   "source": [
    "a = Test(10,20,30)\n",
    "a.class_print()"
   ]
  },
  {
   "cell_type": "code",
   "execution_count": null,
   "metadata": {},
   "outputs": [],
   "source": [
    "del a\n",
    "print(a) # a = Test(10,20,30) 지워져서 error 발생"
   ]
  },
  {
   "cell_type": "code",
   "execution_count": null,
   "metadata": {},
   "outputs": [],
   "source": [
    "print('isinstance(student) : ',isinstance(student, Student))"
   ]
  },
  {
   "cell_type": "code",
   "execution_count": null,
   "metadata": {},
   "outputs": [],
   "source": [
    "class Student:\n",
    "    def study(self):\n",
    "        print('공부를 합니다')\n",
    "class Teacher:\n",
    "    def teacher(self):\n",
    "        print('가르칩니다')"
   ]
  },
  {
   "cell_type": "code",
   "execution_count": null,
   "metadata": {},
   "outputs": [],
   "source": [
    "classroom = [Student(), Teacher(), Student(), Teacher()]\n",
    "\n",
    "for person in classroom:\n",
    "    if isinstance(person, Student):\n",
    "        person.study()\n",
    "    else:\n",
    "        person.teacher()"
   ]
  },
  {
   "cell_type": "code",
   "execution_count": null,
   "metadata": {},
   "outputs": [],
   "source": [
    "class Student:\n",
    "    def __init__(self, name, kor, eng, math):\n",
    "        self.name = name\n",
    "        self.kor = kor\n",
    "        self.eng = eng\n",
    "        self.math = math\n",
    "    def get_sum(self):\n",
    "        return self.kor + self.eng + self.math\n",
    "    def get_avg(self):\n",
    "        return self.get_sum() / 3\n",
    "    def __str__(self):\n",
    "        return '{}\\t{}\\t{}'.format(self.name, self.get_sum(), self.get_avg())\n",
    "    def __eq__(self, value):\n",
    "        return self.get_sum() == value.get_sum\n",
    "    def __ne__(self, value):\n",
    "        return self.get_sum != value.get_sum\n",
    "    def __gt__(self,value):\n",
    "        return self.get_sum() > value.get_sum()"
   ]
  },
  {
   "cell_type": "code",
   "execution_count": null,
   "metadata": {},
   "outputs": [],
   "source": [
    "students = [\n",
    "    Student(\"윤인성\", 87, 98, 88),\n",
    "    Student(\"연하진\", 92, 98, 96),\n",
    "    Student(\"구지연\", 76, 96, 94),\n",
    "    Student(\"나선주\", 98, 92, 96),\n",
    "    Student(\"윤아린\", 95, 98, 98),\n",
    "    Student(\"윤명월\", 64, 88, 92)\n",
    "]\n",
    "student_a = Student(\"윤인성\", 87, 98, 88)\n",
    "student_b = Student(\"연하진\", 92, 98, 96)\n",
    "print('student_a == student_b -> ',student_a == student_b)\n",
    "print('studnet_a != student_b ->',student_a != student_b)\n",
    "\n",
    "for student in students:\n",
    "    print(str(student))\n",
    "    if student == student_a or student == student_b :\n",
    "        print(student.name, student.get_sum())"
   ]
  },
  {
   "cell_type": "code",
   "execution_count": null,
   "metadata": {},
   "outputs": [],
   "source": [
    "class Student: #메모리에 내용을 저장안함, while문장 안됨\n",
    "    count = 0\n",
    "    students = [] #클래스 변수 -> 클래스명.변수\n",
    "    def __init__(self, name, kor, eng, math):#클래스를 만듦\n",
    "        self.name = name\n",
    "        self.kor = kor\n",
    "        self.eng = eng\n",
    "        self.math = math\n",
    "\n",
    "        Student.count += 1 # 클래스에 소속된 변수 : 클래스명.변수\n",
    "        Student.students.append(self)\n",
    "        \n",
    "    @classmethod # 클래스 매서드 표현\n",
    "    def print(cls):\n",
    "        print('-------------학생 목록-------------')\n",
    "        print('이름\\t국어\\t영어\\t수학\\t총점\\t평균')\n",
    "        for student in cls.students:\n",
    "            print(str(student))\n",
    "        print('-----------------------------------')\n",
    "        \n",
    "    def get_sum(self):\n",
    "        return self.kor + self.eng + self.math\n",
    "    def get_avg(self):\n",
    "        return self.get_sum()/3\n",
    "    def __str__(self): #str(인스턴스) / 보통 인스턴스.str 인데 __str__이면 가능\n",
    "        return \"{}\\t{}\\t{}\\t{}\\t{}\\t{:0.3f}\".format(self.name, self.kor,self.eng,\n",
    "                                       self.math, self.get_sum(),\n",
    "                                       self.get_avg())"
   ]
  },
  {
   "cell_type": "code",
   "execution_count": null,
   "metadata": {},
   "outputs": [],
   "source": [
    "\n",
    "while True:\n",
    "    name = input('학생 이름 입력> ')\n",
    "    if name == 'q':\n",
    "        break\n",
    "    score = list(map(int, input('국어 영어 수학 점수 입력>').split()))\n",
    "    kor = score[0]\n",
    "    eng = score[1]\n",
    "    math = score[2]\n",
    "    student = Student(name, kor, eng, math) #instance 생성\n",
    "Student.print() # 클래스 매서드 호출\n",
    "total = 0\n",
    "for student in Student.students:\n",
    "    total += student.kor + student.eng + student.math\n",
    "print('전체 인원수:{}, 총점: {}, 평균:{:.3f}'.format(\n",
    "Student.count, total, total/Student.count))"
   ]
  },
  {
   "cell_type": "code",
   "execution_count": null,
   "metadata": {},
   "outputs": [],
   "source": [
    "print(Student.students[0])"
   ]
  },
  {
   "cell_type": "code",
   "execution_count": null,
   "metadata": {},
   "outputs": [],
   "source": [
    "\n",
    "Student(\"윤인성\", 87, 98, 88)\n",
    "Student(\"연하진\", 92, 98, 96)\n",
    "Student(\"구지연\", 76, 96, 94)\n",
    "Student(\"나선주\", 98, 92, 96)\n",
    "Student(\"윤아린\", 95, 98, 98)\n",
    "Student(\"윤명월\", 64, 88, 92)\n",
    "Student.print() # 클래스의 매서드 또는 함수\n",
    "print('전체 인원 수 : ',Student.count) #Student 클래 전체의 global 변수"
   ]
  },
  {
   "cell_type": "markdown",
   "metadata": {},
   "source": [
    "# 학생 자료를 입력 받아 클래스 리스트에 저장한 후\n",
    "# 학생들의 각 과목별 점수와 총점 평균을 출력하고\n",
    "# 전체학생의 인원수와 전체 학생의 총점과 평균을 구하세요"
   ]
  },
  {
   "cell_type": "code",
   "execution_count": null,
   "metadata": {},
   "outputs": [],
   "source": [
    "class Student:\n",
    "    count = 0\n",
    "    def __init__(self,name,kor,eng,math):\n",
    "        self.name = name\n",
    "        self.kor = kor\n",
    "        self.eng = eng\n",
    "        self.math =math\n",
    "    Student.count += 1\n",
    "    def get_sum(self):\n",
    "        return self.kor + self.eng + self.math\n",
    "    def get_avg(self):\n",
    "        return self.get_sum()/3\n",
    "    def to_print(self):\n",
    "        return \"{}:{}\\t{}\\n\".format(self.name, self.get_sum(),self.get_avg())"
   ]
  },
  {
   "cell_type": "code",
   "execution_count": null,
   "metadata": {},
   "outputs": [],
   "source": [
    "for student in students:\n",
    "    print(student.to_print())"
   ]
  },
  {
   "cell_type": "code",
   "execution_count": null,
   "metadata": {},
   "outputs": [],
   "source": [
    "class Circle:\n",
    "    def __init__(self,radius):\n",
    "        self.radius = radius # private 변수-> self.__변수(외부접근 불가)\n",
    "    def get_circum(self):\n",
    "        return self.radius * 2 * 3.14\n",
    "    def get_area(self):\n",
    "        return self.radius * self.radius * 3.14\n",
    "#     def get_radius(self): --> private 변수에 접근가능(외부)하게 하는 함수\n",
    "#         return self.__radius\n",
    "#     def set_radius(self, value): --> private 변수를 수정가능하게 하는 함수\n",
    "#         self.__radius = value"
   ]
  },
  {
   "cell_type": "code",
   "execution_count": null,
   "metadata": {},
   "outputs": [],
   "source": [
    "circle = Circle(10)\n",
    "print(circle.get_area())\n",
    "# print(circle.get_radius())  -> 외부에서 private변수 접근\n",
    "# circle.set_radius(5) --> 외부에서 private변수 수정하는 경우"
   ]
  },
  {
   "cell_type": "markdown",
   "metadata": {},
   "source": [
    "# 학생들의 이름과 점수를 입력받아 리스트에 저장한 후 자료 출력"
   ]
  },
  {
   "cell_type": "code",
   "execution_count": null,
   "metadata": {},
   "outputs": [],
   "source": [
    "n_list = []\n",
    "s_list = []\n",
    "while True:\n",
    "    name = input('이름 입력> ')\n",
    "    if name == 'q':\n",
    "        break\n",
    "    score = int(input('점수 입력>'))\n",
    "    n_list.append(name)\n",
    "    s_list.append(score)\n",
    "for idx, value in enumerate(n_list):\n",
    "    print('{}:{}'.format(value,s_list[idx]))"
   ]
  },
  {
   "cell_type": "markdown",
   "metadata": {},
   "source": [
    "# 학생들의 이름과 점수를 입력받아 딕셔너리에 저장한 후 출력"
   ]
  },
  {
   "cell_type": "code",
   "execution_count": null,
   "metadata": {},
   "outputs": [],
   "source": [
    "score_dict = {}\n",
    "while True:\n",
    "    name = input('이름 입력>')\n",
    "    if name == 'q':\n",
    "        break\n",
    "    score = int(input('점수입력'))\n",
    "    score_dict[name]=score\n",
    "for key in score_dict:\n",
    "    print('{}:{}'.format(key,score_dict[key]))"
   ]
  },
  {
   "cell_type": "markdown",
   "metadata": {},
   "source": [
    "# 클래스를 생성하여 입력 후 출력"
   ]
  },
  {
   "cell_type": "code",
   "execution_count": null,
   "metadata": {},
   "outputs": [],
   "source": [
    "class Score:\n",
    "    sco = []\n",
    "    def __init__(self,name,score):\n",
    "        self.name = name\n",
    "        self.score = score\n",
    "        Score.sco.append(self)\n",
    "    @classmethod\n",
    "    def sco_print(cls):\n",
    "        for stud in cls.sco:\n",
    "            print(\"{}\\t{}\".format(stud.name, stud.score))\n",
    "        \n",
    " "
   ]
  },
  {
   "cell_type": "code",
   "execution_count": null,
   "metadata": {},
   "outputs": [],
   "source": [
    "       \n",
    "# sco = []\n",
    "while True:\n",
    "    name = input('이름 입력>')\n",
    "    if name=='q':\n",
    "        break\n",
    "    score = int(input('점수 입력>'))\n",
    "    Score(name, score)\n",
    "#     sco.appendend(student)\n",
    "print(Score.sco[0].name)\n",
    "# for stud in sco:\n",
    "#     stud.sco_print()\n",
    "Score.sco_print()"
   ]
  }
 ],
 "metadata": {
  "kernelspec": {
   "display_name": "Python 3",
   "language": "python",
   "name": "python3"
  },
  "language_info": {
   "codemirror_mode": {
    "name": "ipython",
    "version": 3
   },
   "file_extension": ".py",
   "mimetype": "text/x-python",
   "name": "python",
   "nbconvert_exporter": "python",
   "pygments_lexer": "ipython3",
   "version": "3.7.6"
  }
 },
 "nbformat": 4,
 "nbformat_minor": 5
}
