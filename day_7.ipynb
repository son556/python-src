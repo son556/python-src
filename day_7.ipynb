{
 "cells": [
  {
   "cell_type": "code",
   "execution_count": 6,
   "metadata": {},
   "outputs": [],
   "source": [
    "# class 정의 class 클래스명: ~ ~ ~\n",
    "class Student:\n",
    "    def __init__(self, name, kor ,eng):\n",
    "        self.name = name\n",
    "        self.kor = kor\n",
    "        self.eng = eng\n",
    "    def get_sum(self):\n",
    "        return self.kor + self.eng\n",
    "    \n",
    "    def get_avg(self):\n",
    "        return self.get_sum() / 2"
   ]
  },
  {
   "cell_type": "code",
   "execution_count": 7,
   "metadata": {},
   "outputs": [
    {
     "name": "stdout",
     "output_type": "stream",
     "text": [
      "<__main__.Student object at 0x000002158CD38E88>\n",
      "a 100 100 200\n"
     ]
    }
   ],
   "source": [
    "student = Student('a',100,100)\n",
    "print(student) # 주소\n",
    "print(student.name, student.kor, student.eng, student.get_sum()) #내용"
   ]
  },
  {
   "cell_type": "code",
   "execution_count": 36,
   "metadata": {},
   "outputs": [],
   "source": [
    "class Circle:\n",
    "    def __init__(self,radius):\n",
    "        self.__radius = radius #private 변수\n",
    "    @property\n",
    "    def radius(self): # getter 와 같은 역할\n",
    "        return self.__radius\n",
    "    #getter\n",
    "#     def get_radius(self):\n",
    "#          return self.__radius\n",
    "    @radius.setter # setter 와 같은 역할\n",
    "    def radius(self,value):\n",
    "        self.__radius = value"
   ]
  },
  {
   "cell_type": "code",
   "execution_count": 37,
   "metadata": {},
   "outputs": [
    {
     "name": "stdout",
     "output_type": "stream",
     "text": [
      "cricle.radius :  10\n",
      "cricle.radius :  100\n"
     ]
    },
    {
     "ename": "AttributeError",
     "evalue": "'Circle' object has no attribute '__radius'",
     "output_type": "error",
     "traceback": [
      "\u001b[1;31m---------------------------------------------------------------------------\u001b[0m",
      "\u001b[1;31mAttributeError\u001b[0m                            Traceback (most recent call last)",
      "\u001b[1;32m<ipython-input-37-f47fd049e961>\u001b[0m in \u001b[0;36m<module>\u001b[1;34m\u001b[0m\n\u001b[0;32m      4\u001b[0m \u001b[0mcircle\u001b[0m\u001b[1;33m.\u001b[0m\u001b[0mradius\u001b[0m \u001b[1;33m=\u001b[0m \u001b[1;36m100\u001b[0m\u001b[1;33m\u001b[0m\u001b[1;33m\u001b[0m\u001b[0m\n\u001b[0;32m      5\u001b[0m \u001b[0mprint\u001b[0m\u001b[1;33m(\u001b[0m\u001b[1;34m'cricle.radius : '\u001b[0m\u001b[1;33m,\u001b[0m\u001b[0mcircle\u001b[0m\u001b[1;33m.\u001b[0m\u001b[0mradius\u001b[0m\u001b[1;33m)\u001b[0m\u001b[1;33m\u001b[0m\u001b[1;33m\u001b[0m\u001b[0m\n\u001b[1;32m----> 6\u001b[1;33m \u001b[0mprint\u001b[0m\u001b[1;33m(\u001b[0m\u001b[0mcircle\u001b[0m\u001b[1;33m.\u001b[0m\u001b[0m__radius\u001b[0m\u001b[1;33m)\u001b[0m\u001b[1;33m\u001b[0m\u001b[1;33m\u001b[0m\u001b[0m\n\u001b[0m",
      "\u001b[1;31mAttributeError\u001b[0m: 'Circle' object has no attribute '__radius'"
     ]
    }
   ],
   "source": [
    "circle = Circle(10)\n",
    "print('cricle.radius : ',circle.radius)# private 변수 접근 가능\n",
    "circle.radius = 100\n",
    "print('cricle.radius : ',circle.radius)\n",
    "print(circle.__radius)"
   ]
  },
  {
   "cell_type": "code",
   "execution_count": 50,
   "metadata": {},
   "outputs": [],
   "source": [
    "#  상속 :부모의 속성을 상속\n",
    "class Parent1:\n",
    "    def __init__(self):\n",
    "        self.value1 = '테스트'\n",
    "        print(\"Parent1 class init \")\n",
    "    def test(self):\n",
    "        print('Parent test함수 : ')\n",
    "        \n",
    "class Parent2:\n",
    "    def __init__(self):\n",
    "        self.value2 = '테스트'\n",
    "        print(\"Parent2 class init \")\n",
    "    def test(self):\n",
    "        print('Parent test함수 : ')\n",
    "\n",
    "class Child(Parent1, Parent2):  #상속 클래스 정의 : class 클래스명(상속받을 클래스 명)\n",
    "    def __init__(self):\n",
    "        Parent1.__init__(self) #부모함수 self.value 값 상속 받음\n",
    "        Parent2.__init__(self)\n",
    "        print('Child class init ')\n",
    "    \n",
    "    def child_test(self):\n",
    "        print('Child test 함수 ')\n",
    "    \n",
    "    def test(self): #부모클래스의 테스트 오버라이트\n",
    "        print('child test() 재정의 ')"
   ]
  },
  {
   "cell_type": "code",
   "execution_count": 51,
   "metadata": {},
   "outputs": [
    {
     "name": "stdout",
     "output_type": "stream",
     "text": [
      "Parent1 class init \n",
      "Parent2 class init \n",
      "Child class init \n"
     ]
    }
   ],
   "source": [
    "child = Child()"
   ]
  },
  {
   "cell_type": "code",
   "execution_count": 47,
   "metadata": {},
   "outputs": [
    {
     "name": "stdout",
     "output_type": "stream",
     "text": [
      "Parent class init \n",
      "Child class init \n",
      "child test() 재정의 \n",
      "Child test 함수 \n"
     ]
    }
   ],
   "source": [
    "# parent = Parent()\n",
    "# print(parent.value, parent.test())\n",
    "\n",
    "child = Child() # -> parent ,child의 init print만 나옴\n",
    "child.value # 상속 받은 부모 클래스의 내용도 같이 출력됨\n",
    "child.test() # 상속 받은 부모 클래스의 내용도 같이 출력됨\n",
    "child.child_test()"
   ]
  },
  {
   "cell_type": "code",
   "execution_count": null,
   "metadata": {},
   "outputs": [],
   "source": []
  }
 ],
 "metadata": {
  "kernelspec": {
   "display_name": "Python 3",
   "language": "python",
   "name": "python3"
  },
  "language_info": {
   "codemirror_mode": {
    "name": "ipython",
    "version": 3
   },
   "file_extension": ".py",
   "mimetype": "text/x-python",
   "name": "python",
   "nbconvert_exporter": "python",
   "pygments_lexer": "ipython3",
   "version": "3.7.6"
  }
 },
 "nbformat": 4,
 "nbformat_minor": 4
}
