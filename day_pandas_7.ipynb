{
 "cells": [
  {
   "cell_type": "markdown",
   "metadata": {},
   "source": [
    "# 시리즈 : 1차원 배열 -> 인덱스와 값이 존재"
   ]
  },
  {
   "cell_type": "code",
   "execution_count": null,
   "metadata": {},
   "outputs": [],
   "source": [
    "import pandas as pd #pandas의 자료구조는 series와 dataframe이 존재"
   ]
  },
  {
   "cell_type": "code",
   "execution_count": null,
   "metadata": {},
   "outputs": [],
   "source": [
    "dict_data = {'a':1, 'b':2, 'c':3} #Series(dict or list)\n",
    "list_data = [1,2,3]\n",
    "\n",
    "srl = pd.Series(list_data)\n",
    "srd = pd.Series(dict_data)\n",
    "print(type(dict_data),dict_data)\n",
    "print(type(srd),'\\n',srd)\n",
    "\n",
    "print(type(list_data), list_data)\n",
    "print(type(srl),'\\n',srl)"
   ]
  },
  {
   "cell_type": "code",
   "execution_count": null,
   "metadata": {},
   "outputs": [],
   "source": [
    "# 인덱스 확인\n",
    "print('srd.index : ',srd.index)\n",
    "print('srl.index : ',srl.index)\n",
    "\n",
    "# 시리즈의 값을 확인\n",
    "print('srd.values : ',srd.values)\n",
    "print('srl.values : ',srl.values)"
   ]
  },
  {
   "cell_type": "code",
   "execution_count": null,
   "metadata": {},
   "outputs": [],
   "source": [
    "# 각 자료의 원소 선택\n",
    "# srl[idx_stat:idx_end] start 포함, end 포함하지않음\n",
    "sr_data = pd.Series(list(range(10)))\n",
    "print(sr_data)\n",
    "print(sr_data[:3])"
   ]
  },
  {
   "cell_type": "code",
   "execution_count": null,
   "metadata": {},
   "outputs": [],
   "source": [
    "sr_key = pd.Series({'a': 1, 'b': 2, 'c': 3, 'd':4, 'e':5})"
   ]
  },
  {
   "cell_type": "code",
   "execution_count": null,
   "metadata": {},
   "outputs": [],
   "source": [
    "print(sr_key[['a','b']]) # 값을 여러개로 출력하고 싶으면 [['키1','키2',...]]로 출력\n",
    "print(sr_key[[0,2]])\n",
    "\n",
    "print(sr_key['a':'c']) # 인덱스 명 :'c' 를 포함\n",
    "print(sr_key[0:2])  #인덱스 첨자는 2를 포함하지 않음"
   ]
  },
  {
   "cell_type": "code",
   "execution_count": null,
   "metadata": {},
   "outputs": [],
   "source": [
    "sr_list = pd.Series(list(range(5)), index=['a','b','c','d','x'])\n",
    "sr_list\n",
    "# sr_list = pd.Series(list(range(10)), index=[for x in 'abcdefghij'])"
   ]
  },
  {
   "cell_type": "code",
   "execution_count": null,
   "metadata": {},
   "outputs": [],
   "source": [
    "# 마지막 자료를 출력 : 인덱스명과 첨자 둘다 사용\n",
    "print(sr_list['x'])\n",
    "print(sr_list[-1])\n",
    "print()\n",
    "# 1번째부터 3번째 까지의 자료 출력\n",
    "print(sr_list['a':'c'])\n",
    "print(sr_list[0:3])\n",
    "print()\n",
    "# 인덱스명 'b'와 'd'의 값을 출력\n",
    "print(sr_list[['b','d']])\n",
    "print(sr_list[[1,3]])"
   ]
  },
  {
   "cell_type": "code",
   "execution_count": null,
   "metadata": {},
   "outputs": [],
   "source": [
    "# dataframe : 2차원, pandas.DataFrmae(data(2차원), [index= ], [colums =])\n",
    "# dictionary 데이터로 데이터 프레임 생성\n",
    "dict_data = {'c0':[1,2,3], 'c1':[4,5,6], 'c2':[7,8,9]}# key -> colum name\n",
    "df = pd.DataFrame(dict_data)\n",
    "print(df)\n"
   ]
  },
  {
   "cell_type": "code",
   "execution_count": null,
   "metadata": {},
   "outputs": [],
   "source": [
    "# dtatframe -> index 명과 colum 명을 부여\n",
    "df = pd.DataFrame([[15,'남','수리중'], [17,'여','덕명중']],\n",
    "                 index=['준서','예은'],\n",
    "                 columns = ['나이', '성별', '학교'])\n",
    "# pd.DataFrame([[],[]],index = [], columns =[])\n",
    "df"
   ]
  },
  {
   "cell_type": "code",
   "execution_count": null,
   "metadata": {},
   "outputs": [],
   "source": [
    "# 인덱스명을 변경 -> 행인덱스, 열 이름\n",
    "# 객체명.index = 새로운 인덱스명\n",
    "# 객체명.column = 새로운 칼럼명\n",
    "df.index = ['a','b']\n",
    "df.columns = ['연령','남/여','소속']  #df.column -> warning(해석은 해주나 고치는게 좋다)\n",
    "df"
   ]
  },
  {
   "cell_type": "code",
   "execution_count": null,
   "metadata": {},
   "outputs": [],
   "source": [
    "# 일부 인덱스 명만 수정\n",
    "# 객체명.rename(index = {기존인덱스:새로운인덱스, ...})\n",
    "# 객체명.rename(columns = {기존컬럼명:새로운 컬럼명, ...})\n",
    "# '남녀'를 '성별'로, 'a' -> '준서'\n",
    "df.rename(index = {'a':'준서'}, columns = {'남/여':'성별'},inplace=True)\n",
    "#inplace=True를 넣으면 완전히 바꾼다.\n",
    "df"
   ]
  },
  {
   "cell_type": "code",
   "execution_count": null,
   "metadata": {},
   "outputs": [],
   "source": [
    "# 행 삭제 객체.drop(행인덱스 또는 배열, axis=0) axis=0-> 가로축\n",
    "# 열 삭제-> 객체.drop(열이름 또는 배열, axis=1) axis=1-> 세로축\n",
    "print(df)\n",
    "df.drop('a',axis = 0, inplace = True)\n",
    "df.drop('남/여',axis = 1)"
   ]
  },
  {
   "cell_type": "code",
   "execution_count": null,
   "metadata": {},
   "outputs": [],
   "source": [
    "# 이름 국어, 영어, 수학, 과학 점수를 입력받아 \n",
    "# dictionary에 저장한 후\n",
    "# 해당 자료를 데이터 프레임으로 전환 ->인덱스명 이름"
   ]
  },
  {
   "cell_type": "code",
   "execution_count": null,
   "metadata": {},
   "outputs": [],
   "source": [
    "\n",
    "n_list = []\n",
    "s_list = []\n",
    "def create_student():\n",
    "    while True:\n",
    "        name = input('이름을 입력하시오> ')\n",
    "        if name == 'q':\n",
    "            break\n",
    "        if name in n_list:\n",
    "            print('처음부터 다시 입력')\n",
    "            s_list.clear()\n",
    "            n_list.clear()\n",
    "            continue\n",
    "        n_list.append(name)\n",
    "        score = list(map(int, input('국어 영어 수학 과학> ').split()))\n",
    "        if len(score) != 4:\n",
    "            print('처음부터 다시 입력')\n",
    "            s_list.clear()\n",
    "            n_list.clear()\n",
    "            continue\n",
    "        s_list.append(score)\n",
    "         # extend(a)를 사용하면 a가 리스트여도\n",
    "#                                   a의 각 요소가 원하는 리스트에 요소로들어감\n",
    "        \n",
    "    return s_list, n_list"
   ]
  },
  {
   "cell_type": "code",
   "execution_count": null,
   "metadata": {},
   "outputs": [],
   "source": [
    "n_list.clear()\n",
    "s_list.clear()\n",
    "create_student()"
   ]
  },
  {
   "cell_type": "code",
   "execution_count": null,
   "metadata": {},
   "outputs": [],
   "source": [
    "df = pd.DataFrame(s_list,index = n_list, columns = ['국어','영어','수학',\n",
    "                                                   '과학'])\n",
    "df"
   ]
  },
  {
   "cell_type": "markdown",
   "metadata": {},
   "source": [
    "- 데이터프레임은 2차원: 시리즈가 여러 개\n",
    "- pandas.DataFrame(2차원배열 또는 딕셔너리, index=, columns=)\n",
    "- 딕셔너리는 key 가 컬럼명으로 됨\n",
    "- 딕셔너리의 키를 인덱스명으로 지정하면서 데이터 프레임으로 변환\n",
    "  --pandas.DataFrame.from_dict(딕셔너리데이터,origin='index')\n",
    "- 데이터프래임의 특정 칼럼을 인덱스로 변환\n",
    "  -- 데이터프레임.set_index('컬럼명')\n",
    "  \n",
    "- 인덱스를 변경 : 데이터프레임.index = [인덱스명, ...]\n",
    "- 컬럼명을 변경 : 데이터프레임.columns = [컬럼명, ...]\n",
    "- 일부 인덱스 이름 변경 : 데이터프레임.rename(index={old_idx:new_idx,...},\n",
    "   inplace = True)\n",
    "   \n",
    "- 일부 컬럼명을 변경 : 데이터프레임.rename(columns={old_col:new_col,...},\n",
    "  inplace = True)\n",
    "- 행 삭제 객체.drop(행인덱스 또는 배열, axis=0) axis=0-> 가로축\n",
    "- 열 삭제-> 객체.drop(열이름 또는 배열, axis=1) axis=1-> 세로축"
   ]
  },
  {
   "cell_type": "code",
   "execution_count": null,
   "metadata": {},
   "outputs": [],
   "source": [
    "a = [1,2,3,4]\n",
    "b = a.copy()"
   ]
  },
  {
   "cell_type": "code",
   "execution_count": null,
   "metadata": {},
   "outputs": [],
   "source": [
    "# 데이터프레임 원소 선택\n",
    "exam_data = {'수학':[90,80,70], '영어':[99,89,95], '음악':[85,95,100],\n",
    "            '체육':[100,90,100]}\n",
    "df = pd.DataFrame(exam_data, index=['서준','우현','인아'])\n",
    "print(df)"
   ]
  },
  {
   "cell_type": "code",
   "execution_count": null,
   "metadata": {},
   "outputs": [],
   "source": [
    "# 행 인덱스(이름)를 사용하여 1개 행 선택 ('서준')\n",
    "print(df.loc['서준'])\n",
    "# 행 인덱스(정수)를 사용하여 1개 행 선택 (0행)\n",
    "print(df.iloc[0])\n",
    "\n",
    "# 두개의 행을 선택 '서준','우현'\n",
    "print(df.loc[['서준','우현']])\n",
    "print(df.iloc[[0,1]]) #여러개 선택은 리스트로! 숫자는 iloc\n",
    "\n",
    "# 범위를 선택 '서준':'우현'\n",
    "print(df.loc['서준':'우현'])\n",
    "print(df.iloc[0:1])"
   ]
  },
  {
   "cell_type": "code",
   "execution_count": null,
   "metadata": {},
   "outputs": [],
   "source": [
    "# 컬럼(열)을 선택 df.컬럼명 또는 df['컬럼명']\n",
    "print(df.수학,'\\n', df['영어'])\n",
    "print(df[['수학','음악']])"
   ]
  },
  {
   "cell_type": "code",
   "execution_count": null,
   "metadata": {},
   "outputs": [],
   "source": [
    "# 범위 슬라이싱 : 객체.iloc[start : end : step]\n",
    "print(df.iloc[0:3:1])# 처음 부터 2까지 1씩 증가\n",
    "print(df.iloc[::-1]) #처음 부터 끝까지 뒤에서 부터\n",
    "df.iloc[::2] # 처음 부터 끝까지 2씩 증가"
   ]
  },
  {
   "cell_type": "code",
   "execution_count": null,
   "metadata": {},
   "outputs": [],
   "source": [
    "# 데이터프레임의 각 원소 선택\n",
    "# 인덱스 이름 : 데이터플임 객체.loc[인덱스명,컬럼명]\n",
    "# 정수 위치 인덱스 : 데이터플임 객체.iloc[행 번호,열 번호]\n",
    "# 서준의 영어 점수를 출력\n",
    "import pandas as pd\n",
    "print(df.loc['서준','영어'],df.iloc[0,1])\n",
    "\n",
    "# 서준과 인아의 영어와 음악점수를 출력\n",
    "df.loc[['서준','인아'],['영어','음악']]\n",
    "# 서준부터 인아까지, 수학 부터 음악까지\n",
    "df.loc['서준':'인아','수학':'음악']\n",
    "\n",
    "# 서준의 수학과 체육점수만출력\n",
    "df.loc['서준',['수학','체육']] # 1 차원 반환 (시리즈)\n",
    "# df.loc[['서준'],['수학','체육']] 2차원 반환 (데이터 프레임)\n",
    "df.iloc[0,[0,3]]\n",
    "df.loc['철수'] = [80,90,90,100]\n",
    "df\n",
    "# 새로운 열 추가 : 데이터프레임 객체['컬럼명'] = 값\n",
    "df['국어'] = [100,80,90,100]\n",
    "df\n",
    "# 기존의 행을 복사해서 추가\n",
    "# df.loc['추가'] = df.loc['서준']\n",
    "# df   -> error 발생 df.loc['서준']은 점수 4개 하지만 위에서 국어를 추가하면서\n",
    "# 점수가 5개인 상황이 되므로 4개 짜리 데이터는 추가 안됨"
   ]
  },
  {
   "cell_type": "code",
   "execution_count": null,
   "metadata": {},
   "outputs": [],
   "source": [
    "# 기존의 행을 복사해서 추가\n",
    "df.loc['추가'] = df.loc['서준']\n",
    "df"
   ]
  },
  {
   "cell_type": "code",
   "execution_count": null,
   "metadata": {},
   "outputs": [],
   "source": [
    "# 이름, 국어 ,영어 ,수학 ,점수를 입력받아 이름을 인덱스로 데이터프레임에 저장\n",
    "def create_score():\n",
    "    while True:\n",
    "        name = input('이름을 입력하시오> ')\n",
    "        if name == 'q':\n",
    "            break\n",
    "        if name in df.index: \n",
    "            print('처음부터 다시 입력')\n",
    "            continue\n",
    "        score = list(map(int, input('국어 영어 수학 > ').split()))\n",
    "        if len(score) != 3:\n",
    "            print('처음부터 다시 입력')\n",
    "            continue\n",
    "        df.loc[name] = score"
   ]
  },
  {
   "cell_type": "code",
   "execution_count": null,
   "metadata": {},
   "outputs": [],
   "source": [
    "# 이름을 입력받아 데이터프레임의 자료를 검색해서 출력 search_score    \n",
    "def search_score():\n",
    "    print('이름으로 점수 찾기')\n",
    "    while True:\n",
    "        name = input('이름을 입력하시오>')\n",
    "        if name == 'q':\n",
    "            break\n",
    "        if not name in df.index:\n",
    "            return print('자료없음')\n",
    "        else: \n",
    "            return print(df.loc[name])"
   ]
  },
  {
   "cell_type": "code",
   "execution_count": null,
   "metadata": {},
   "outputs": [],
   "source": [
    "# 이름과 과목을 입력 받아 데이터 출력 search_title()\n",
    "def search_title():\n",
    "    print('이름과 과목 점수 찾기')\n",
    "    name = input('이름을 입력하시오>')\n",
    "    if not name in df.index:\n",
    "        return print('자료없음')\n",
    "    a_list = ['kor','eng','math']\n",
    "    data = input('과목을 입력하시오')\n",
    "    if not data in df.columns:\n",
    "        return print('자료없음')\n",
    "    return print(df.loc[name, data])"
   ]
  },
  {
   "cell_type": "code",
   "execution_count": null,
   "metadata": {},
   "outputs": [],
   "source": [
    "# 자료추가  add_score()\n",
    "def add_score():\n",
    "    print('이름과 점수 추가')\n",
    "    name = input('이름을 입력하시오>')\n",
    "    score = list(map(int,input('국어 영어 수학 입력>').split()))\n",
    "    if len(score) != 3:\n",
    "        return None   \n",
    "    df.loc[name]=score\n",
    "    return print(df)"
   ]
  },
  {
   "cell_type": "code",
   "execution_count": null,
   "metadata": {},
   "outputs": [],
   "source": [
    "# 이름과 과목을 입력받아 점수를 출력한 후 새로운 점수를 입력받아 데이터 수정\n",
    "def score_correction():\n",
    "    name = input('이름을 입력하시오>')\n",
    "    if not name in df.index:\n",
    "        return print('자료없음')\n",
    "    \n",
    "    data = input('과목을 입력하시오')\n",
    "    if not data in df.columns:\n",
    "        return print('자료없음')\n",
    "    \n",
    "    score = input('점수입력')\n",
    "    df.loc[name, data] = score\n",
    "    \n",
    "    return df"
   ]
  },
  {
   "cell_type": "code",
   "execution_count": null,
   "metadata": {},
   "outputs": [],
   "source": [
    "df = pd.DataFrame(columns = ['kor','eng','math'])\n",
    "df"
   ]
  },
  {
   "cell_type": "code",
   "execution_count": null,
   "metadata": {},
   "outputs": [],
   "source": [
    "# n_list = []\n",
    "# s_list = []\n",
    "# n_list.clear()\n",
    "# s_list.clear()\n",
    "create_score()"
   ]
  },
  {
   "cell_type": "code",
   "execution_count": null,
   "metadata": {},
   "outputs": [],
   "source": [
    "search_score()\n",
    "search_title()\n",
    "add_score()"
   ]
  },
  {
   "cell_type": "code",
   "execution_count": null,
   "metadata": {},
   "outputs": [],
   "source": [
    "df"
   ]
  },
  {
   "cell_type": "code",
   "execution_count": null,
   "metadata": {},
   "outputs": [],
   "source": [
    "score_correction()"
   ]
  },
  {
   "cell_type": "code",
   "execution_count": null,
   "metadata": {},
   "outputs": [],
   "source": [
    "# 열 삭제-> 객체.drop(열이름 또는 배열, axis=1) axis=1-> 세로축\n",
    "df.drop(df.columns[3], axis=1, inplace=True)\n",
    "df"
   ]
  },
  {
   "cell_type": "code",
   "execution_count": null,
   "metadata": {},
   "outputs": [],
   "source": []
  },
  {
   "cell_type": "code",
   "execution_count": null,
   "metadata": {},
   "outputs": [],
   "source": []
  }
 ],
 "metadata": {
  "kernelspec": {
   "display_name": "Python 3",
   "language": "python",
   "name": "python3"
  },
  "language_info": {
   "codemirror_mode": {
    "name": "ipython",
    "version": 3
   },
   "file_extension": ".py",
   "mimetype": "text/x-python",
   "name": "python",
   "nbconvert_exporter": "python",
   "pygments_lexer": "ipython3",
   "version": "3.7.6"
  }
 },
 "nbformat": 4,
 "nbformat_minor": 4
}
