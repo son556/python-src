{
 "cells": [
  {
   "cell_type": "code",
   "execution_count": null,
   "metadata": {},
   "outputs": [],
   "source": [
    "# 이름 전화번로를 파일에 저장하는 프로그램 작성\n",
    "# 파일 이름을 \"dataset/tellno.txt\", 기존에 파일 존재시 데이터 추가로\n",
    "# 전화번호 입력은 숫자 3개를 입력받아 123-456-789 형식으로 저장,\n",
    "# 이름과 전화번호는 ''분리해서 저장\n",
    "# 저장이 끝나면 파일을 닫고\n",
    "# 다시 파일을 open -> 'r'\n",
    "# 파일의 내용을 화면에 출력\n",
    "# --홍길동 123-456-7890\n",
    "#try except finally 사용\n"
   ]
  },
  {
   "cell_type": "code",
   "execution_count": 11,
   "metadata": {},
   "outputs": [],
   "source": [
    "def file_open(file_path,file_name, file_mode):\n",
    "    try:\n",
    "        f_name = file_path + file_name\n",
    "        file = open(f_name, file_mode)\n",
    "        return file\n",
    "    except Exception as ex:    \n",
    "        import os\n",
    "        os.mkdir(file_path)\n",
    "        file = open(f_name, file_mode)\n",
    "        return file\n",
    "\n",
    "def input_no(file, f_name):\n",
    "    file.seek(2,0)\n",
    "    try:\n",
    "        while True:\n",
    "            numname = input('이름과 전화번호 ex)홍길동 111 1111 1111>').split()\n",
    "            name = numname[0]\n",
    "            if name == 'q':\n",
    "                break\n",
    "            if name in f_name:\n",
    "                continue\n",
    "            num = numname[1:]\n",
    "            file.write(name+' '+num[0]+'-'+num[1]+'-'+num[2]+'\\n')\n",
    "            print()\n",
    "    except ValueError as ex:\n",
    "        print('다시 입력하시오')\n",
    "        return file\n",
    "    except IndexError as ex:\n",
    "        print('다시 입력하시오')\n",
    "        return file\n",
    "    finally:\n",
    "        file.close()\n",
    "    \n",
    "def name_search(file):# 찾을때는 파일을 가져와서 저장\n",
    "    s_name = input('이름을 입력하세요>')\n",
    "    for line in file:\n",
    "        f_data = line.split()\n",
    "        if f_data[0] == s_name:\n",
    "            return s_name, f_data[1]\n",
    "        return None, None"
   ]
  },
  {
   "cell_type": "code",
   "execution_count": 9,
   "metadata": {},
   "outputs": [],
   "source": [
    "# with open('./dataset/telno', 'w+') as file:\n",
    "def file_list(file):\n",
    "    file.seek(0,0)\n",
    "    file_name = []\n",
    "    for line in file:\n",
    "        file_name.append(line[0])\n",
    "    return file_name"
   ]
  },
  {
   "cell_type": "code",
   "execution_count": 13,
   "metadata": {},
   "outputs": [
    {
     "name": "stdout",
     "output_type": "stream",
     "text": [
      "이름과 전화번호 ex)홍길동 111 1111 1111>d 333 333 333\n",
      "\n",
      "이름과 전화번호 ex)홍길동 111 1111 1111>q\n"
     ]
    }
   ],
   "source": [
    "file_path = 'dataset'\n",
    "file_name = '/telno.txt'\n",
    "file = file_open(file_path, file_name, 'a+')\n",
    "f_name_list  = file_list(file)\n",
    "input_no(file, f_name_list)"
   ]
  },
  {
   "cell_type": "code",
   "execution_count": 6,
   "metadata": {},
   "outputs": [
    {
     "name": "stdout",
     "output_type": "stream",
     "text": [
      "이름을 입력하세요>b\n",
      "이름을 입력하세요>b\n",
      "--b 222-222-222\n"
     ]
    }
   ],
   "source": [
    "file = file_open(file_path, file_name, 'r')\n",
    "name_search(file)\n",
    "name, num = name_search(file)\n",
    "if name:\n",
    "    print('--{} {}'.format(name,num))\n",
    "else:\n",
    "    print('None')"
   ]
  },
  {
   "cell_type": "code",
   "execution_count": null,
   "metadata": {},
   "outputs": [],
   "source": [
    "file.close()"
   ]
  },
  {
   "cell_type": "code",
   "execution_count": null,
   "metadata": {},
   "outputs": [],
   "source": [
    "import os\n",
    "os.getcwd() # 현재 작업하고 있는 경로\n",
    "os.listdir()"
   ]
  }
 ],
 "metadata": {
  "kernelspec": {
   "display_name": "Python 3",
   "language": "python",
   "name": "python3"
  },
  "language_info": {
   "codemirror_mode": {
    "name": "ipython",
    "version": 3
   },
   "file_extension": ".py",
   "mimetype": "text/x-python",
   "name": "python",
   "nbconvert_exporter": "python",
   "pygments_lexer": "ipython3",
   "version": "3.7.6"
  }
 },
 "nbformat": 4,
 "nbformat_minor": 4
}
